{
 "cells": [
  {
   "cell_type": "code",
   "execution_count": 140,
   "metadata": {},
   "outputs": [],
   "source": [
    "import pydot\n",
    "\n",
    "graph = pydot.Dot(rankdir='RL', bgcolor='lightgray', color='#gray')\n",
    "\n",
    "cluster = pydot.Cluster('Sketches', label='Sketches')  # ./Sketches\n",
    "cluster.add_node(pydot.Node('./Sketches/Sketches.FCStd', URL='./AssemblyCNC.FCStd'))\n",
    "graph.add_subgraph(cluster)\n",
    "\n",
    "cluster = pydot.Cluster('Parts', label=\"Parts\")  # ./Parts\n",
    "cluster.add_node(pydot.Node('./Parts/Nut.FCStd'))\n",
    "cluster.add_node(pydot.Node('./Parts/Bearing.FCStd'))\n",
    "cluster.add_edge(pydot.Edge('./Parts/Bearing.FCStd', './Parts/Nut.FCStd'))\n",
    "cluster.add_node(pydot.Node('./Parts/LeadScrewNut.FCStd'))\n",
    "cluster.add_edge(pydot.Edge('./Parts/LeadScrewNut.FCStd', './Parts/Nut.FCStd'))\n",
    "cluster.add_node(pydot.Node('./Parts/Engine.FCStd'))\n",
    "graph.add_subgraph(cluster)\n",
    "\n",
    "cluster = pydot.Cluster('XYZAxisSlider', label='XYZAxisSlider')  # ./XYZAxisSlider\n",
    "cluster.add_node(pydot.Node('./XYZAxisSlider/AngleProfile.FCStd'))\n",
    "cluster.add_edge(pydot.Edge('./XYZAxisSlider/AngleProfile.FCStd', './Sketches/Sketches.FCStd'))\n",
    "cluster.add_node(pydot.Node('./XYZAxisSlider/Screws.FCStd'))\n",
    "cluster.add_node(pydot.Node('./XYZAxisSlider/XYZAxisSliderAssembly.FCStd'))\n",
    "cluster.add_edge(pydot.Edge('./XYZAxisSlider/XYZAxisSliderAssembly.FCStd', './XYZAxisSlider/AngleProfile.FCStd'))\n",
    "cluster.add_edge(pydot.Edge('./XYZAxisSlider/XYZAxisSliderAssembly.FCStd', './XYZAxisSlider/Screws.FCStd'))\n",
    "cluster.add_edge(pydot.Edge('./XYZAxisSlider/XYZAxisSliderAssembly.FCStd', './Parts/LeadScrewNut.FCStd'))\n",
    "cluster.add_edge(pydot.Edge('./XYZAxisSlider/XYZAxisSliderAssembly.FCStd', './Parts/Bearing.FCStd'))\n",
    "cluster.add_edge(pydot.Edge('./XYZAxisSlider/XYZAxisSliderAssembly.FCStd', './Parts/Nut.FCStd'))\n",
    "graph.add_subgraph(cluster)\n",
    "\n",
    "cluster = pydot.Cluster('XYZAxis', label='XYZAxis')  # ./XYZAxis\n",
    "cluster.add_node(pydot.Node('./XYZAxis/SquareProfile.FCStd'))\n",
    "cluster.add_edge(pydot.Edge('./XYZAxis/SquareProfile.FCStd', './Sketches/Sketches.FCStd'))\n",
    "cluster.add_node(pydot.Node('./XYZAxis/LeadScrew.FCStd'))\n",
    "cluster.add_node(pydot.Node('./XYZAxis/Spacer.FCStd'))\n",
    "cluster.add_edge(pydot.Edge('./XYZAxis/Spacer.FCStd', './Sketches/Sketches.FCStd'))\n",
    "cluster.add_edge(pydot.Edge('./XYZAxis/Spacer.FCStd', './Parts/Nut.FCStd'))\n",
    "cluster.add_node(pydot.Node('./XYZAxis/Support.FCStd'))\n",
    "cluster.add_edge(pydot.Edge('./XYZAxis/Support.FCStd', './Sketches/Sketches.FCStd'))\n",
    "cluster.add_node(pydot.Node('./XYZAxis/Screws.FCStd'))\n",
    "cluster.add_node(pydot.Node('./XYZAxis/XYZAxisAssembly.FCStd'))\n",
    "cluster.add_edge(pydot.Edge('./XYZAxis/XYZAxisAssembly.FCStd', './XYZAxis/SquareProfile.FCStd'))\n",
    "cluster.add_edge(pydot.Edge('./XYZAxis/XYZAxisAssembly.FCStd', './XYZAxis/LeadScrew.FCStd'))\n",
    "cluster.add_edge(pydot.Edge('./XYZAxis/XYZAxisAssembly.FCStd', './XYZAxis/Spacer.FCStd'))\n",
    "cluster.add_edge(pydot.Edge('./XYZAxis/XYZAxisAssembly.FCStd', './Parts/Engine.FCStd'))\n",
    "cluster.add_edge(pydot.Edge('./XYZAxis/XYZAxisAssembly.FCStd', './XYZAxis/Support.FCStd'))\n",
    "cluster.add_edge(pydot.Edge('./XYZAxis/XYZAxisAssembly.FCStd', './XYZAxis/Screws.FCStd'))\n",
    "cluster.add_edge(pydot.Edge('./XYZAxis/XYZAxisAssembly.FCStd', './Parts/Nut.FCStd'))\n",
    "graph.add_subgraph(cluster)\n",
    "\n",
    "graph.add_node(pydot.Node('./CNCAssembly.FCStd'))\n",
    "graph.add_edge(pydot.Edge('./CNCAssembly.FCStd', './XYZAxis/XYZAxisAssembly.FCStd'))\n",
    "graph.add_edge(pydot.Edge('./CNCAssembly.FCStd', './XYZAxisSlider/XYZAxisSliderAssembly.FCStd'))\n",
    "\n",
    "graph.write_svg('./CNCDiagram.svg')\n",
    "graph.write_pdf('./CNCDiagram.pdf')\n"
   ]
  }
 ],
 "metadata": {
  "kernelspec": {
   "display_name": "Python 3.10.4 64-bit",
   "language": "python",
   "name": "python3"
  },
  "language_info": {
   "codemirror_mode": {
    "name": "ipython",
    "version": 3
   },
   "file_extension": ".py",
   "mimetype": "text/x-python",
   "name": "python",
   "nbconvert_exporter": "python",
   "pygments_lexer": "ipython3",
   "version": "3.10.4"
  },
  "orig_nbformat": 4,
  "vscode": {
   "interpreter": {
    "hash": "916dbcbb3f70747c44a77c7bcd40155683ae19c65e1c03b4aa3499c5328201f1"
   }
  }
 },
 "nbformat": 4,
 "nbformat_minor": 2
}
