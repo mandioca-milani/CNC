{
 "cells": [
  {
   "cell_type": "code",
   "execution_count": 1,
   "metadata": {},
   "outputs": [],
   "source": [
    "import pydot\n",
    "\n",
    "graph = pydot.Dot(rankdir='TB')\n",
    "\n",
    "graph.add_node(pydot.Node('./Parts/Sketches.FCStd'))\n",
    "graph.add_node(pydot.Node('./Parts/Fasteners.FCStd'))\n",
    "\n",
    "graph.add_node(pydot.Node('./AxisSlider/AxisSliderParts.FCStd'))\n",
    "graph.add_edge(pydot.Edge('./AxisSlider/AxisSliderParts.FCStd', './Parts/Sketches.FCStd'))\n",
    "graph.add_edge(pydot.Edge('./AxisSlider/AxisSliderParts.FCStd', './Parts/Fasteners.FCStd'))\n",
    "graph.add_node(pydot.Node('./AxisSlider/AxisSliderAssembly.FCStd'))\n",
    "graph.add_edge(pydot.Edge('./AxisSlider/AxisSliderAssembly.FCStd', './AxisSlider/AxisSliderParts.FCStd'))\n",
    "\n",
    "graph.add_node(pydot.Node('./Axis/AxisParts.FCStd'))\n",
    "graph.add_edge(pydot.Edge('./Axis/AxisParts.FCStd', './Parts/Sketches.FCStd'))\n",
    "graph.add_edge(pydot.Edge('./Axis/AxisParts.FCStd', './Parts/Fasteners.FCStd'))\n",
    "graph.add_node(pydot.Node('./Axis/AxisEngine.FCStd'))\n",
    "graph.add_edge(pydot.Edge('./Axis/AxisEngine.FCStd', './Parts/Sketches.FCStd'))\n",
    "graph.add_edge(pydot.Edge('./Axis/AxisEngine.FCStd', './Parts/Fasteners.FCStd'))\n",
    "graph.add_node(pydot.Node('./Axis/AxisAssembly.FCStd'))\n",
    "graph.add_edge(pydot.Edge('./Axis/AxisAssembly.FCStd', './Axis/AxisParts.FCStd'))\n",
    "graph.add_edge(pydot.Edge('./Axis/AxisAssembly.FCStd', './Axis/AxisEngine.FCStd'))\n",
    "\n",
    "graph.add_node(pydot.Node('./CNCAssembly.FCStd'))\n",
    "graph.add_edge(pydot.Edge('./CNCAssembly.FCStd', './Axis/AxisAssembly.FCStd'))\n",
    "graph.add_edge(pydot.Edge('./CNCAssembly.FCStd', './AxisSlider/AxisSliderAssembly.FCStd'))\n",
    "\n",
    "graph.write_svg('./CNCDiagram.svg')\n"
   ]
  }
 ],
 "metadata": {
  "kernelspec": {
   "display_name": "Python 3.10.4 64-bit",
   "language": "python",
   "name": "python3"
  },
  "language_info": {
   "codemirror_mode": {
    "name": "ipython",
    "version": 3
   },
   "file_extension": ".py",
   "mimetype": "text/x-python",
   "name": "python",
   "nbconvert_exporter": "python",
   "pygments_lexer": "ipython3",
   "version": "3.10.4"
  },
  "orig_nbformat": 4,
  "vscode": {
   "interpreter": {
    "hash": "916dbcbb3f70747c44a77c7bcd40155683ae19c65e1c03b4aa3499c5328201f1"
   }
  }
 },
 "nbformat": 4,
 "nbformat_minor": 2
}
