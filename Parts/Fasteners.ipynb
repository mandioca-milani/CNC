{
 "cells": [
  {
   "cell_type": "code",
   "execution_count": 8,
   "metadata": {},
   "outputs": [],
   "source": [
    "# Document\n",
    "\n",
    "for doc in App.listDocuments():\n",
    "    App.closeDocument(doc)\n",
    "\n",
    "if os.path.isfile(os.getcwd() + '/Parts/Fasteners.FCStd'):\n",
    "    App.openDocument(os.getcwd() + '/Parts/Fasteners.FCStd')\n",
    "else:\n",
    "    App.newDocument('Fasteners')\n",
    "    App.ActiveDocument.saveAs(os.getcwd() + '/Parts/Fasteners.FCStd')\n",
    "\n",
    "Gui.activateWorkbench('FastenersWorkbench')\n"
   ]
  },
  {
   "cell_type": "code",
   "execution_count": 13,
   "metadata": {},
   "outputs": [],
   "source": [
    "# M3x25-Screw\n",
    "\n",
    "if not App.ActiveDocument.getObjectsByLabel('M3x25-Screw'):\n",
    "    Gui.runCommand('FSISO4762', 0)\n",
    "    App.ActiveDocument.getObjectsByLabel('M6x8-Screw')[0].diameter = u'M3'\n",
    "    App.ActiveDocument.getObjectsByLabel('M6x8-Screw')[0].length = u'25'\n",
    "    App.ActiveDocument.recompute()\n",
    "\n",
    "# App.ActiveDocument.getObjectsByLabel('M3x25-Screw')[0]\n"
   ]
  },
  {
   "cell_type": "code",
   "execution_count": 4,
   "metadata": {},
   "outputs": [],
   "source": [
    "# M3x5xCustom-Spacer\n",
    "\n",
    "if not App.ActiveDocument.getObjectsByLabel('M3x5xCustom-Spacer'):\n",
    "    Gui.runCommand('FSPcbSpacer', 0)\n",
    "    App.ActiveDocument.getObjectsByLabel('M5x8x10-Spacer')[0].diameter = u'M3'\n",
    "    App.ActiveDocument.getObjectsByLabel('M5x8x10-Spacer')[0].length = u'Custom'\n",
    "    App.ActiveDocument.getObjectsByLabel('M5x8x10-Spacer')[0].lengthCustom = u'50 mm'\n",
    "    App.ActiveDocument.recompute()\n",
    "\n",
    "    App.ActiveDocument.getObjectsByLabel('M3x5.5xCustom-Spacer')[0].width = u'5'\n",
    "    App.ActiveDocument.recompute()\n",
    "\n",
    "# App.ActiveDocument.getObjectsByLabel('M3x5xCustom-Spacer')[0]\n"
   ]
  },
  {
   "cell_type": "code",
   "execution_count": 11,
   "metadata": {},
   "outputs": [],
   "source": [
    "# Save\n",
    "\n",
    "Gui.ActiveDocument.activeView().viewDefaultOrientation()\n",
    "Gui.SendMsgToActiveView('ViewFit')\n",
    "App.ActiveDocument.save()\n"
   ]
  }
 ],
 "metadata": {
  "kernelspec": {
   "display_name": "FreeCAD",
   "language": "",
   "name": "freecad"
  },
  "language_info": {
   "file_extension": ".py",
   "mimetype": "text/x-python",
   "name": "python"
  },
  "orig_nbformat": 4,
  "vscode": {
   "interpreter": {
    "hash": "916dbcbb3f70747c44a77c7bcd40155683ae19c65e1c03b4aa3499c5328201f1"
   }
  }
 },
 "nbformat": 4,
 "nbformat_minor": 2
}
