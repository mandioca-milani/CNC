{
 "cells": [
  {
   "cell_type": "markdown",
   "metadata": {},
   "source": [
    "# Document"
   ]
  },
  {
   "cell_type": "code",
   "execution_count": 103,
   "metadata": {},
   "outputs": [],
   "source": [
    "# Document\n",
    "\n",
    "for doc in App.listDocuments():\n",
    "    App.closeDocument(doc)\n",
    "\n",
    "\n",
    "App.newDocument('Sketches')\n",
    "\n",
    "Gui.ActiveDocument.ActiveView.viewDefaultOrientation()\n",
    "Gui.activateWorkbench(\"PartDesignWorkbench\")\n",
    "\n",
    "App.ActiveDocument.saveAs('./Parts/Sketches.FCStd')\n"
   ]
  },
  {
   "cell_type": "markdown",
   "metadata": {},
   "source": [
    "# BodySquareProfileSketch"
   ]
  },
  {
   "cell_type": "code",
   "execution_count": 104,
   "metadata": {},
   "outputs": [],
   "source": [
    "# BodySquareProfileSketch\n",
    "\n",
    "if App.ActiveDocument.getObject('BodySquareProfileSketch'):\n",
    "    App.ActiveDocument.getObject('BodySquareProfileSketch').removeObjectsFromDocument()\n",
    "    App.ActiveDocument.removeObject('BodySquareProfileSketch')\n",
    "    App.ActiveDocument.recompute()\n",
    "\n",
    "App.ActiveDocument.addObject('PartDesign::Body', 'BodySquareProfileSketch')\n",
    "App.ActiveDocument.recompute()\n",
    "\n",
    "Gui.ActiveDocument.ActiveView.setActiveObject('pdbody', App.ActiveDocument.getObject('BodySquareProfileSketch'))\n"
   ]
  },
  {
   "cell_type": "code",
   "execution_count": 105,
   "metadata": {},
   "outputs": [],
   "source": [
    "# SketchSquareProfileSketch\n",
    "\n",
    "if App.ActiveDocument.getObject('SketchSquareProfileSketch'):\n",
    "    App.ActiveDocument.removeObject('SketchSquareProfileSketch')\n",
    "    App.ActiveDocument.recompute()\n",
    "\n",
    "App.ActiveDocument.getObject('BodySquareProfileSketch').newObject('Sketcher::SketchObject', 'SketchSquareProfileSketch')\n",
    "App.ActiveDocument.getObject('SketchSquareProfileSketch').Support = (App.ActiveDocument.getObject(\n",
    "    'XZ_Plane' + App.ActiveDocument.getObject('BodySquareProfileSketch').Origin.Name.replace('Origin', '')), [''])\n",
    "App.ActiveDocument.getObject('SketchSquareProfileSketch').MapMode = 'FlatFace'\n",
    "App.ActiveDocument.recompute()\n",
    "\n",
    "geoList = []\n",
    "geoList.append(Part.LineSegment(App.Vector(-1, 1, 0), App.Vector(1, 1, 0)))  # 0\n",
    "geoList.append(Part.LineSegment(App.Vector(1, 1, 0), App.Vector(1, -1, 0)))  # 1\n",
    "geoList.append(Part.LineSegment(App.Vector(1, -1, 0), App.Vector(-1, -1, 0)))  # 2\n",
    "geoList.append(Part.LineSegment(App.Vector(-1, -1, 0), App.Vector(-1, 1, 0)))  # 3\n",
    "App.ActiveDocument.getObject('SketchSquareProfileSketch').addGeometry(geoList, False)\n",
    "\n",
    "conList = []\n",
    "conList.append(Sketcher.Constraint('Coincident', 0, 2, 1, 1))  # 0\n",
    "conList.append(Sketcher.Constraint('Coincident', 1, 2, 2, 1))  # 1\n",
    "conList.append(Sketcher.Constraint('Coincident', 2, 2, 3, 1))  # 2\n",
    "conList.append(Sketcher.Constraint('Coincident', 3, 2, 0, 1))  # 3\n",
    "conList.append(Sketcher.Constraint('Horizontal', 0))  # 4\n",
    "conList.append(Sketcher.Constraint('Vertical', 3))  # 5\n",
    "conList.append(Sketcher.Constraint('Symmetric', 2, 2, 1, 2, -2))  # 6\n",
    "conList.append(Sketcher.Constraint('Symmetric', 0, 2, 1, 2, -1))  # 7\n",
    "conList.append(Sketcher.Constraint('Distance', 0, 40))  # 8 external\n",
    "conList.append(Sketcher.Constraint('Equal', 0, 3))  # 9\n",
    "App.ActiveDocument.getObject('SketchSquareProfileSketch').addConstraint(conList)\n",
    "\n",
    "geoList = []\n",
    "geoList.append(Part.LineSegment(App.Vector(-1, 1, 0), App.Vector(1, 1, 0)))  # 4\n",
    "geoList.append(Part.LineSegment(App.Vector(1, 1, 0), App.Vector(1, -1, 0)))  # 5\n",
    "geoList.append(Part.LineSegment(App.Vector(1, -1, 0), App.Vector(-1, -1, 0)))  # 6\n",
    "geoList.append(Part.LineSegment(App.Vector(-1, -1, 0), App.Vector(-1, 1, 0)))  # 7\n",
    "App.ActiveDocument.getObject('SketchSquareProfileSketch').addGeometry(geoList, False)\n",
    "\n",
    "conList = []\n",
    "conList.append(Sketcher.Constraint('Coincident', 4, 2, 5, 1))  # 10\n",
    "conList.append(Sketcher.Constraint('Coincident', 5, 2, 6, 1))  # 11\n",
    "conList.append(Sketcher.Constraint('Coincident', 6, 2, 7, 1))  # 12\n",
    "conList.append(Sketcher.Constraint('Coincident', 7, 2, 4, 1))  # 13\n",
    "conList.append(Sketcher.Constraint('Horizontal', 4))  # 14\n",
    "conList.append(Sketcher.Constraint('Vertical', 7))  # 15\n",
    "conList.append(Sketcher.Constraint('Symmetric', 6, 2, 5, 2, -2))  # 16\n",
    "conList.append(Sketcher.Constraint('Symmetric', 5, 2, 4, 2, -1))  # 17\n",
    "conList.append(Sketcher.Constraint('Distance', 4, 40 - 1/8*25.4))  # 18 internal\n",
    "conList.append(Sketcher.Constraint('Equal', 4, 7))  # 19\n",
    "App.ActiveDocument.getObject('SketchSquareProfileSketch').addConstraint(conList)\n",
    "\n",
    "App.ActiveDocument.recompute()\n"
   ]
  },
  {
   "cell_type": "code",
   "execution_count": 106,
   "metadata": {},
   "outputs": [],
   "source": [
    "# PadSquareProfileSketch\n",
    "\n",
    "if App.ActiveDocument.getObject('PadSquareProfileSketch'):\n",
    "    App.ActiveDocument.removeObject('PadSquareProfileSketch')\n",
    "    App.ActiveDocument.recompute()\n",
    "\n",
    "App.ActiveDocument.getObject('BodySquareProfileSketch').newObject('PartDesign::Pad', 'PadSquareProfileSketch')\n",
    "App.ActiveDocument.getObject('PadSquareProfileSketch').Profile = App.ActiveDocument.getObject('SketchSquareProfileSketch')\n",
    "App.ActiveDocument.getObject('PadSquareProfileSketch').Midplane = True\n",
    "App.ActiveDocument.getObject('PadSquareProfileSketch').Length = 100\n",
    "App.ActiveDocument.recompute()\n",
    "\n",
    "App.ActiveDocument.getObject('SketchSquareProfileSketch').Visibility = False\n"
   ]
  },
  {
   "cell_type": "code",
   "execution_count": 107,
   "metadata": {},
   "outputs": [],
   "source": [
    "# Fillet001SquareProfileSketch and Fillet002SquareProfileSketch\n",
    "\n",
    "if App.ActiveDocument.getObject('Fillet002SquareProfileSketch'):\n",
    "    App.ActiveDocument.removeObject('Fillet002SquareProfileSketch')\n",
    "    App.ActiveDocument.recompute()\n",
    "\n",
    "if App.ActiveDocument.getObject('Fillet001SquareProfileSketch'):\n",
    "    App.ActiveDocument.removeObject('Fillet001SquareProfileSketch')\n",
    "    App.ActiveDocument.recompute()\n",
    "\n",
    "\n",
    "App.ActiveDocument.getObject('BodySquareProfileSketch').newObject('PartDesign::Fillet', 'Fillet001SquareProfileSketch')\n",
    "App.ActiveDocument.getObject('Fillet001SquareProfileSketch').Base = (\n",
    "    App.ActiveDocument.getObject('PadSquareProfileSketch'), [\"Edge14\", \"Edge20\", \"Edge17\", \"Edge13\", ])\n",
    "App.ActiveDocument.getObject('Fillet001SquareProfileSketch').Radius = 3\n",
    "App.ActiveDocument.recompute()\n",
    "\n",
    "App.ActiveDocument.getObject('BodySquareProfileSketch').newObject('PartDesign::Fillet', 'Fillet002SquareProfileSketch')\n",
    "App.ActiveDocument.getObject('Fillet002SquareProfileSketch').Base = (\n",
    "    App.ActiveDocument.getObject('Fillet001SquareProfileSketch'), [\"Edge33\", \"Edge34\", \"Edge35\", \"Edge36\", ])\n",
    "App.ActiveDocument.getObject('Fillet002SquareProfileSketch').Radius = 2\n",
    "App.ActiveDocument.recompute()\n",
    "\n",
    "Gui.ActiveDocument.ActiveView.setActiveObject('pdbody', None)\n"
   ]
  },
  {
   "cell_type": "code",
   "execution_count": 108,
   "metadata": {},
   "outputs": [],
   "source": [
    "# SquareProfileSketch\n",
    "\n",
    "if App.ActiveDocument.getObject('SquareProfileSketch'):\n",
    "    App.ActiveDocument.removeObject('SquareProfileSketch')\n",
    "    App.ActiveDocument.recompute()\n",
    "\n",
    "shape = FreeCAD.ActiveDocument.getObject('BodySquareProfileSketch').Shape\n",
    "\n",
    "wires = list()\n",
    "for i in shape.slice(App.Vector(0, 1, 0), 0):\n",
    "    wires.append(i)\n",
    "\n",
    "App.ActiveDocument.addObject(\"Part::Feature\", \"SquareProfileSketch\")\n",
    "App.ActiveDocument.getObject('SquareProfileSketch').Shape = Part.Compound(wires)\n",
    "App.ActiveDocument.getObject('SquareProfileSketch').Placement.Base.y = -FreeCAD.ActiveDocument.getObject('BodySquareProfileSketch').Shape.BoundBox.YLength*75/100\n",
    "App.ActiveDocument.recompute()\n",
    "del wires, shape\n"
   ]
  },
  {
   "cell_type": "markdown",
   "metadata": {},
   "source": [
    "# BodyAngleProfileSketch"
   ]
  },
  {
   "cell_type": "code",
   "execution_count": 109,
   "metadata": {},
   "outputs": [],
   "source": [
    "# BodyAngleProfileSketch\n",
    "\n",
    "if App.ActiveDocument.getObject('BodyAngleProfileSketch'):\n",
    "    App.ActiveDocument.getObject('BodyAngleProfileSketch').removeObjectsFromDocument()\n",
    "    App.ActiveDocument.removeObject('BodyAngleProfileSketch')\n",
    "    App.ActiveDocument.recompute()\n",
    "\n",
    "App.ActiveDocument.addObject('PartDesign::Body', 'BodyAngleProfileSketch')\n",
    "App.ActiveDocument.recompute()\n",
    "\n",
    "Gui.ActiveDocument.ActiveView.setActiveObject('pdbody', App.ActiveDocument.getObject('BodyAngleProfileSketch'))\n"
   ]
  },
  {
   "cell_type": "code",
   "execution_count": 110,
   "metadata": {},
   "outputs": [],
   "source": [
    "# SketchAngleProfileSketch\n",
    "\n",
    "if App.ActiveDocument.getObject('SketchAngleProfileSketch'):\n",
    "    App.ActiveDocument.removeObject('SketchAngleProfileSketch')\n",
    "    App.ActiveDocument.recompute()\n",
    "\n",
    "App.ActiveDocument.getObject('BodyAngleProfileSketch').newObject('Sketcher::SketchObject', 'SketchAngleProfileSketch')\n",
    "App.ActiveDocument.getObject('SketchAngleProfileSketch').Support = (App.ActiveDocument.getObject(\n",
    "    'XZ_Plane' + App.ActiveDocument.getObject('BodyAngleProfileSketch').Origin.Name.replace('Origin', '')), [''])\n",
    "App.ActiveDocument.getObject('SketchAngleProfileSketch').MapMode = 'FlatFace'\n",
    "App.ActiveDocument.recompute()\n",
    "\n",
    "geoList = []\n",
    "geoList.append(Part.LineSegment(App.Vector(0, 0, 0), App.Vector(0, 2, 0)))  # 1\n",
    "geoList.append(Part.LineSegment(App.Vector(0, 2, 0), App.Vector(1, 2, 0)))  # 2\n",
    "geoList.append(Part.LineSegment(App.Vector(1, 2, 0), App.Vector(1, 1, 0)))  # 3\n",
    "geoList.append(Part.LineSegment(App.Vector(1, 1, 0), App.Vector(2, 1, 0)))  # 4\n",
    "geoList.append(Part.LineSegment(App.Vector(2, 1, 0), App.Vector(2, 0, 0)))  # 5\n",
    "geoList.append(Part.LineSegment(App.Vector(2, 0, 0), App.Vector(0, 0, 0)))  # 6\n",
    "App.ActiveDocument.getObject('SketchAngleProfileSketch').addGeometry(geoList, False)\n",
    "\n",
    "conList = []\n",
    "conList.append(Sketcher.Constraint('Coincident', -1, 1, 0, 1))  # 1\n",
    "conList.append(Sketcher.Constraint('PointOnObject', 0, 2, -2))  # 2\n",
    "conList.append(Sketcher.Constraint('Coincident', 0, 2, 1, 1))  # 3\n",
    "conList.append(Sketcher.Constraint('Horizontal', 1))  # 4\n",
    "conList.append(Sketcher.Constraint('Coincident', 1, 2, 2, 1))  # 5\n",
    "conList.append(Sketcher.Constraint('Vertical', 2))  # 6\n",
    "conList.append(Sketcher.Constraint('Coincident', 2, 2, 3, 1))  # 7\n",
    "conList.append(Sketcher.Constraint('Horizontal', 3))  # 8\n",
    "conList.append(Sketcher.Constraint('Coincident', 3, 2, 4, 1))  # 9\n",
    "conList.append(Sketcher.Constraint('PointOnObject', 4, 2, -1))  # 10\n",
    "conList.append(Sketcher.Constraint('Vertical', 4))  # 11\n",
    "conList.append(Sketcher.Constraint('Coincident', 4, 2, 5, 1))  # 12\n",
    "conList.append(Sketcher.Constraint('Coincident', 5, 2, 0, 1))  # 13\n",
    "conList.append(Sketcher.Constraint('Distance', 0, 1*25.4))  # 14\n",
    "conList.append(Sketcher.Constraint('Equal', 0, 5))  # 15\n",
    "conList.append(Sketcher.Constraint('Distance', 1, 1/8*25.4))  # 16\n",
    "conList.append(Sketcher.Constraint('Equal', 1, 4))  # 17\n",
    "App.ActiveDocument.getObject('SketchAngleProfileSketch').addConstraint(conList)\n",
    "\n",
    "App.ActiveDocument.recompute()\n"
   ]
  },
  {
   "cell_type": "code",
   "execution_count": 111,
   "metadata": {},
   "outputs": [],
   "source": [
    "# PadAngleProfileSketch\n",
    "\n",
    "if App.ActiveDocument.getObject('PadAngleProfileSketch'):\n",
    "    App.ActiveDocument.removeObject('PadAngleProfileSketch')\n",
    "    App.ActiveDocument.recompute()\n",
    "\n",
    "App.ActiveDocument.getObject('BodyAngleProfileSketch').newObject('PartDesign::Pad', 'PadAngleProfileSketch')\n",
    "App.ActiveDocument.getObject('PadAngleProfileSketch').Profile = App.ActiveDocument.getObject('SketchAngleProfileSketch')\n",
    "App.ActiveDocument.getObject('PadAngleProfileSketch').Midplane = True\n",
    "App.ActiveDocument.getObject('PadAngleProfileSketch').Length = 100\n",
    "App.ActiveDocument.recompute()\n",
    "\n",
    "App.ActiveDocument.getObject('SketchAngleProfileSketch').Visibility = False\n"
   ]
  },
  {
   "cell_type": "code",
   "execution_count": 112,
   "metadata": {},
   "outputs": [],
   "source": [
    "# FilletAngleProfileSketch\n",
    "\n",
    "if App.ActiveDocument.getObject('FilletAngleProfileSketch'):\n",
    "    App.ActiveDocument.removeObject('FilletAngleProfileSketch')\n",
    "    App.ActiveDocument.recompute()\n",
    "\n",
    "App.ActiveDocument.getObject('BodyAngleProfileSketch').newObject('PartDesign::Fillet', 'FilletAngleProfileSketch')\n",
    "App.ActiveDocument.getObject('FilletAngleProfileSketch').Base = (\n",
    "    App.ActiveDocument.getObject('PadAngleProfileSketch'), ['Edge2', 'Edge5', 'Edge8', 'Edge11', 'Edge14', ])\n",
    "App.ActiveDocument.getObject('FilletAngleProfileSketch').Radius = 1\n",
    "App.ActiveDocument.recompute()\n",
    "\n",
    "Gui.ActiveDocument.ActiveView.setActiveObject('pdbody', None)\n"
   ]
  },
  {
   "cell_type": "code",
   "execution_count": 113,
   "metadata": {},
   "outputs": [],
   "source": [
    "# AngleProfileSketch\n",
    "\n",
    "if App.ActiveDocument.getObject('AngleProfileSketch'):\n",
    "    App.ActiveDocument.removeObject('AngleProfileSketch')\n",
    "    App.ActiveDocument.recompute()\n",
    "\n",
    "shape = FreeCAD.ActiveDocument.getObject('BodyAngleProfileSketch').Shape\n",
    "\n",
    "wires = list()\n",
    "for i in shape.slice(App.Vector(0, 1, 0), 0):\n",
    "    wires.append(i)\n",
    "\n",
    "App.ActiveDocument.addObject(\"Part::Feature\", \"AngleProfileSketch\")\n",
    "App.ActiveDocument.getObject('AngleProfileSketch').Shape = Part.Compound(wires)\n",
    "App.ActiveDocument.getObject('AngleProfileSketch').Placement.Base.y = -FreeCAD.ActiveDocument.getObject('BodyAngleProfileSketch').Shape.BoundBox.YLength*75/100\n",
    "App.ActiveDocument.recompute()\n",
    "del wires, shape\n"
   ]
  },
  {
   "cell_type": "markdown",
   "metadata": {},
   "source": [
    "# BodyAngleProfileSketch"
   ]
  },
  {
   "cell_type": "code",
   "execution_count": 114,
   "metadata": {},
   "outputs": [],
   "source": [
    "# BodyFlatProfileSketch\n",
    "\n",
    "if App.ActiveDocument.getObject('BodyFlatProfileSketch'):\n",
    "    App.ActiveDocument.getObject('BodyFlatProfileSketch').removeObjectsFromDocument()\n",
    "    App.ActiveDocument.removeObject('BodyFlatProfileSketch')\n",
    "    App.ActiveDocument.recompute()\n",
    "\n",
    "App.ActiveDocument.addObject('PartDesign::Body', 'BodyFlatProfileSketch')\n",
    "App.ActiveDocument.recompute()\n",
    "\n",
    "Gui.ActiveDocument.ActiveView.setActiveObject('pdbody', App.ActiveDocument.getObject('BodyFlatProfileSketch'))\n"
   ]
  },
  {
   "cell_type": "code",
   "execution_count": 115,
   "metadata": {},
   "outputs": [],
   "source": [
    "# SketchFlatProfileSketch\n",
    "\n",
    "if App.ActiveDocument.getObject('SketchFlatProfileSketch'):\n",
    "    App.ActiveDocument.removeObject('SketchFlatProfileSketch')\n",
    "    App.ActiveDocument.recompute()\n",
    "\n",
    "App.ActiveDocument.getObject('BodyFlatProfileSketch').newObject('Sketcher::SketchObject', 'SketchFlatProfileSketch')\n",
    "App.ActiveDocument.getObject('SketchFlatProfileSketch').Support = (App.ActiveDocument.getObject(\n",
    "    'XZ_Plane' + App.ActiveDocument.getObject('BodyFlatProfileSketch').Origin.Name.replace('Origin', '')), [''])\n",
    "App.ActiveDocument.getObject('SketchFlatProfileSketch').MapMode = 'FlatFace'\n",
    "App.ActiveDocument.recompute()\n",
    "\n",
    "geoList = []\n",
    "geoList.append(Part.LineSegment(App.Vector(-1, 1, 0), App.Vector(1, 1, 0)))  # 0\n",
    "geoList.append(Part.LineSegment(App.Vector(1, 1, 0), App.Vector(1, -1, 0)))  # 1\n",
    "geoList.append(Part.LineSegment(App.Vector(1, -1, 0), App.Vector(-1, -1, 0)))  # 2\n",
    "geoList.append(Part.LineSegment(App.Vector(-1, -1, 0), App.Vector(-1, 1, 0)))  # 3\n",
    "App.ActiveDocument.getObject('SketchFlatProfileSketch').addGeometry(geoList, False)\n",
    "\n",
    "conList = []\n",
    "conList.append(Sketcher.Constraint('Coincident', 0, 2, 1, 1))  # 0\n",
    "conList.append(Sketcher.Constraint('Coincident', 1, 2, 2, 1))  # 1\n",
    "conList.append(Sketcher.Constraint('Coincident', 2, 2, 3, 1))  # 2\n",
    "conList.append(Sketcher.Constraint('Coincident', 3, 2, 0, 1))  # 3\n",
    "conList.append(Sketcher.Constraint('Horizontal', 0))  # 4\n",
    "conList.append(Sketcher.Constraint('Vertical', 3))  # 5\n",
    "conList.append(Sketcher.Constraint('Symmetric', 2, 2, 1, 2, -2))  # 6\n",
    "conList.append(Sketcher.Constraint('Symmetric', 0, 2, 1, 2, -1))  # 7\n",
    "conList.append(Sketcher.Constraint('Distance', 0, 25.4))  # 8\n",
    "conList.append(Sketcher.Constraint('Distance', 3, 1/8*25.4))  # 9\n",
    "App.ActiveDocument.getObject('SketchFlatProfileSketch').addConstraint(conList)\n",
    "\n",
    "App.ActiveDocument.recompute()\n"
   ]
  },
  {
   "cell_type": "code",
   "execution_count": 116,
   "metadata": {},
   "outputs": [],
   "source": [
    "# PadFlatProfileSketch\n",
    "\n",
    "if App.ActiveDocument.getObject('PadFlatProfileSketch'):\n",
    "    App.ActiveDocument.removeObject('PadFlatProfileSketch')\n",
    "    App.ActiveDocument.recompute()\n",
    "\n",
    "App.ActiveDocument.getObject('BodyFlatProfileSketch').newObject('PartDesign::Pad', 'PadFlatProfileSketch')\n",
    "App.ActiveDocument.getObject('PadFlatProfileSketch').Profile = App.ActiveDocument.getObject('SketchFlatProfileSketch')\n",
    "App.ActiveDocument.getObject('PadFlatProfileSketch').Midplane = True\n",
    "App.ActiveDocument.getObject('PadFlatProfileSketch').Length = 100\n",
    "App.ActiveDocument.recompute()\n",
    "\n",
    "App.ActiveDocument.getObject('SketchFlatProfileSketch').Visibility = False\n"
   ]
  },
  {
   "cell_type": "code",
   "execution_count": 117,
   "metadata": {},
   "outputs": [],
   "source": [
    "# Fillet001FlatProfileSketch\n",
    "\n",
    "if App.ActiveDocument.getObject('Fillet001FlatProfileSketch'):\n",
    "    App.ActiveDocument.removeObject('Fillet001FlatProfileSketch')\n",
    "    App.ActiveDocument.recompute()\n",
    "\n",
    "\n",
    "App.ActiveDocument.getObject('BodyFlatProfileSketch').newObject('PartDesign::Fillet', 'Fillet001FlatProfileSketch')\n",
    "App.ActiveDocument.getObject('Fillet001FlatProfileSketch').Base = (\n",
    "    App.ActiveDocument.getObject('PadFlatProfileSketch'), [\"Edge1\", \"Edge2\", \"Edge5\", \"Edge8\", ])\n",
    "App.ActiveDocument.getObject('Fillet001FlatProfileSketch').Radius = 1\n",
    "App.ActiveDocument.recompute()\n",
    "\n",
    "Gui.ActiveDocument.ActiveView.setActiveObject('pdbody', None)\n"
   ]
  },
  {
   "cell_type": "code",
   "execution_count": 118,
   "metadata": {},
   "outputs": [],
   "source": [
    "# FlatProfileSketch\n",
    "\n",
    "if App.ActiveDocument.getObject('FlatProfileSketch'):\n",
    "    App.ActiveDocument.removeObject('FlatProfileSketch')\n",
    "    App.ActiveDocument.recompute()\n",
    "\n",
    "shape = FreeCAD.ActiveDocument.getObject('BodyFlatProfileSketch').Shape\n",
    "\n",
    "wires = list()\n",
    "for i in shape.slice(App.Vector(0, 1, 0), 0):\n",
    "    wires.append(i)\n",
    "\n",
    "App.ActiveDocument.addObject(\"Part::Feature\", \"FlatProfileSketch\")\n",
    "App.ActiveDocument.getObject('FlatProfileSketch').Shape = Part.Compound(wires)\n",
    "App.ActiveDocument.getObject('FlatProfileSketch').Placement.Base.y = -FreeCAD.ActiveDocument.getObject('BodyFlatProfileSketch').Shape.BoundBox.YLength*75/100\n",
    "App.ActiveDocument.recompute()\n",
    "del wires, shape\n"
   ]
  },
  {
   "cell_type": "markdown",
   "metadata": {},
   "source": [
    "# Document"
   ]
  },
  {
   "cell_type": "code",
   "execution_count": 119,
   "metadata": {},
   "outputs": [],
   "source": [
    "# Placement\n",
    "\n",
    "App.ActiveDocument.getObject('BodySquareProfileSketch').Placement.Base.x = 0\n",
    "App.ActiveDocument.getObject('SquareProfileSketch').Placement.Base.x = 0\n",
    "\n",
    "App.ActiveDocument.getObject('BodyAngleProfileSketch').Placement.Base.x = App.ActiveDocument.getObject('BodySquareProfileSketch').Placement.Base.x + 40\n",
    "App.ActiveDocument.getObject('AngleProfileSketch').Placement.Base.x = App.ActiveDocument.getObject('BodyAngleProfileSketch').Placement.Base.x\n",
    "\n",
    "App.ActiveDocument.getObject('BodyFlatProfileSketch').Placement.Base.x = App.ActiveDocument.getObject('BodyAngleProfileSketch').Placement.Base.x + 50\n",
    "App.ActiveDocument.getObject('FlatProfileSketch').Placement.Base.x = App.ActiveDocument.getObject('BodyFlatProfileSketch').Placement.Base.x\n",
    "\n",
    "App.ActiveDocument.recompute()\n"
   ]
  },
  {
   "cell_type": "code",
   "execution_count": 120,
   "metadata": {},
   "outputs": [],
   "source": [
    "# Save\n",
    "\n",
    "Gui.ActiveDocument.ActiveView.setActiveObject('pdbody', None)\n",
    "Gui.activeDocument().activeView().viewDefaultOrientation()\n",
    "Gui.SendMsgToActiveView(\"ViewFit\")\n",
    "\n",
    "App.ActiveDocument.save()\n"
   ]
  }
 ],
 "metadata": {
  "kernelspec": {
   "display_name": "FreeCAD",
   "language": "",
   "name": "freecad"
  },
  "language_info": {
   "file_extension": ".py",
   "mimetype": "text/x-python",
   "name": "python"
  },
  "orig_nbformat": 4,
  "vscode": {
   "interpreter": {
    "hash": "916dbcbb3f70747c44a77c7bcd40155683ae19c65e1c03b4aa3499c5328201f1"
   }
  }
 },
 "nbformat": 4,
 "nbformat_minor": 2
}
