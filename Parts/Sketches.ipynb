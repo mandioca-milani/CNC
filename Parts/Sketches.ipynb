{
 "cells": [
  {
   "cell_type": "code",
   "execution_count": 33,
   "metadata": {},
   "outputs": [],
   "source": [
    "# Sketches Document\n",
    "\n",
    "if 'Sketches' in App.listDocuments():\n",
    "    App.closeDocument('Sketches')\n",
    "\n",
    "App.newDocument('Sketches')\n"
   ]
  },
  {
   "cell_type": "code",
   "execution_count": 34,
   "metadata": {},
   "outputs": [],
   "source": [
    "# PartDesign Workbench\n",
    "\n",
    "Gui.ActiveDocument.ActiveView.viewDefaultOrientation()\n",
    "Gui.ActiveDocument.ActiveView.setCameraType(\"Perspective\")\n",
    "Gui.activateWorkbench(\"PartDesignWorkbench\")\n"
   ]
  },
  {
   "cell_type": "markdown",
   "metadata": {},
   "source": [
    "# Square Tube Profile"
   ]
  },
  {
   "cell_type": "code",
   "execution_count": 35,
   "metadata": {},
   "outputs": [],
   "source": [
    "# Body001\n",
    "\n",
    "if App.ActiveDocument.getObject('Body001'):\n",
    "    App.ActiveDocument.getObject('Body001').removeObjectsFromDocument()\n",
    "    App.ActiveDocument.removeObject('Body001')\n",
    "    App.ActiveDocument.recompute()\n",
    "\n",
    "App.ActiveDocument.addObject('PartDesign::Body', 'Body001')\n",
    "App.ActiveDocument.getObject('Body001').Label = 'Square Tube Profile'\n",
    "App.ActiveDocument.recompute()\n",
    "\n",
    "Gui.ActiveDocument.ActiveView.setActiveObject('pdbody', App.ActiveDocument.getObject('Body001'))\n"
   ]
  },
  {
   "cell_type": "code",
   "execution_count": 36,
   "metadata": {},
   "outputs": [],
   "source": [
    "# Sketch001\n",
    "\n",
    "if App.ActiveDocument.getObject('Sketch001'):\n",
    "    App.ActiveDocument.removeObject('Sketch001')\n",
    "    App.ActiveDocument.recompute()\n",
    "\n",
    "App.ActiveDocument.getObject('Body001').newObject('Sketcher::SketchObject', 'Sketch001')\n",
    "App.ActiveDocument.getObject('Sketch001').Support = (App.ActiveDocument.getObject('XZ_Plane'), [''])\n",
    "App.ActiveDocument.getObject('Sketch001').MapMode = 'FlatFace'\n",
    "App.ActiveDocument.recompute()\n",
    "\n",
    "geoList = []\n",
    "geoList.append(Part.LineSegment(App.Vector(-1, 1, 0), App.Vector(1, 1, 0)))  # 0\n",
    "geoList.append(Part.LineSegment(App.Vector(1, 1, 0), App.Vector(1, -1, 0)))  # 1\n",
    "geoList.append(Part.LineSegment(App.Vector(1, -1, 0), App.Vector(-1, -1, 0)))  # 2\n",
    "geoList.append(Part.LineSegment(App.Vector(-1, -1, 0), App.Vector(-1, 1, 0)))  # 3\n",
    "App.ActiveDocument.getObject('Sketch001').addGeometry(geoList, False)\n",
    "\n",
    "conList = []\n",
    "conList.append(Sketcher.Constraint('Coincident', 0, 2, 1, 1))  # 0\n",
    "conList.append(Sketcher.Constraint('Coincident', 1, 2, 2, 1))  # 1\n",
    "conList.append(Sketcher.Constraint('Coincident', 2, 2, 3, 1))  # 2\n",
    "conList.append(Sketcher.Constraint('Coincident', 3, 2, 0, 1))  # 3\n",
    "conList.append(Sketcher.Constraint('Horizontal', 0))  # 4\n",
    "conList.append(Sketcher.Constraint('Vertical', 3))  # 5\n",
    "conList.append(Sketcher.Constraint('Symmetric', 2, 2, 1, 2, -2))  # 6\n",
    "conList.append(Sketcher.Constraint('Symmetric', 0, 2, 1, 2, -1))  # 7\n",
    "conList.append(Sketcher.Constraint('Distance', 0, 40))  # 8 external\n",
    "conList.append(Sketcher.Constraint('Equal', 0, 3))  # 9\n",
    "App.ActiveDocument.getObject('Sketch001').addConstraint(conList)\n",
    "\n",
    "geoList = []\n",
    "geoList.append(Part.LineSegment(App.Vector(-1, 1, 0), App.Vector(1, 1, 0)))  # 4\n",
    "geoList.append(Part.LineSegment(App.Vector(1, 1, 0), App.Vector(1, -1, 0)))  # 5\n",
    "geoList.append(Part.LineSegment(App.Vector(1, -1, 0), App.Vector(-1, -1, 0)))  # 6\n",
    "geoList.append(Part.LineSegment(App.Vector(-1, -1, 0), App.Vector(-1, 1, 0)))  # 7\n",
    "App.ActiveDocument.getObject('Sketch001').addGeometry(geoList, False)\n",
    "\n",
    "conList = []\n",
    "conList.append(Sketcher.Constraint('Coincident', 4, 2, 5, 1))  # 10\n",
    "conList.append(Sketcher.Constraint('Coincident', 5, 2, 6, 1))  # 11\n",
    "conList.append(Sketcher.Constraint('Coincident', 6, 2, 7, 1))  # 12\n",
    "conList.append(Sketcher.Constraint('Coincident', 7, 2, 4, 1))  # 13\n",
    "conList.append(Sketcher.Constraint('Horizontal', 4))  # 14\n",
    "conList.append(Sketcher.Constraint('Vertical', 7))  # 15\n",
    "conList.append(Sketcher.Constraint('Symmetric', 6, 2, 5, 2, -2))  # 16\n",
    "conList.append(Sketcher.Constraint('Symmetric', 5, 2, 4, 2, -1))  # 17\n",
    "conList.append(Sketcher.Constraint('Distance', 4, 40-2*1/16*25.4))  # 18 internal\n",
    "conList.append(Sketcher.Constraint('Equal', 4, 7))  # 19\n",
    "App.ActiveDocument.getObject('Sketch001').addConstraint(conList)\n",
    "\n",
    "App.ActiveDocument.recompute()\n"
   ]
  },
  {
   "cell_type": "code",
   "execution_count": 37,
   "metadata": {},
   "outputs": [],
   "source": [
    "# Pad001\n",
    "\n",
    "if App.ActiveDocument.getObject('Pad001'):\n",
    "    App.ActiveDocument.removeObject('Pad001')\n",
    "    App.ActiveDocument.recompute()\n",
    "\n",
    "App.ActiveDocument.getObject('Body001').newObject('PartDesign::Pad', 'Pad001')\n",
    "App.ActiveDocument.getObject('Pad001').Profile = App.ActiveDocument.getObject('Sketch001')\n",
    "App.ActiveDocument.getObject('Pad001').Length = 100\n",
    "App.ActiveDocument.getObject('Pad001').Midplane = True\n",
    "App.ActiveDocument.recompute()\n",
    "\n",
    "App.ActiveDocument.getObject('Sketch001').Visibility = False\n",
    "Gui.SendMsgToActiveView(\"ViewFit\")\n"
   ]
  },
  {
   "cell_type": "code",
   "execution_count": 38,
   "metadata": {},
   "outputs": [],
   "source": [
    "# Fillet001 and Fillet002\n",
    "\n",
    "if App.ActiveDocument.getObject('Fillet001'):\n",
    "    App.ActiveDocument.removeObject('Fillet001')\n",
    "    App.ActiveDocument.recompute()\n",
    "\n",
    "if App.ActiveDocument.getObject('Fillet002'):\n",
    "    App.ActiveDocument.removeObject('Fillet002')\n",
    "    App.ActiveDocument.recompute()\n",
    "\n",
    "App.ActiveDocument.getObject('Body001').newObject('PartDesign::Fillet', 'Fillet001')\n",
    "App.ActiveDocument.getObject('Fillet001').Base = (App.ActiveDocument.getObject('Pad001'), [\"Edge14\", \"Edge20\", \"Edge17\", \"Edge13\", ])\n",
    "App.ActiveDocument.getObject('Fillet001').Radius = 3\n",
    "App.ActiveDocument.recompute()\n",
    "\n",
    "App.ActiveDocument.getObject('Body001').newObject('PartDesign::Fillet', 'Fillet002')\n",
    "App.ActiveDocument.getObject('Fillet002').Base = (App.ActiveDocument.getObject('Fillet001'), [\"Edge33\", \"Edge34\", \"Edge35\", \"Edge36\", ])\n",
    "App.ActiveDocument.getObject('Fillet002').Radius = 2\n",
    "App.ActiveDocument.recompute()\n",
    "\n",
    "App.ActiveDocument.getObject('Pad001').Visibility = False\n",
    "App.ActiveDocument.getObject('Fillet001').Visibility = False\n"
   ]
  },
  {
   "cell_type": "code",
   "execution_count": 39,
   "metadata": {},
   "outputs": [],
   "source": [
    "# SquareTubeProfileSketch\n",
    "\n",
    "if App.ActiveDocument.getObject('SquareTubeProfileSketch'):\n",
    "    App.ActiveDocument.removeObject('SquareTubeProfileSketch')\n",
    "    App.ActiveDocument.recompute()\n",
    "\n",
    "App.ActiveDocument.getObject('Body001').newObject('PartDesign::ShapeBinder', 'SquareTubeProfileSketch')\n",
    "App.ActiveDocument.getObject('SquareTubeProfileSketch').Support = [(App.ActiveDocument.getObject('Fillet002'), 'Face18')]\n",
    "App.ActiveDocument.recompute()\n",
    "\n",
    "Gui.ActiveDocument.ActiveView.setActiveObject('pdbody', None)\n",
    "App.ActiveDocument.getObject('SquareTubeProfileSketch').Visibility = False\n"
   ]
  },
  {
   "cell_type": "markdown",
   "metadata": {},
   "source": [
    "# Angle Profile"
   ]
  },
  {
   "cell_type": "code",
   "execution_count": 40,
   "metadata": {},
   "outputs": [],
   "source": [
    "# Body002\n",
    "\n",
    "if App.ActiveDocument.getObject('Body002'):\n",
    "    App.ActiveDocument.getObject('Body002').removeObjectsFromDocument()\n",
    "    App.ActiveDocument.removeObject('Body002')\n",
    "    App.ActiveDocument.recompute()\n",
    "\n",
    "App.ActiveDocument.addObject('PartDesign::Body', 'Body002')\n",
    "App.ActiveDocument.getObject('Body002').Label = 'Angle Profile'\n",
    "App.ActiveDocument.recompute()\n",
    "\n",
    "App.ActiveDocument.getObject('Body001').Visibility = False\n",
    "Gui.ActiveDocument.ActiveView.setActiveObject('pdbody', App.ActiveDocument.getObject('Body002'))\n"
   ]
  },
  {
   "cell_type": "code",
   "execution_count": 41,
   "metadata": {},
   "outputs": [],
   "source": [
    "# Sketch002\n",
    "\n",
    "if App.ActiveDocument.getObject('Sketch002'):\n",
    "    App.ActiveDocument.removeObject('Sketch002')\n",
    "    App.ActiveDocument.recompute()\n",
    "\n",
    "App.ActiveDocument.getObject('Body002').newObject('Sketcher::SketchObject', 'Sketch002')\n",
    "App.ActiveDocument.getObject('Sketch002').Support = (App.ActiveDocument.getObject('XZ_Plane001'), [''])\n",
    "App.ActiveDocument.getObject('Sketch002').MapMode = 'FlatFace'\n",
    "App.ActiveDocument.recompute()\n",
    "\n",
    "geoList = []\n",
    "geoList.append(Part.LineSegment(App.Vector(0, 0, 0), App.Vector(0, 2, 0)))  # 1\n",
    "geoList.append(Part.LineSegment(App.Vector(0, 2, 0), App.Vector(1, 2, 0)))  # 2\n",
    "geoList.append(Part.LineSegment(App.Vector(1, 2, 0), App.Vector(1, 1, 0)))  # 3\n",
    "geoList.append(Part.LineSegment(App.Vector(1, 1, 0), App.Vector(2, 1, 0)))  # 4\n",
    "geoList.append(Part.LineSegment(App.Vector(2, 1, 0), App.Vector(2, 0, 0)))  # 5\n",
    "geoList.append(Part.LineSegment(App.Vector(2, 0, 0), App.Vector(0, 0, 0)))  # 6\n",
    "App.ActiveDocument.getObject('Sketch002').addGeometry(geoList, False)\n",
    "\n",
    "conList = []\n",
    "conList.append(Sketcher.Constraint('Coincident', -1, 1, 0, 1))  # 1\n",
    "conList.append(Sketcher.Constraint('PointOnObject', 0, 2, -2))  # 2\n",
    "conList.append(Sketcher.Constraint('Coincident', 0, 2, 1, 1))  # 3\n",
    "conList.append(Sketcher.Constraint('Horizontal', 1))  # 4\n",
    "conList.append(Sketcher.Constraint('Coincident', 1, 2, 2, 1))  # 5\n",
    "conList.append(Sketcher.Constraint('Vertical', 2))  # 6\n",
    "conList.append(Sketcher.Constraint('Coincident', 2, 2, 3, 1))  # 7\n",
    "conList.append(Sketcher.Constraint('Horizontal', 3))  # 8\n",
    "conList.append(Sketcher.Constraint('Coincident', 3, 2, 4, 1))  # 9\n",
    "conList.append(Sketcher.Constraint('PointOnObject', 4, 2, -1))  # 10\n",
    "conList.append(Sketcher.Constraint('Vertical', 4))  # 11\n",
    "conList.append(Sketcher.Constraint('Coincident', 4, 2, 5, 1))  # 12\n",
    "conList.append(Sketcher.Constraint('Coincident', 5, 2, 0, 1))  # 13\n",
    "conList.append(Sketcher.Constraint('Distance', 0, 1*25.4))  # 14\n",
    "conList.append(Sketcher.Constraint('Equal', 0, 5))  # 15\n",
    "conList.append(Sketcher.Constraint('Distance', 1, 1/8*25.4))  # 16\n",
    "conList.append(Sketcher.Constraint('Equal', 1, 4))  # 17\n",
    "App.ActiveDocument.getObject('Sketch002').addConstraint(conList)\n",
    "\n",
    "App.ActiveDocument.recompute()\n"
   ]
  },
  {
   "cell_type": "code",
   "execution_count": 42,
   "metadata": {},
   "outputs": [],
   "source": [
    "# Pad002\n",
    "\n",
    "if App.ActiveDocument.getObject('Pad002'):\n",
    "    App.ActiveDocument.removeObject('Pad002')\n",
    "    App.ActiveDocument.recompute()\n",
    "\n",
    "App.ActiveDocument.getObject('Body002').newObject('PartDesign::Pad', 'Pad002')\n",
    "App.ActiveDocument.getObject('Pad002').Profile = App.ActiveDocument.getObject('Sketch002')\n",
    "App.ActiveDocument.getObject('Pad002').Length = 100\n",
    "App.ActiveDocument.getObject('Pad002').Midplane = True\n",
    "App.ActiveDocument.recompute()\n",
    "\n",
    "App.ActiveDocument.getObject('Sketch002').Visibility = False\n",
    "Gui.SendMsgToActiveView(\"ViewFit\")\n"
   ]
  },
  {
   "cell_type": "code",
   "execution_count": 43,
   "metadata": {},
   "outputs": [],
   "source": [
    "# Fillet003\n",
    "\n",
    "if App.ActiveDocument.getObject('Fillet003'):\n",
    "    App.ActiveDocument.removeObject('Fillet003')\n",
    "    App.ActiveDocument.recompute()\n",
    "\n",
    "App.ActiveDocument.getObject('Body002').newObject('PartDesign::Fillet', 'Fillet003')\n",
    "App.ActiveDocument.getObject('Fillet003').Base = (App.ActiveDocument.getObject('Pad002'), ['Edge2', 'Edge5', 'Edge8', 'Edge11', 'Edge14', ])\n",
    "App.ActiveDocument.getObject('Fillet003').Radius = 1\n",
    "App.ActiveDocument.recompute()\n",
    "\n",
    "App.ActiveDocument.getObject('Pad002').Visibility = False\n"
   ]
  },
  {
   "cell_type": "code",
   "execution_count": 44,
   "metadata": {},
   "outputs": [],
   "source": [
    "# AngleProfileSketch\n",
    "\n",
    "if App.ActiveDocument.getObject('AngleProfileSketch'):\n",
    "    App.ActiveDocument.removeObject('AngleProfileSketch')\n",
    "    App.ActiveDocument.recompute()\n",
    "\n",
    "App.ActiveDocument.getObject('Body002').newObject('PartDesign::ShapeBinder', 'AngleProfileSketch')\n",
    "App.ActiveDocument.getObject('AngleProfileSketch').Support = [(App.ActiveDocument.getObject('Fillet003'), 'Face5')]\n",
    "App.ActiveDocument.recompute()\n",
    "\n",
    "Gui.ActiveDocument.ActiveView.setActiveObject('pdbody', None)\n",
    "App.ActiveDocument.getObject('AngleProfileSketch').Visibility = False\n"
   ]
  },
  {
   "cell_type": "code",
   "execution_count": 45,
   "metadata": {},
   "outputs": [],
   "source": [
    "# Body002 Placement\n",
    "\n",
    "App.ActiveDocument.getObject('Body002').setExpression('.Placement.Base.x', u'.Shape.BoundBox.XLength * 2')\n",
    "App.ActiveDocument.getObject('Body002').setExpression('.Placement.Base.z', u'-.Shape.BoundBox.ZLength / 2')\n",
    "App.ActiveDocument.recompute()\n",
    "\n",
    "App.ActiveDocument.getObject('Body001').Visibility = True\n",
    "Gui.SendMsgToActiveView(\"ViewFit\")\n"
   ]
  }
 ],
 "metadata": {
  "kernelspec": {
   "display_name": "FreeCAD",
   "language": "",
   "name": "freecad"
  },
  "language_info": {
   "file_extension": ".py",
   "mimetype": "text/x-python",
   "name": "python"
  },
  "orig_nbformat": 4,
  "vscode": {
   "interpreter": {
    "hash": "916dbcbb3f70747c44a77c7bcd40155683ae19c65e1c03b4aa3499c5328201f1"
   }
  }
 },
 "nbformat": 4,
 "nbformat_minor": 2
}
