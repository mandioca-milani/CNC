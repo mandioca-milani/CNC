{
 "cells": [
  {
   "cell_type": "markdown",
   "metadata": {},
   "source": [
    "# Document"
   ]
  },
  {
   "cell_type": "code",
   "execution_count": 1,
   "metadata": {},
   "outputs": [],
   "source": [
    "# Document\n",
    "\n",
    "for doc in App.listDocuments():\n",
    "    App.closeDocument(doc)\n",
    "\n",
    "if os.path.isfile(os.getcwd() + '/Axis/AxisEngine.FCStd'):\n",
    "    App.openDocument(os.getcwd() + '/Axis/AxisEngine.FCStd')\n",
    "else:\n",
    "    App.newDocument('AxisEngine')\n",
    "    App.ActiveDocument.saveAs(os.getcwd() + '/Axis/AxisEngine.FCStd')\n",
    "\n",
    "Gui.activateWorkbench(\"PartDesignWorkbench\")\n"
   ]
  },
  {
   "cell_type": "markdown",
   "metadata": {},
   "source": [
    "# Group001Nema17"
   ]
  },
  {
   "cell_type": "markdown",
   "metadata": {},
   "source": [
    "## Body001Nema17"
   ]
  },
  {
   "cell_type": "code",
   "execution_count": 112,
   "metadata": {},
   "outputs": [],
   "source": [
    "# Body001Nema17\n",
    "\n",
    "if App.ActiveDocument.getObject('Body001Nema17'):\n",
    "    App.ActiveDocument.getObject('Body001Nema17').removeObjectsFromDocument()\n",
    "    App.ActiveDocument.removeObject('Body001Nema17')\n",
    "    App.ActiveDocument.recompute()\n",
    "\n",
    "App.ActiveDocument.addObject('PartDesign::Body', 'Body001Nema17')\n",
    "App.ActiveDocument.recompute()\n",
    "\n",
    "Gui.ActiveDocument.ActiveView.setActiveObject('pdbody', App.ActiveDocument.getObject('Body001Nema17'))\n"
   ]
  },
  {
   "cell_type": "code",
   "execution_count": 113,
   "metadata": {},
   "outputs": [],
   "source": [
    "# Sketch001Body001Nema17\n",
    "\n",
    "if App.ActiveDocument.getObject('Sketch001Body001Nema17'):\n",
    "    App.ActiveDocument.removeObject('Sketch001Body001Nema17')\n",
    "    App.ActiveDocument.recompute()\n",
    "\n",
    "App.ActiveDocument.getObject('Body001Nema17').newObject('Sketcher::SketchObject', 'Sketch001Body001Nema17')\n",
    "App.ActiveDocument.getObject('Sketch001Body001Nema17').Support = (App.ActiveDocument.getObject(\n",
    "    'XY_Plane' + App.ActiveDocument.getObject('Body001Nema17').Origin.Name.replace('Origin', '')), [''])\n",
    "App.ActiveDocument.getObject('Sketch001Body001Nema17').MapMode = 'FlatFace'\n",
    "App.ActiveDocument.recompute()\n",
    "\n",
    "geoList = []\n",
    "geoList.append(Part.LineSegment(App.Vector(-1, 1, 0), App.Vector(1, 1, 0)))  # 0\n",
    "geoList.append(Part.LineSegment(App.Vector(1, 1, 0), App.Vector(1, -1, 0)))  # 1\n",
    "geoList.append(Part.LineSegment(App.Vector(1, -1, 0), App.Vector(-1, -1, 0)))  # 2\n",
    "geoList.append(Part.LineSegment(App.Vector(-1, -1, 0), App.Vector(-1, 1, 0)))  # 3\n",
    "App.ActiveDocument.getObject('Sketch001Body001Nema17').addGeometry(geoList, False)\n",
    "\n",
    "conList = []\n",
    "conList.append(Sketcher.Constraint('Coincident', 0, 2, 1, 1))  # 0\n",
    "conList.append(Sketcher.Constraint('Coincident', 1, 2, 2, 1))  # 1\n",
    "conList.append(Sketcher.Constraint('Coincident', 2, 2, 3, 1))  # 2\n",
    "conList.append(Sketcher.Constraint('Coincident', 3, 2, 0, 1))  # 3\n",
    "conList.append(Sketcher.Constraint('Horizontal', 0))  # 4\n",
    "conList.append(Sketcher.Constraint('Vertical', 1))  # 5\n",
    "conList.append(Sketcher.Constraint('Symmetric', 2, 1, 2, 2, -2))  # 6\n",
    "conList.append(Sketcher.Constraint('Symmetric', 0, 1, 2, 2, -1))  # 7\n",
    "conList.append(Sketcher.Constraint('Distance', 0, 42))  # 8\n",
    "conList.append(Sketcher.Constraint('Equal', 1, 0))  # 9\n",
    "App.ActiveDocument.getObject('Sketch001Body001Nema17').addConstraint(conList)\n",
    "\n",
    "geoList = []\n",
    "geoList.append(Part.Circle(App.Vector(-1, 1, 0), App.Vector(0, 0, 1), 1))  # 4\n",
    "geoList.append(Part.Circle(App.Vector(1, 1, 0), App.Vector(0, 0, 1), 1))  # 5\n",
    "geoList.append(Part.Circle(App.Vector(-1, -1, 0), App.Vector(0, 0, 1), 1))  # 6\n",
    "geoList.append(Part.Circle(App.Vector(1, -1, 0), App.Vector(0, 0, 1), 1))  # 7\n",
    "App.ActiveDocument.getObject('Sketch001Body001Nema17').addGeometry(geoList, False)\n",
    "\n",
    "conList = []\n",
    "conList.append(Sketcher.Constraint('Symmetric', 4, 3, 5, 3, -2))  # 10\n",
    "conList.append(Sketcher.Constraint('Symmetric', 4, 3, 6, 3, -1))  # 11\n",
    "conList.append(Sketcher.Constraint('Symmetric', 6, 3, 7, 3, -2))  # 12\n",
    "conList.append(Sketcher.Constraint('Distance', 4, 3, 5, 3, 31))  # 13\n",
    "conList.append(Sketcher.Constraint('Distance', 6, 3, 4, 3, 31))  # 14\n",
    "conList.append(Sketcher.Constraint('Diameter', 4, 3))  # 15\n",
    "conList.append(Sketcher.Constraint('Equal', 4, 5))  # 16\n",
    "conList.append(Sketcher.Constraint('Equal', 5, 6))  # 17\n",
    "conList.append(Sketcher.Constraint('Equal', 6, 7))  # 18\n",
    "App.ActiveDocument.getObject('Sketch001Body001Nema17').addConstraint(conList)\n",
    "\n",
    "App.ActiveDocument.recompute()\n"
   ]
  },
  {
   "cell_type": "code",
   "execution_count": 114,
   "metadata": {},
   "outputs": [],
   "source": [
    "# Pad001Body001Nema17\n",
    "\n",
    "if App.ActiveDocument.getObject('Pad001Body001Nema17'):\n",
    "    App.ActiveDocument.removeObject('Pad001Body001Nema17')\n",
    "    App.ActiveDocument.recompute()\n",
    "\n",
    "App.ActiveDocument.getObject('Body001Nema17').newObject('PartDesign::Pad', 'Pad001Body001Nema17')\n",
    "App.ActiveDocument.getObject('Pad001Body001Nema17').Profile = App.ActiveDocument.getObject('Sketch001Body001Nema17')\n",
    "App.ActiveDocument.getObject('Pad001Body001Nema17').Length = 22\n",
    "App.ActiveDocument.getObject('Pad001Body001Nema17').Midplane = True\n",
    "App.ActiveDocument.recompute()\n",
    "\n",
    "App.ActiveDocument.getObject('Sketch001Body001Nema17').Visibility = False\n"
   ]
  },
  {
   "cell_type": "code",
   "execution_count": 7,
   "metadata": {},
   "outputs": [],
   "source": [
    "# Local00xPad001Body001Nema17\n",
    "\n",
    "if App.ActiveDocument.getObject('Local001Body001Nema17'):\n",
    "    App.ActiveDocument.removeObject('Local001Body001Nema17')\n",
    "    App.ActiveDocument.recompute()\n",
    "\n",
    "if App.ActiveDocument.getObject('Local002Body001Nema17'):\n",
    "    App.ActiveDocument.removeObject('Local002Body001Nema17')\n",
    "    App.ActiveDocument.recompute()\n",
    "\n",
    "App.ActiveDocument.getObject('Body001Nema17').newObject('PartDesign::CoordinateSystem', 'Local001Body001Nema17')\n",
    "App.ActiveDocument.getObject('Local001Body001Nema17').Support = [(App.ActiveDocument.getObject('Pad001Body001Nema17'), 'Face10')]\n",
    "App.ActiveDocument.getObject('Local001Body001Nema17').MapMode = 'FlatFace'\n",
    "App.ActiveDocument.recompute()\n",
    "\n",
    "App.ActiveDocument.getObject('Body001Nema17').newObject('PartDesign::CoordinateSystem', 'Local002Body001Nema17')\n",
    "App.ActiveDocument.getObject('Local002Body001Nema17').Support = [(App.ActiveDocument.getObject('Pad001Body001Nema17'), 'Face9')]\n",
    "App.ActiveDocument.getObject('Local002Body001Nema17').MapMode = 'FlatFace'\n",
    "App.ActiveDocument.recompute()\n",
    "\n",
    "App.ActiveDocument.getObject('Local001Body001Nema17').Visibility = False\n",
    "App.ActiveDocument.getObject('Local002Body001Nema17').Visibility = False\n"
   ]
  },
  {
   "cell_type": "code",
   "execution_count": 116,
   "metadata": {},
   "outputs": [],
   "source": [
    "# Chamfer001Body001Nema17\n",
    "\n",
    "if App.ActiveDocument.getObject('Chamfer001Body001Nema17'):\n",
    "    App.ActiveDocument.removeObject('Chamfer001Body001Nema17')\n",
    "    App.ActiveDocument.recompute()\n",
    "\n",
    "App.ActiveDocument.getObject('Body001Nema17').newObject('PartDesign::Chamfer', 'Chamfer001Body001Nema17')\n",
    "App.ActiveDocument.getObject('Chamfer001Body001Nema17').Base = (\n",
    "    App.ActiveDocument.getObject('Pad001Body001Nema17'), [\"Edge1\", \"Edge2\", \"Edge5\", \"Edge8\", ])\n",
    "App.ActiveDocument.getObject('Chamfer001Body001Nema17').Size = 5\n",
    "App.ActiveDocument.recompute()\n",
    "\n",
    "App.ActiveDocument.getObject('Body001Nema17').ViewObject.ShapeColor = (0.2, 0.2, 0.2, 0.0)\n",
    "Gui.ActiveDocument.ActiveView.setActiveObject('pdbody', None)\n"
   ]
  },
  {
   "cell_type": "markdown",
   "metadata": {},
   "source": [
    "## Body002Nema17"
   ]
  },
  {
   "cell_type": "code",
   "execution_count": 118,
   "metadata": {},
   "outputs": [],
   "source": [
    "# Body002Nema17\n",
    "\n",
    "if App.ActiveDocument.getObject('Body002Nema17'):\n",
    "    App.ActiveDocument.getObject('Body002Nema17').removeObjectsFromDocument()\n",
    "    App.ActiveDocument.removeObject('Body002Nema17')\n",
    "    App.ActiveDocument.recompute()\n",
    "\n",
    "App.ActiveDocument.addObject('PartDesign::Body', 'Body002Nema17')\n",
    "App.ActiveDocument.recompute()\n",
    "\n",
    "Gui.ActiveDocument.ActiveView.setActiveObject('pdbody', App.ActiveDocument.getObject('Body002Nema17'))\n"
   ]
  },
  {
   "cell_type": "code",
   "execution_count": 119,
   "metadata": {},
   "outputs": [],
   "source": [
    "# Binder001Body002Nema17\n",
    "\n",
    "if App.ActiveDocument.getObject('Binder001Body002Nema17'):\n",
    "    App.ActiveDocument.removeObject('Binder001Body002Nema17')\n",
    "    App.ActiveDocument.recompute()\n",
    "\n",
    "App.ActiveDocument.getObject('Body002Nema17').newObject('PartDesign::SubShapeBinder', 'Binder001Body002Nema17')\n",
    "App.ActiveDocument.getObject('Binder001Body002Nema17').Support = FreeCAD.ActiveDocument.getObject('Sketch001Body001Nema17')\n",
    "App.ActiveDocument.getObject('Binder001Body002Nema17').Placement *= App.ActiveDocument.getObject('Local001Body001Nema17').Placement\n",
    "App.ActiveDocument.recompute()\n"
   ]
  },
  {
   "cell_type": "code",
   "execution_count": 120,
   "metadata": {},
   "outputs": [],
   "source": [
    "# Pad001Body002Nema17\n",
    "\n",
    "if App.ActiveDocument.getObject('Pad001Body002Nema17'):\n",
    "    App.ActiveDocument.removeObject('Pad001Body002Nema17')\n",
    "    App.ActiveDocument.recompute()\n",
    "\n",
    "App.ActiveDocument.getObject('Body002Nema17').newObject('PartDesign::Pad', 'Pad001Body002Nema17')\n",
    "App.ActiveDocument.getObject('Pad001Body002Nema17').Profile = App.ActiveDocument.getObject('Binder001Body002Nema17')\n",
    "App.ActiveDocument.getObject('Pad001Body002Nema17').Length = 8\n",
    "App.ActiveDocument.recompute()\n",
    "\n",
    "App.ActiveDocument.getObject('Binder001Body002Nema17').Visibility = False\n"
   ]
  },
  {
   "cell_type": "code",
   "execution_count": 20,
   "metadata": {},
   "outputs": [],
   "source": [
    "# Local001Body002Nema17\n",
    "\n",
    "if App.ActiveDocument.getObject('Local001Body002Nema17'):\n",
    "    App.ActiveDocument.removeObject('Local001Body002Nema17')\n",
    "    App.ActiveDocument.recompute()\n",
    "\n",
    "App.ActiveDocument.getObject('Body002Nema17').newObject('PartDesign::CoordinateSystem', 'Local001Body002Nema17')\n",
    "App.ActiveDocument.getObject('Local001Body002Nema17').Support = [(App.ActiveDocument.getObject('Pad001Body002Nema17'), 'Face10')]\n",
    "App.ActiveDocument.getObject('Local001Body002Nema17').MapMode = 'FlatFace'\n",
    "App.ActiveDocument.recompute()\n",
    "\n",
    "App.ActiveDocument.getObject('Local001Body002Nema17').Visibility = False\n"
   ]
  },
  {
   "cell_type": "code",
   "execution_count": 26,
   "metadata": {},
   "outputs": [],
   "source": [
    "# Sketch001Body002Nema17\n",
    "\n",
    "if App.ActiveDocument.getObject('Sketch001Body002Nema17'):\n",
    "    App.ActiveDocument.removeObject('Sketch001Body002Nema17')\n",
    "    App.ActiveDocument.recompute()\n",
    "\n",
    "App.ActiveDocument.getObject('Body002Nema17').newObject('Sketcher::SketchObject', 'Sketch001Body002Nema17')\n",
    "App.ActiveDocument.getObject('Sketch001Body002Nema17').Support = (App.ActiveDocument.getObject('Pad001Body002Nema17'), ['Face10'])\n",
    "App.ActiveDocument.getObject('Sketch001Body002Nema17').MapMode = 'FlatFace'\n",
    "App.ActiveDocument.recompute()\n",
    "\n",
    "geoList = []\n",
    "geoList.append(Part.Circle(App.Vector(0, 0, 0), App.Vector(0, 0, 1), 2))  # 0\n",
    "geoList.append(Part.Circle(App.Vector(0, 0, 0), App.Vector(0, 0, 1), 1))  # 1\n",
    "App.ActiveDocument.getObject('Sketch001Body002Nema17').addGeometry(geoList, False)\n",
    "\n",
    "conList = []\n",
    "conList.append(Sketcher.Constraint('Coincident', 0, 3, -1, 1))  # 0\n",
    "conList.append(Sketcher.Constraint('Coincident', 1, 3, -1, 1))  # 1\n",
    "conList.append(Sketcher.Constraint('Diameter', 0, 22))  # 3\n",
    "conList.append(Sketcher.Constraint('Diameter', 1, 8))  # 3\n",
    "App.ActiveDocument.getObject('Sketch001Body002Nema17').addConstraint(conList)\n",
    "\n",
    "App.ActiveDocument.recompute()\n"
   ]
  },
  {
   "cell_type": "code",
   "execution_count": 27,
   "metadata": {},
   "outputs": [],
   "source": [
    "# Pad002Body002Nema17\n",
    "\n",
    "if App.ActiveDocument.getObject('Pad002Body002Nema17'):\n",
    "    App.ActiveDocument.removeObject('Pad002Body002Nema17')\n",
    "    App.ActiveDocument.recompute()\n",
    "\n",
    "App.ActiveDocument.getObject('Body002Nema17').newObject('PartDesign::Pad', 'Pad002Body002Nema17')\n",
    "App.ActiveDocument.getObject('Pad002Body002Nema17').Profile = App.ActiveDocument.getObject('Sketch001Body002Nema17')\n",
    "App.ActiveDocument.getObject('Pad002Body002Nema17').Length = 2\n",
    "App.ActiveDocument.recompute()\n",
    "\n",
    "App.ActiveDocument.getObject('Sketch001Body002Nema17').Visibility = False\n"
   ]
  },
  {
   "cell_type": "code",
   "execution_count": 28,
   "metadata": {},
   "outputs": [],
   "source": [
    "# Chamfer001Body002Nema17\n",
    "\n",
    "if App.ActiveDocument.getObject('Chamfer001Body002Nema17'):\n",
    "    App.ActiveDocument.removeObject('Chamfer001Body002Nema17')\n",
    "    App.ActiveDocument.recompute()\n",
    "\n",
    "App.ActiveDocument.getObject('Body002Nema17').newObject('PartDesign::Chamfer', 'Chamfer001Body002Nema17')\n",
    "App.ActiveDocument.getObject('Chamfer001Body002Nema17').Base = (\n",
    "    App.ActiveDocument.getObject('Pad002Body002Nema17'), [\"Edge1\", \"Edge2\", \"Edge5\", \"Edge8\", ])\n",
    "App.ActiveDocument.getObject('Chamfer001Body002Nema17').Size = 3\n",
    "App.ActiveDocument.recompute()\n",
    "\n",
    "Gui.ActiveDocument.ActiveView.setActiveObject('pdbody', None)\n"
   ]
  },
  {
   "cell_type": "markdown",
   "metadata": {},
   "source": [
    "## Body003Nema17"
   ]
  },
  {
   "cell_type": "code",
   "execution_count": 122,
   "metadata": {},
   "outputs": [],
   "source": [
    "# Body003Nema17\n",
    "\n",
    "if App.ActiveDocument.getObject('Body003Nema17'):\n",
    "    App.ActiveDocument.getObject('Body003Nema17').removeObjectsFromDocument()\n",
    "    App.ActiveDocument.removeObject('Body003Nema17')\n",
    "    App.ActiveDocument.recompute()\n",
    "\n",
    "App.ActiveDocument.addObject('PartDesign::Body', 'Body003Nema17')\n",
    "App.ActiveDocument.recompute()\n",
    "\n",
    "Gui.ActiveDocument.ActiveView.setActiveObject('pdbody', App.ActiveDocument.getObject('Body003Nema17'))\n"
   ]
  },
  {
   "cell_type": "code",
   "execution_count": 123,
   "metadata": {},
   "outputs": [],
   "source": [
    "# Binder001Body003Nema17\n",
    "\n",
    "if App.ActiveDocument.getObject('Binder001Body003Nema17'):\n",
    "    App.ActiveDocument.removeObject('Binder001Body003Nema17')\n",
    "    App.ActiveDocument.recompute()\n",
    "\n",
    "App.ActiveDocument.getObject('Body003Nema17').newObject('PartDesign::SubShapeBinder', 'Binder001Body003Nema17')\n",
    "App.ActiveDocument.getObject('Binder001Body003Nema17').Support = FreeCAD.ActiveDocument.getObject('Sketch001Body001Nema17')\n",
    "App.ActiveDocument.getObject('Binder001Body003Nema17').Placement *= App.ActiveDocument.getObject('Local002Body001Nema17').Placement\n",
    "App.ActiveDocument.recompute()\n"
   ]
  },
  {
   "cell_type": "code",
   "execution_count": 124,
   "metadata": {},
   "outputs": [],
   "source": [
    "# Pad001Body003Nema17\n",
    "\n",
    "if App.ActiveDocument.getObject('Pad001Body003Nema17'):\n",
    "    App.ActiveDocument.removeObject('Pad001Body003Nema17')\n",
    "    App.ActiveDocument.recompute()\n",
    "\n",
    "App.ActiveDocument.getObject('Body003Nema17').newObject('PartDesign::Pad', 'Pad001Body003Nema17')\n",
    "App.ActiveDocument.getObject('Pad001Body003Nema17').Profile = App.ActiveDocument.getObject('Binder001Body003Nema17')\n",
    "App.ActiveDocument.getObject('Pad001Body003Nema17').Length = 10\n",
    "App.ActiveDocument.recompute()\n",
    "\n",
    "App.ActiveDocument.getObject('Binder001Body003Nema17').Visibility = False\n"
   ]
  },
  {
   "cell_type": "code",
   "execution_count": 125,
   "metadata": {},
   "outputs": [],
   "source": [
    "# Chamfer001Body003Nema17\n",
    "\n",
    "if App.ActiveDocument.getObject('Chamfer001Body003Nema17'):\n",
    "    App.ActiveDocument.removeObject('Chamfer001Body003Nema17')\n",
    "    App.ActiveDocument.recompute()\n",
    "\n",
    "App.ActiveDocument.getObject('Body003Nema17').newObject('PartDesign::Chamfer', 'Chamfer001Body003Nema17')\n",
    "App.ActiveDocument.getObject('Chamfer001Body003Nema17').Base = (\n",
    "    App.ActiveDocument.getObject('Pad001Body003Nema17'), [\"Edge1\", \"Edge2\", \"Edge5\", \"Edge8\", ])\n",
    "App.ActiveDocument.getObject('Chamfer001Body003Nema17').Size = 3\n",
    "App.ActiveDocument.recompute()\n"
   ]
  },
  {
   "cell_type": "code",
   "execution_count": 126,
   "metadata": {},
   "outputs": [],
   "source": [
    "# Hole001Body003Nema17\n",
    "\n",
    "if App.ActiveDocument.getObject('Hole001Body003Nema17'):\n",
    "    App.ActiveDocument.removeObject('Hole001Body003Nema17')\n",
    "    App.ActiveDocument.recompute()\n",
    "\n",
    "App.ActiveDocument.getObject('Body003Nema17').newObject('PartDesign::Hole', 'Hole001Body003Nema17')\n",
    "App.ActiveDocument.getObject('Hole001Body003Nema17').Profile = (\n",
    "    App.ActiveDocument.getObject('Chamfer001Body003Nema17'), ['Edge25', 'Edge26', 'Edge28', 'Edge27', ])\n",
    "App.ActiveDocument.getObject('Hole001Body003Nema17').Diameter = 6\n",
    "App.ActiveDocument.getObject('Hole001Body003Nema17').Depth = 6\n",
    "App.ActiveDocument.getObject('Hole001Body003Nema17').Reversed = True\n",
    "App.ActiveDocument.getObject('Hole001Body003Nema17').DrillPoint = 'Flat'\n",
    "App.ActiveDocument.recompute()\n",
    "\n",
    "Gui.ActiveDocument.ActiveView.setActiveObject('pdbody', None)\n"
   ]
  },
  {
   "cell_type": "code",
   "execution_count": 14,
   "metadata": {},
   "outputs": [],
   "source": [
    "# Point00xHoleBody003Nema17\n",
    "\n",
    "if App.ActiveDocument.getObject('Point001Body003Nema17'):\n",
    "    App.ActiveDocument.removeObject('Point001Body003Nema17')\n",
    "    App.ActiveDocument.recompute()\n",
    "\n",
    "if App.ActiveDocument.getObject('Point002Body003Nema17'):\n",
    "    App.ActiveDocument.removeObject('Point002Body003Nema17')\n",
    "    App.ActiveDocument.recompute()\n",
    "\n",
    "if App.ActiveDocument.getObject('Point003Body003Nema17'):\n",
    "    App.ActiveDocument.removeObject('Point003Body003Nema17')\n",
    "    App.ActiveDocument.recompute()\n",
    "\n",
    "if App.ActiveDocument.getObject('Point004Body003Nema17'):\n",
    "    App.ActiveDocument.removeObject('Point004Body003Nema17')\n",
    "    App.ActiveDocument.recompute()\n",
    "\n",
    "App.ActiveDocument.getObject('Body003Nema17').newObject('PartDesign::Point', 'Point001Body003Nema17')\n",
    "App.ActiveDocument.getObject('Point001Body003Nema17').Support = [(App.ActiveDocument.getObject('Hole001Body003Nema17'), 'Edge41')]\n",
    "App.ActiveDocument.getObject('Point001Body003Nema17').MapMode = 'CenterOfCurvature'\n",
    "App.ActiveDocument.recompute()\n",
    "\n",
    "App.ActiveDocument.getObject('Body003Nema17').newObject('PartDesign::Point', 'Point002Body003Nema17')\n",
    "App.ActiveDocument.getObject('Point002Body003Nema17').Support = [(App.ActiveDocument.getObject('Hole001Body003Nema17'), 'Edge43')]\n",
    "App.ActiveDocument.getObject('Point002Body003Nema17').MapMode = 'CenterOfCurvature'\n",
    "App.ActiveDocument.recompute()\n",
    "\n",
    "App.ActiveDocument.getObject('Body003Nema17').newObject('PartDesign::Point', 'Point003Body003Nema17')\n",
    "App.ActiveDocument.getObject('Point003Body003Nema17').Support = [(App.ActiveDocument.getObject('Hole001Body003Nema17'), 'Edge45')]\n",
    "App.ActiveDocument.getObject('Point003Body003Nema17').MapMode = 'CenterOfCurvature'\n",
    "App.ActiveDocument.recompute()\n",
    "\n",
    "App.ActiveDocument.getObject('Body003Nema17').newObject('PartDesign::Point', 'Point004Body003Nema17')\n",
    "App.ActiveDocument.getObject('Point004Body003Nema17').Support = [(App.ActiveDocument.getObject('Hole001Body003Nema17'), 'Edge47')]\n",
    "App.ActiveDocument.getObject('Point004Body003Nema17').MapMode = 'CenterOfCurvature'\n",
    "App.ActiveDocument.recompute()\n",
    "\n",
    "App.ActiveDocument.getObject('Point001Body003Nema17').Visibility = False\n",
    "App.ActiveDocument.getObject('Point002Body003Nema17').Visibility = False\n",
    "App.ActiveDocument.getObject('Point003Body003Nema17').Visibility = False\n",
    "App.ActiveDocument.getObject('Point004Body003Nema17').Visibility = False\n"
   ]
  },
  {
   "cell_type": "markdown",
   "metadata": {},
   "source": [
    "## Body004Nema17"
   ]
  },
  {
   "cell_type": "code",
   "execution_count": 29,
   "metadata": {},
   "outputs": [],
   "source": [
    "# Body004Nema17\n",
    "\n",
    "if App.ActiveDocument.getObject('Body004Nema17'):\n",
    "    App.ActiveDocument.getObject('Body004Nema17').removeObjectsFromDocument()\n",
    "    App.ActiveDocument.removeObject('Body004Nema17')\n",
    "    App.ActiveDocument.recompute()\n",
    "\n",
    "App.ActiveDocument.addObject('PartDesign::Body', 'Body004Nema17')\n",
    "App.ActiveDocument.recompute()\n",
    "\n",
    "Gui.ActiveDocument.ActiveView.setActiveObject('pdbody', App.ActiveDocument.getObject('Body004Nema17'))\n"
   ]
  },
  {
   "cell_type": "code",
   "execution_count": 31,
   "metadata": {},
   "outputs": [],
   "source": [
    "# Sketch001Body004Nema17\n",
    "\n",
    "if App.ActiveDocument.getObject('Sketch001Body004Nema17'):\n",
    "    App.ActiveDocument.removeObject('Sketch001Body004Nema17')\n",
    "    App.ActiveDocument.recompute()\n",
    "\n",
    "App.ActiveDocument.getObject('Body004Nema17').newObject('Sketcher::SketchObject', 'Sketch001Body004Nema17')\n",
    "App.ActiveDocument.getObject('Sketch001Body004Nema17').Support = (App.ActiveDocument.getObject('Local001Body002Nema17'), [''])\n",
    "App.ActiveDocument.getObject('Sketch001Body004Nema17').MapMode = 'FlatFace'\n",
    "App.ActiveDocument.recompute()\n",
    "\n",
    "App.ActiveDocument.getObject('Sketch001Body004Nema17').addGeometry(Part.Circle(App.Vector(0, 0, 0), App.Vector(0, 0, 1), 2), False)\n",
    "\n",
    "conList = []\n",
    "conList.append(Sketcher.Constraint('Coincident', 0, 3, -1, 1))  # 0\n",
    "conList.append(Sketcher.Constraint('Diameter', 0, 5))  # 1\n",
    "App.ActiveDocument.getObject('Sketch001Body004Nema17').addConstraint(conList)\n",
    "\n",
    "App.ActiveDocument.recompute()\n"
   ]
  },
  {
   "cell_type": "code",
   "execution_count": 34,
   "metadata": {},
   "outputs": [],
   "source": [
    "# Pad001Body004Nema17\n",
    "\n",
    "if App.ActiveDocument.getObject('Pad001Body004Nema17'):\n",
    "    App.ActiveDocument.removeObject('Pad001Body004Nema17')\n",
    "    App.ActiveDocument.recompute()\n",
    "\n",
    "App.ActiveDocument.getObject('Body004Nema17').newObject('PartDesign::Pad', 'Pad001Body004Nema17')\n",
    "App.ActiveDocument.getObject('Pad001Body004Nema17').Profile = App.ActiveDocument.getObject('Sketch001Body004Nema17')\n",
    "App.ActiveDocument.getObject('Pad001Body004Nema17').Length = 24\n",
    "App.ActiveDocument.recompute()\n",
    "\n",
    "App.ActiveDocument.getObject('Sketch001Body004Nema17').Visibility = False\n",
    "\n",
    "Gui.ActiveDocument.ActiveView.setActiveObject('pdbody', None)\n"
   ]
  },
  {
   "cell_type": "markdown",
   "metadata": {},
   "source": [
    "## Part001Nema17"
   ]
  },
  {
   "cell_type": "code",
   "execution_count": 17,
   "metadata": {},
   "outputs": [],
   "source": [
    "# Part001Nema17\n",
    "\n",
    "if App.ActiveDocument.getObject('Part001Nema17'):\n",
    "    App.ActiveDocument.getObject('Part001Nema17').removeObjectsFromDocument()\n",
    "    App.ActiveDocument.removeObject('Part001Nema17')\n",
    "    App.ActiveDocument.recompute()\n",
    "\n",
    "App.ActiveDocument.addObject('App::Part', 'Part001Nema17')\n",
    "Gui.ActiveDocument.ActiveView.setActiveObject('part', App.ActiveDocument.getObject('Part001Nema17'))\n",
    "App.ActiveDocument.recompute()\n",
    "\n",
    "# Link00xBody00xNema17\n",
    "\n",
    "App.ActiveDocument.getObject('Part001Nema17').newObject('App::Link', 'Link001Body001Nema17')\n",
    "App.ActiveDocument.getObject('Link001Body001Nema17').LinkedObject = App.ActiveDocument.getObject('Body001Nema17')\n",
    "App.ActiveDocument.recompute()\n",
    "\n",
    "App.ActiveDocument.getObject('Part001Nema17').newObject('App::Link', 'Link002Body001Nema17')\n",
    "App.ActiveDocument.getObject('Link002Body001Nema17').LinkedObject = App.ActiveDocument.getObject('Body002Nema17')\n",
    "App.ActiveDocument.recompute()\n",
    "\n",
    "App.ActiveDocument.getObject('Part001Nema17').newObject('App::Link', 'Link003Body001Nema17')\n",
    "App.ActiveDocument.getObject('Link003Body001Nema17').LinkedObject = App.ActiveDocument.getObject('Body003Nema17')\n",
    "App.ActiveDocument.recompute()\n",
    "\n",
    "App.ActiveDocument.getObject('Part001Nema17').newObject('App::Link', 'Link004Body001Nema17')\n",
    "App.ActiveDocument.getObject('Link004Body001Nema17').LinkedObject = App.ActiveDocument.getObject('Body004Nema17')\n",
    "App.ActiveDocument.recompute()\n",
    "\n",
    "App.ActiveDocument.getObject('Body001Nema17').Visibility = False\n",
    "App.ActiveDocument.getObject('Body002Nema17').Visibility = False\n",
    "App.ActiveDocument.getObject('Body003Nema17').Visibility = False\n",
    "App.ActiveDocument.getObject('Body004Nema17').Visibility = False\n",
    "\n",
    "Gui.ActiveDocument.ActiveView.setActiveObject('part', None)\n"
   ]
  },
  {
   "cell_type": "code",
   "execution_count": 18,
   "metadata": {},
   "outputs": [],
   "source": [
    "# Group001Nema17\n",
    "\n",
    "if App.ActiveDocument.getObject('Group001Nema17'):\n",
    "    App.ActiveDocument.removeObject('Group001Nema17')\n",
    "    App.ActiveDocument.recompute()\n",
    "\n",
    "App.activeDocument().addObject('App::DocumentObjectGroup', 'Group001Nema17')\n",
    "App.ActiveDocument.getObject(\"Group001Nema17\").addObject(App.ActiveDocument.getObject(\"Body001Nema17\"))\n",
    "App.ActiveDocument.getObject(\"Group001Nema17\").addObject(App.ActiveDocument.getObject(\"Body002Nema17\"))\n",
    "App.ActiveDocument.getObject(\"Group001Nema17\").addObject(App.ActiveDocument.getObject(\"Body003Nema17\"))\n",
    "App.ActiveDocument.getObject(\"Group001Nema17\").addObject(App.ActiveDocument.getObject(\"Body004Nema17\"))\n",
    "App.ActiveDocument.getObject(\"Group001Nema17\").addObject(App.ActiveDocument.getObject(\"Part001Nema17\"))\n",
    "\n",
    "App.ActiveDocument.recompute()\n"
   ]
  },
  {
   "cell_type": "markdown",
   "metadata": {},
   "source": [
    "# Document"
   ]
  },
  {
   "cell_type": "code",
   "execution_count": 127,
   "metadata": {},
   "outputs": [],
   "source": [
    "# Save\n",
    "\n",
    "Gui.ActiveDocument.ActiveView.setActiveObject('pdbody', None)\n",
    "Gui.activeDocument().activeView().viewDefaultOrientation()\n",
    "Gui.SendMsgToActiveView(\"ViewFit\")\n",
    "\n",
    "App.ActiveDocument.save()\n"
   ]
  }
 ],
 "metadata": {
  "kernelspec": {
   "display_name": "FreeCAD",
   "language": "",
   "name": "freecad"
  },
  "language_info": {
   "file_extension": ".py",
   "mimetype": "text/x-python",
   "name": "python"
  },
  "orig_nbformat": 4,
  "vscode": {
   "interpreter": {
    "hash": "916dbcbb3f70747c44a77c7bcd40155683ae19c65e1c03b4aa3499c5328201f1"
   }
  }
 },
 "nbformat": 4,
 "nbformat_minor": 2
}
