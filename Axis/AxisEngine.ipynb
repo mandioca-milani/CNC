{
 "cells": [
  {
   "cell_type": "markdown",
   "metadata": {},
   "source": [
    "# Document"
   ]
  },
  {
   "cell_type": "code",
   "execution_count": 14,
   "metadata": {},
   "outputs": [],
   "source": [
    "# Document\n",
    "\n",
    "for doc in App.listDocuments():\n",
    "    App.closeDocument(doc)\n",
    "\n",
    "docs = [\n",
    "    '/Parts/Sketches.FCStd',\n",
    "]\n",
    "\n",
    "for doc in docs:\n",
    "    App.openDocument(os.getcwd() + doc, hidden=True)\n",
    "\n",
    "if os.path.isfile(os.getcwd() + '/Axis/AxisEngine.FCStd'):\n",
    "    App.openDocument(os.getcwd() + '/Axis/AxisEngine.FCStd')\n",
    "else:\n",
    "    App.newDocument('AxisEngine')\n",
    "    App.ActiveDocument.saveAs(os.getcwd() + '/Axis/AxisEngine.FCStd')\n",
    "\n",
    "Gui.activateWorkbench(\"PartDesignWorkbench\")\n"
   ]
  },
  {
   "cell_type": "markdown",
   "metadata": {},
   "source": [
    "# Group001Nema17"
   ]
  },
  {
   "cell_type": "markdown",
   "metadata": {},
   "source": [
    "## Body001Nema17"
   ]
  },
  {
   "cell_type": "code",
   "execution_count": 112,
   "metadata": {},
   "outputs": [],
   "source": [
    "# Body001Nema17\n",
    "\n",
    "if App.ActiveDocument.getObject('Body001Nema17'):\n",
    "    App.ActiveDocument.getObject('Body001Nema17').removeObjectsFromDocument()\n",
    "    App.ActiveDocument.removeObject('Body001Nema17')\n",
    "    App.ActiveDocument.recompute()\n",
    "\n",
    "App.ActiveDocument.addObject('PartDesign::Body', 'Body001Nema17')\n",
    "App.ActiveDocument.recompute()\n",
    "\n",
    "Gui.ActiveDocument.ActiveView.setActiveObject('pdbody', App.ActiveDocument.getObject('Body001Nema17'))\n"
   ]
  },
  {
   "cell_type": "code",
   "execution_count": 113,
   "metadata": {},
   "outputs": [],
   "source": [
    "# Sketch001Body001Nema17\n",
    "\n",
    "if App.ActiveDocument.getObject('Sketch001Body001Nema17'):\n",
    "    App.ActiveDocument.removeObject('Sketch001Body001Nema17')\n",
    "    App.ActiveDocument.recompute()\n",
    "\n",
    "App.ActiveDocument.getObject('Body001Nema17').newObject('Sketcher::SketchObject', 'Sketch001Body001Nema17')\n",
    "App.ActiveDocument.getObject('Sketch001Body001Nema17').Support = (App.ActiveDocument.getObject(\n",
    "    'XY_Plane' + App.ActiveDocument.getObject('Body001Nema17').Origin.Name.replace('Origin', '')), [''])\n",
    "App.ActiveDocument.getObject('Sketch001Body001Nema17').MapMode = 'FlatFace'\n",
    "App.ActiveDocument.recompute()\n",
    "\n",
    "geoList = []\n",
    "geoList.append(Part.LineSegment(App.Vector(-1, 1, 0), App.Vector(1, 1, 0)))  # 0\n",
    "geoList.append(Part.LineSegment(App.Vector(1, 1, 0), App.Vector(1, -1, 0)))  # 1\n",
    "geoList.append(Part.LineSegment(App.Vector(1, -1, 0), App.Vector(-1, -1, 0)))  # 2\n",
    "geoList.append(Part.LineSegment(App.Vector(-1, -1, 0), App.Vector(-1, 1, 0)))  # 3\n",
    "App.ActiveDocument.getObject('Sketch001Body001Nema17').addGeometry(geoList, False)\n",
    "\n",
    "conList = []\n",
    "conList.append(Sketcher.Constraint('Coincident', 0, 2, 1, 1))  # 0\n",
    "conList.append(Sketcher.Constraint('Coincident', 1, 2, 2, 1))  # 1\n",
    "conList.append(Sketcher.Constraint('Coincident', 2, 2, 3, 1))  # 2\n",
    "conList.append(Sketcher.Constraint('Coincident', 3, 2, 0, 1))  # 3\n",
    "conList.append(Sketcher.Constraint('Horizontal', 0))  # 4\n",
    "conList.append(Sketcher.Constraint('Vertical', 1))  # 5\n",
    "conList.append(Sketcher.Constraint('Symmetric', 2, 1, 2, 2, -2))  # 6\n",
    "conList.append(Sketcher.Constraint('Symmetric', 0, 1, 2, 2, -1))  # 7\n",
    "conList.append(Sketcher.Constraint('Distance', 0, 42))  # 8\n",
    "conList.append(Sketcher.Constraint('Equal', 1, 0))  # 9\n",
    "App.ActiveDocument.getObject('Sketch001Body001Nema17').addConstraint(conList)\n",
    "\n",
    "geoList = []\n",
    "geoList.append(Part.Circle(App.Vector(-1, 1, 0), App.Vector(0, 0, 1), 1))  # 4\n",
    "geoList.append(Part.Circle(App.Vector(1, 1, 0), App.Vector(0, 0, 1), 1))  # 5\n",
    "geoList.append(Part.Circle(App.Vector(-1, -1, 0), App.Vector(0, 0, 1), 1))  # 6\n",
    "geoList.append(Part.Circle(App.Vector(1, -1, 0), App.Vector(0, 0, 1), 1))  # 7\n",
    "App.ActiveDocument.getObject('Sketch001Body001Nema17').addGeometry(geoList, False)\n",
    "\n",
    "conList = []\n",
    "conList.append(Sketcher.Constraint('Symmetric', 4, 3, 5, 3, -2))  # 10\n",
    "conList.append(Sketcher.Constraint('Symmetric', 4, 3, 6, 3, -1))  # 11\n",
    "conList.append(Sketcher.Constraint('Symmetric', 6, 3, 7, 3, -2))  # 12\n",
    "conList.append(Sketcher.Constraint('Distance', 4, 3, 5, 3, 31))  # 13\n",
    "conList.append(Sketcher.Constraint('Distance', 6, 3, 4, 3, 31))  # 14\n",
    "conList.append(Sketcher.Constraint('Diameter', 4, 3))  # 15\n",
    "conList.append(Sketcher.Constraint('Equal', 4, 5))  # 16\n",
    "conList.append(Sketcher.Constraint('Equal', 5, 6))  # 17\n",
    "conList.append(Sketcher.Constraint('Equal', 6, 7))  # 18\n",
    "App.ActiveDocument.getObject('Sketch001Body001Nema17').addConstraint(conList)\n",
    "\n",
    "App.ActiveDocument.recompute()\n"
   ]
  },
  {
   "cell_type": "code",
   "execution_count": 114,
   "metadata": {},
   "outputs": [],
   "source": [
    "# Pad001Body001Nema17\n",
    "\n",
    "if App.ActiveDocument.getObject('Pad001Body001Nema17'):\n",
    "    App.ActiveDocument.removeObject('Pad001Body001Nema17')\n",
    "    App.ActiveDocument.recompute()\n",
    "\n",
    "App.ActiveDocument.getObject('Body001Nema17').newObject('PartDesign::Pad', 'Pad001Body001Nema17')\n",
    "App.ActiveDocument.getObject('Pad001Body001Nema17').Profile = App.ActiveDocument.getObject('Sketch001Body001Nema17')\n",
    "App.ActiveDocument.getObject('Pad001Body001Nema17').Length = 22\n",
    "App.ActiveDocument.getObject('Pad001Body001Nema17').Midplane = True\n",
    "App.ActiveDocument.recompute()\n",
    "\n",
    "App.ActiveDocument.getObject('Sketch001Body001Nema17').Visibility = False\n"
   ]
  },
  {
   "cell_type": "code",
   "execution_count": 7,
   "metadata": {},
   "outputs": [],
   "source": [
    "# Local00xPad001Body001Nema17\n",
    "\n",
    "if App.ActiveDocument.getObject('Local001Body001Nema17'):\n",
    "    App.ActiveDocument.removeObject('Local001Body001Nema17')\n",
    "    App.ActiveDocument.recompute()\n",
    "\n",
    "if App.ActiveDocument.getObject('Local002Body001Nema17'):\n",
    "    App.ActiveDocument.removeObject('Local002Body001Nema17')\n",
    "    App.ActiveDocument.recompute()\n",
    "\n",
    "App.ActiveDocument.getObject('Body001Nema17').newObject('PartDesign::CoordinateSystem', 'Local001Body001Nema17')\n",
    "App.ActiveDocument.getObject('Local001Body001Nema17').Support = [(App.ActiveDocument.getObject('Pad001Body001Nema17'), 'Face10')]\n",
    "App.ActiveDocument.getObject('Local001Body001Nema17').MapMode = 'FlatFace'\n",
    "App.ActiveDocument.recompute()\n",
    "\n",
    "App.ActiveDocument.getObject('Body001Nema17').newObject('PartDesign::CoordinateSystem', 'Local002Body001Nema17')\n",
    "App.ActiveDocument.getObject('Local002Body001Nema17').Support = [(App.ActiveDocument.getObject('Pad001Body001Nema17'), 'Face9')]\n",
    "App.ActiveDocument.getObject('Local002Body001Nema17').MapMode = 'FlatFace'\n",
    "App.ActiveDocument.recompute()\n",
    "\n",
    "App.ActiveDocument.getObject('Local001Body001Nema17').Visibility = False\n",
    "App.ActiveDocument.getObject('Local002Body001Nema17').Visibility = False\n"
   ]
  },
  {
   "cell_type": "code",
   "execution_count": 116,
   "metadata": {},
   "outputs": [],
   "source": [
    "# Chamfer001Body001Nema17\n",
    "\n",
    "if App.ActiveDocument.getObject('Chamfer001Body001Nema17'):\n",
    "    App.ActiveDocument.removeObject('Chamfer001Body001Nema17')\n",
    "    App.ActiveDocument.recompute()\n",
    "\n",
    "App.ActiveDocument.getObject('Body001Nema17').newObject('PartDesign::Chamfer', 'Chamfer001Body001Nema17')\n",
    "App.ActiveDocument.getObject('Chamfer001Body001Nema17').Base = (\n",
    "    App.ActiveDocument.getObject('Pad001Body001Nema17'), [\"Edge1\", \"Edge2\", \"Edge5\", \"Edge8\", ])\n",
    "App.ActiveDocument.getObject('Chamfer001Body001Nema17').Size = 5\n",
    "App.ActiveDocument.recompute()\n",
    "\n",
    "App.ActiveDocument.getObject('Body001Nema17').ViewObject.ShapeColor = (0.2, 0.2, 0.2, 0.0)\n",
    "Gui.ActiveDocument.ActiveView.setActiveObject('pdbody', None)\n"
   ]
  },
  {
   "cell_type": "markdown",
   "metadata": {},
   "source": [
    "## Body002Nema17"
   ]
  },
  {
   "cell_type": "code",
   "execution_count": 118,
   "metadata": {},
   "outputs": [],
   "source": [
    "# Body002Nema17\n",
    "\n",
    "if App.ActiveDocument.getObject('Body002Nema17'):\n",
    "    App.ActiveDocument.getObject('Body002Nema17').removeObjectsFromDocument()\n",
    "    App.ActiveDocument.removeObject('Body002Nema17')\n",
    "    App.ActiveDocument.recompute()\n",
    "\n",
    "App.ActiveDocument.addObject('PartDesign::Body', 'Body002Nema17')\n",
    "App.ActiveDocument.recompute()\n",
    "\n",
    "Gui.ActiveDocument.ActiveView.setActiveObject('pdbody', App.ActiveDocument.getObject('Body002Nema17'))\n"
   ]
  },
  {
   "cell_type": "code",
   "execution_count": 119,
   "metadata": {},
   "outputs": [],
   "source": [
    "# Binder001Body002Nema17\n",
    "\n",
    "if App.ActiveDocument.getObject('Binder001Body002Nema17'):\n",
    "    App.ActiveDocument.removeObject('Binder001Body002Nema17')\n",
    "    App.ActiveDocument.recompute()\n",
    "\n",
    "App.ActiveDocument.getObject('Body002Nema17').newObject('PartDesign::SubShapeBinder', 'Binder001Body002Nema17')\n",
    "App.ActiveDocument.getObject('Binder001Body002Nema17').Support = FreeCAD.ActiveDocument.getObject('Sketch001Body001Nema17')\n",
    "App.ActiveDocument.getObject('Binder001Body002Nema17').Placement *= App.ActiveDocument.getObject('Local001Body001Nema17').Placement\n",
    "App.ActiveDocument.recompute()\n"
   ]
  },
  {
   "cell_type": "code",
   "execution_count": 120,
   "metadata": {},
   "outputs": [],
   "source": [
    "# Pad001Body002Nema17\n",
    "\n",
    "if App.ActiveDocument.getObject('Pad001Body002Nema17'):\n",
    "    App.ActiveDocument.removeObject('Pad001Body002Nema17')\n",
    "    App.ActiveDocument.recompute()\n",
    "\n",
    "App.ActiveDocument.getObject('Body002Nema17').newObject('PartDesign::Pad', 'Pad001Body002Nema17')\n",
    "App.ActiveDocument.getObject('Pad001Body002Nema17').Profile = App.ActiveDocument.getObject('Binder001Body002Nema17')\n",
    "App.ActiveDocument.getObject('Pad001Body002Nema17').Length = 8\n",
    "App.ActiveDocument.recompute()\n",
    "\n",
    "App.ActiveDocument.getObject('Binder001Body002Nema17').Visibility = False\n"
   ]
  },
  {
   "cell_type": "code",
   "execution_count": 20,
   "metadata": {},
   "outputs": [],
   "source": [
    "# Local001Body002Nema17\n",
    "\n",
    "if App.ActiveDocument.getObject('Local001Body002Nema17'):\n",
    "    App.ActiveDocument.removeObject('Local001Body002Nema17')\n",
    "    App.ActiveDocument.recompute()\n",
    "\n",
    "App.ActiveDocument.getObject('Body002Nema17').newObject('PartDesign::CoordinateSystem', 'Local001Body002Nema17')\n",
    "App.ActiveDocument.getObject('Local001Body002Nema17').Support = [(App.ActiveDocument.getObject('Pad001Body002Nema17'), 'Face10')]\n",
    "App.ActiveDocument.getObject('Local001Body002Nema17').MapMode = 'FlatFace'\n",
    "App.ActiveDocument.recompute()\n",
    "\n",
    "App.ActiveDocument.getObject('Local001Body002Nema17').Visibility = False\n"
   ]
  },
  {
   "cell_type": "code",
   "execution_count": 26,
   "metadata": {},
   "outputs": [],
   "source": [
    "# Sketch001Body002Nema17\n",
    "\n",
    "if App.ActiveDocument.getObject('Sketch001Body002Nema17'):\n",
    "    App.ActiveDocument.removeObject('Sketch001Body002Nema17')\n",
    "    App.ActiveDocument.recompute()\n",
    "\n",
    "App.ActiveDocument.getObject('Body002Nema17').newObject('Sketcher::SketchObject', 'Sketch001Body002Nema17')\n",
    "App.ActiveDocument.getObject('Sketch001Body002Nema17').Support = (App.ActiveDocument.getObject('Pad001Body002Nema17'), ['Face10'])\n",
    "App.ActiveDocument.getObject('Sketch001Body002Nema17').MapMode = 'FlatFace'\n",
    "App.ActiveDocument.recompute()\n",
    "\n",
    "geoList = []\n",
    "geoList.append(Part.Circle(App.Vector(0, 0, 0), App.Vector(0, 0, 1), 2))  # 0\n",
    "geoList.append(Part.Circle(App.Vector(0, 0, 0), App.Vector(0, 0, 1), 1))  # 1\n",
    "App.ActiveDocument.getObject('Sketch001Body002Nema17').addGeometry(geoList, False)\n",
    "\n",
    "conList = []\n",
    "conList.append(Sketcher.Constraint('Coincident', 0, 3, -1, 1))  # 0\n",
    "conList.append(Sketcher.Constraint('Coincident', 1, 3, -1, 1))  # 1\n",
    "conList.append(Sketcher.Constraint('Diameter', 0, 22))  # 3\n",
    "conList.append(Sketcher.Constraint('Diameter', 1, 8))  # 3\n",
    "App.ActiveDocument.getObject('Sketch001Body002Nema17').addConstraint(conList)\n",
    "\n",
    "App.ActiveDocument.recompute()\n"
   ]
  },
  {
   "cell_type": "code",
   "execution_count": 27,
   "metadata": {},
   "outputs": [],
   "source": [
    "# Pad002Body002Nema17\n",
    "\n",
    "if App.ActiveDocument.getObject('Pad002Body002Nema17'):\n",
    "    App.ActiveDocument.removeObject('Pad002Body002Nema17')\n",
    "    App.ActiveDocument.recompute()\n",
    "\n",
    "App.ActiveDocument.getObject('Body002Nema17').newObject('PartDesign::Pad', 'Pad002Body002Nema17')\n",
    "App.ActiveDocument.getObject('Pad002Body002Nema17').Profile = App.ActiveDocument.getObject('Sketch001Body002Nema17')\n",
    "App.ActiveDocument.getObject('Pad002Body002Nema17').Length = 2\n",
    "App.ActiveDocument.recompute()\n",
    "\n",
    "App.ActiveDocument.getObject('Sketch001Body002Nema17').Visibility = False\n"
   ]
  },
  {
   "cell_type": "code",
   "execution_count": 28,
   "metadata": {},
   "outputs": [],
   "source": [
    "# Chamfer001Body002Nema17\n",
    "\n",
    "if App.ActiveDocument.getObject('Chamfer001Body002Nema17'):\n",
    "    App.ActiveDocument.removeObject('Chamfer001Body002Nema17')\n",
    "    App.ActiveDocument.recompute()\n",
    "\n",
    "App.ActiveDocument.getObject('Body002Nema17').newObject('PartDesign::Chamfer', 'Chamfer001Body002Nema17')\n",
    "App.ActiveDocument.getObject('Chamfer001Body002Nema17').Base = (\n",
    "    App.ActiveDocument.getObject('Pad002Body002Nema17'), [\"Edge1\", \"Edge2\", \"Edge5\", \"Edge8\", ])\n",
    "App.ActiveDocument.getObject('Chamfer001Body002Nema17').Size = 3\n",
    "App.ActiveDocument.recompute()\n",
    "\n",
    "Gui.ActiveDocument.ActiveView.setActiveObject('pdbody', None)\n"
   ]
  },
  {
   "cell_type": "markdown",
   "metadata": {},
   "source": [
    "## Body003Nema17"
   ]
  },
  {
   "cell_type": "code",
   "execution_count": 122,
   "metadata": {},
   "outputs": [],
   "source": [
    "# Body003Nema17\n",
    "\n",
    "if App.ActiveDocument.getObject('Body003Nema17'):\n",
    "    App.ActiveDocument.getObject('Body003Nema17').removeObjectsFromDocument()\n",
    "    App.ActiveDocument.removeObject('Body003Nema17')\n",
    "    App.ActiveDocument.recompute()\n",
    "\n",
    "App.ActiveDocument.addObject('PartDesign::Body', 'Body003Nema17')\n",
    "App.ActiveDocument.recompute()\n",
    "\n",
    "Gui.ActiveDocument.ActiveView.setActiveObject('pdbody', App.ActiveDocument.getObject('Body003Nema17'))\n"
   ]
  },
  {
   "cell_type": "code",
   "execution_count": 123,
   "metadata": {},
   "outputs": [],
   "source": [
    "# Binder001Body003Nema17\n",
    "\n",
    "if App.ActiveDocument.getObject('Binder001Body003Nema17'):\n",
    "    App.ActiveDocument.removeObject('Binder001Body003Nema17')\n",
    "    App.ActiveDocument.recompute()\n",
    "\n",
    "App.ActiveDocument.getObject('Body003Nema17').newObject('PartDesign::SubShapeBinder', 'Binder001Body003Nema17')\n",
    "App.ActiveDocument.getObject('Binder001Body003Nema17').Support = FreeCAD.ActiveDocument.getObject('Sketch001Body001Nema17')\n",
    "App.ActiveDocument.getObject('Binder001Body003Nema17').Placement *= App.ActiveDocument.getObject('Local002Body001Nema17').Placement\n",
    "App.ActiveDocument.recompute()\n"
   ]
  },
  {
   "cell_type": "code",
   "execution_count": 124,
   "metadata": {},
   "outputs": [],
   "source": [
    "# Pad001Body003Nema17\n",
    "\n",
    "if App.ActiveDocument.getObject('Pad001Body003Nema17'):\n",
    "    App.ActiveDocument.removeObject('Pad001Body003Nema17')\n",
    "    App.ActiveDocument.recompute()\n",
    "\n",
    "App.ActiveDocument.getObject('Body003Nema17').newObject('PartDesign::Pad', 'Pad001Body003Nema17')\n",
    "App.ActiveDocument.getObject('Pad001Body003Nema17').Profile = App.ActiveDocument.getObject('Binder001Body003Nema17')\n",
    "App.ActiveDocument.getObject('Pad001Body003Nema17').Length = 10\n",
    "App.ActiveDocument.recompute()\n",
    "\n",
    "App.ActiveDocument.getObject('Binder001Body003Nema17').Visibility = False\n"
   ]
  },
  {
   "cell_type": "code",
   "execution_count": 125,
   "metadata": {},
   "outputs": [],
   "source": [
    "# Chamfer001Body003Nema17\n",
    "\n",
    "if App.ActiveDocument.getObject('Chamfer001Body003Nema17'):\n",
    "    App.ActiveDocument.removeObject('Chamfer001Body003Nema17')\n",
    "    App.ActiveDocument.recompute()\n",
    "\n",
    "App.ActiveDocument.getObject('Body003Nema17').newObject('PartDesign::Chamfer', 'Chamfer001Body003Nema17')\n",
    "App.ActiveDocument.getObject('Chamfer001Body003Nema17').Base = (\n",
    "    App.ActiveDocument.getObject('Pad001Body003Nema17'), [\"Edge1\", \"Edge2\", \"Edge5\", \"Edge8\", ])\n",
    "App.ActiveDocument.getObject('Chamfer001Body003Nema17').Size = 3\n",
    "App.ActiveDocument.recompute()\n"
   ]
  },
  {
   "cell_type": "code",
   "execution_count": 126,
   "metadata": {},
   "outputs": [],
   "source": [
    "# Hole001Body003Nema17\n",
    "\n",
    "if App.ActiveDocument.getObject('Hole001Body003Nema17'):\n",
    "    App.ActiveDocument.removeObject('Hole001Body003Nema17')\n",
    "    App.ActiveDocument.recompute()\n",
    "\n",
    "App.ActiveDocument.getObject('Body003Nema17').newObject('PartDesign::Hole', 'Hole001Body003Nema17')\n",
    "App.ActiveDocument.getObject('Hole001Body003Nema17').Profile = (\n",
    "    App.ActiveDocument.getObject('Chamfer001Body003Nema17'), ['Edge25', 'Edge26', 'Edge28', 'Edge27', ])\n",
    "App.ActiveDocument.getObject('Hole001Body003Nema17').Diameter = 6\n",
    "App.ActiveDocument.getObject('Hole001Body003Nema17').Depth = 6\n",
    "App.ActiveDocument.getObject('Hole001Body003Nema17').Reversed = True\n",
    "App.ActiveDocument.getObject('Hole001Body003Nema17').DrillPoint = 'Flat'\n",
    "App.ActiveDocument.recompute()\n",
    "\n",
    "Gui.ActiveDocument.ActiveView.setActiveObject('pdbody', None)\n"
   ]
  },
  {
   "cell_type": "code",
   "execution_count": 14,
   "metadata": {},
   "outputs": [],
   "source": [
    "# Point00xHoleBody003Nema17\n",
    "\n",
    "if App.ActiveDocument.getObject('Point001Body003Nema17'):\n",
    "    App.ActiveDocument.removeObject('Point001Body003Nema17')\n",
    "    App.ActiveDocument.recompute()\n",
    "\n",
    "if App.ActiveDocument.getObject('Point002Body003Nema17'):\n",
    "    App.ActiveDocument.removeObject('Point002Body003Nema17')\n",
    "    App.ActiveDocument.recompute()\n",
    "\n",
    "if App.ActiveDocument.getObject('Point003Body003Nema17'):\n",
    "    App.ActiveDocument.removeObject('Point003Body003Nema17')\n",
    "    App.ActiveDocument.recompute()\n",
    "\n",
    "if App.ActiveDocument.getObject('Point004Body003Nema17'):\n",
    "    App.ActiveDocument.removeObject('Point004Body003Nema17')\n",
    "    App.ActiveDocument.recompute()\n",
    "\n",
    "App.ActiveDocument.getObject('Body003Nema17').newObject('PartDesign::Point', 'Point001Body003Nema17')\n",
    "App.ActiveDocument.getObject('Point001Body003Nema17').Support = [(App.ActiveDocument.getObject('Hole001Body003Nema17'), 'Edge41')]\n",
    "App.ActiveDocument.getObject('Point001Body003Nema17').MapMode = 'CenterOfCurvature'\n",
    "App.ActiveDocument.recompute()\n",
    "\n",
    "App.ActiveDocument.getObject('Body003Nema17').newObject('PartDesign::Point', 'Point002Body003Nema17')\n",
    "App.ActiveDocument.getObject('Point002Body003Nema17').Support = [(App.ActiveDocument.getObject('Hole001Body003Nema17'), 'Edge43')]\n",
    "App.ActiveDocument.getObject('Point002Body003Nema17').MapMode = 'CenterOfCurvature'\n",
    "App.ActiveDocument.recompute()\n",
    "\n",
    "App.ActiveDocument.getObject('Body003Nema17').newObject('PartDesign::Point', 'Point003Body003Nema17')\n",
    "App.ActiveDocument.getObject('Point003Body003Nema17').Support = [(App.ActiveDocument.getObject('Hole001Body003Nema17'), 'Edge45')]\n",
    "App.ActiveDocument.getObject('Point003Body003Nema17').MapMode = 'CenterOfCurvature'\n",
    "App.ActiveDocument.recompute()\n",
    "\n",
    "App.ActiveDocument.getObject('Body003Nema17').newObject('PartDesign::Point', 'Point004Body003Nema17')\n",
    "App.ActiveDocument.getObject('Point004Body003Nema17').Support = [(App.ActiveDocument.getObject('Hole001Body003Nema17'), 'Edge47')]\n",
    "App.ActiveDocument.getObject('Point004Body003Nema17').MapMode = 'CenterOfCurvature'\n",
    "App.ActiveDocument.recompute()\n",
    "\n",
    "App.ActiveDocument.getObject('Point001Body003Nema17').Visibility = False\n",
    "App.ActiveDocument.getObject('Point002Body003Nema17').Visibility = False\n",
    "App.ActiveDocument.getObject('Point003Body003Nema17').Visibility = False\n",
    "App.ActiveDocument.getObject('Point004Body003Nema17').Visibility = False\n"
   ]
  },
  {
   "cell_type": "markdown",
   "metadata": {},
   "source": [
    "## Body004Nema17"
   ]
  },
  {
   "cell_type": "code",
   "execution_count": 29,
   "metadata": {},
   "outputs": [],
   "source": [
    "# Body004Nema17\n",
    "\n",
    "if App.ActiveDocument.getObject('Body004Nema17'):\n",
    "    App.ActiveDocument.getObject('Body004Nema17').removeObjectsFromDocument()\n",
    "    App.ActiveDocument.removeObject('Body004Nema17')\n",
    "    App.ActiveDocument.recompute()\n",
    "\n",
    "App.ActiveDocument.addObject('PartDesign::Body', 'Body004Nema17')\n",
    "App.ActiveDocument.recompute()\n",
    "\n",
    "Gui.ActiveDocument.ActiveView.setActiveObject('pdbody', App.ActiveDocument.getObject('Body004Nema17'))\n"
   ]
  },
  {
   "cell_type": "code",
   "execution_count": 31,
   "metadata": {},
   "outputs": [],
   "source": [
    "# Sketch001Body004Nema17\n",
    "\n",
    "if App.ActiveDocument.getObject('Sketch001Body004Nema17'):\n",
    "    App.ActiveDocument.removeObject('Sketch001Body004Nema17')\n",
    "    App.ActiveDocument.recompute()\n",
    "\n",
    "App.ActiveDocument.getObject('Body004Nema17').newObject('Sketcher::SketchObject', 'Sketch001Body004Nema17')\n",
    "App.ActiveDocument.getObject('Sketch001Body004Nema17').Support = (App.ActiveDocument.getObject('Local001Body002Nema17'), [''])\n",
    "App.ActiveDocument.getObject('Sketch001Body004Nema17').MapMode = 'FlatFace'\n",
    "App.ActiveDocument.recompute()\n",
    "\n",
    "App.ActiveDocument.getObject('Sketch001Body004Nema17').addGeometry(Part.Circle(App.Vector(0, 0, 0), App.Vector(0, 0, 1), 2), False)\n",
    "\n",
    "conList = []\n",
    "conList.append(Sketcher.Constraint('Coincident', 0, 3, -1, 1))  # 0\n",
    "conList.append(Sketcher.Constraint('Diameter', 0, 5))  # 1\n",
    "App.ActiveDocument.getObject('Sketch001Body004Nema17').addConstraint(conList)\n",
    "\n",
    "App.ActiveDocument.recompute()\n"
   ]
  },
  {
   "cell_type": "code",
   "execution_count": 34,
   "metadata": {},
   "outputs": [],
   "source": [
    "# Pad001Body004Nema17\n",
    "\n",
    "if App.ActiveDocument.getObject('Pad001Body004Nema17'):\n",
    "    App.ActiveDocument.removeObject('Pad001Body004Nema17')\n",
    "    App.ActiveDocument.recompute()\n",
    "\n",
    "App.ActiveDocument.getObject('Body004Nema17').newObject('PartDesign::Pad', 'Pad001Body004Nema17')\n",
    "App.ActiveDocument.getObject('Pad001Body004Nema17').Profile = App.ActiveDocument.getObject('Sketch001Body004Nema17')\n",
    "App.ActiveDocument.getObject('Pad001Body004Nema17').Length = 24\n",
    "App.ActiveDocument.recompute()\n",
    "\n",
    "App.ActiveDocument.getObject('Sketch001Body004Nema17').Visibility = False\n",
    "\n",
    "Gui.ActiveDocument.ActiveView.setActiveObject('pdbody', None)\n"
   ]
  },
  {
   "cell_type": "markdown",
   "metadata": {},
   "source": [
    "## Part001Nema17"
   ]
  },
  {
   "cell_type": "code",
   "execution_count": 17,
   "metadata": {},
   "outputs": [],
   "source": [
    "# Part001Nema17\n",
    "\n",
    "if App.ActiveDocument.getObject('Part001Nema17'):\n",
    "    App.ActiveDocument.getObject('Part001Nema17').removeObjectsFromDocument()\n",
    "    App.ActiveDocument.removeObject('Part001Nema17')\n",
    "    App.ActiveDocument.recompute()\n",
    "\n",
    "App.ActiveDocument.addObject('App::Part', 'Part001Nema17')\n",
    "Gui.ActiveDocument.ActiveView.setActiveObject('part', App.ActiveDocument.getObject('Part001Nema17'))\n",
    "App.ActiveDocument.recompute()\n",
    "\n",
    "# Link00xBody00xNema17\n",
    "\n",
    "App.ActiveDocument.getObject('Part001Nema17').newObject('App::Link', 'Link001Body001Nema17')\n",
    "App.ActiveDocument.getObject('Link001Body001Nema17').LinkedObject = App.ActiveDocument.getObject('Body001Nema17')\n",
    "App.ActiveDocument.recompute()\n",
    "\n",
    "App.ActiveDocument.getObject('Part001Nema17').newObject('App::Link', 'Link002Body001Nema17')\n",
    "App.ActiveDocument.getObject('Link002Body001Nema17').LinkedObject = App.ActiveDocument.getObject('Body002Nema17')\n",
    "App.ActiveDocument.recompute()\n",
    "\n",
    "App.ActiveDocument.getObject('Part001Nema17').newObject('App::Link', 'Link003Body001Nema17')\n",
    "App.ActiveDocument.getObject('Link003Body001Nema17').LinkedObject = App.ActiveDocument.getObject('Body003Nema17')\n",
    "App.ActiveDocument.recompute()\n",
    "\n",
    "App.ActiveDocument.getObject('Part001Nema17').newObject('App::Link', 'Link004Body001Nema17')\n",
    "App.ActiveDocument.getObject('Link004Body001Nema17').LinkedObject = App.ActiveDocument.getObject('Body004Nema17')\n",
    "App.ActiveDocument.recompute()\n",
    "\n",
    "App.ActiveDocument.getObject('Body001Nema17').Visibility = False\n",
    "App.ActiveDocument.getObject('Body002Nema17').Visibility = False\n",
    "App.ActiveDocument.getObject('Body003Nema17').Visibility = False\n",
    "App.ActiveDocument.getObject('Body004Nema17').Visibility = False\n",
    "\n",
    "Gui.ActiveDocument.ActiveView.setActiveObject('part', None)\n"
   ]
  },
  {
   "cell_type": "code",
   "execution_count": 18,
   "metadata": {},
   "outputs": [],
   "source": [
    "# Group001Nema17\n",
    "\n",
    "if App.ActiveDocument.getObject('Group001Nema17'):\n",
    "    App.ActiveDocument.removeObject('Group001Nema17')\n",
    "    App.ActiveDocument.recompute()\n",
    "\n",
    "App.activeDocument().addObject('App::DocumentObjectGroup', 'Group001Nema17')\n",
    "App.ActiveDocument.getObject(\"Group001Nema17\").addObject(App.ActiveDocument.getObject(\"Body001Nema17\"))\n",
    "App.ActiveDocument.getObject(\"Group001Nema17\").addObject(App.ActiveDocument.getObject(\"Body002Nema17\"))\n",
    "App.ActiveDocument.getObject(\"Group001Nema17\").addObject(App.ActiveDocument.getObject(\"Body003Nema17\"))\n",
    "App.ActiveDocument.getObject(\"Group001Nema17\").addObject(App.ActiveDocument.getObject(\"Body004Nema17\"))\n",
    "App.ActiveDocument.getObject(\"Group001Nema17\").addObject(App.ActiveDocument.getObject(\"Part001Nema17\"))\n",
    "\n",
    "App.ActiveDocument.recompute()\n"
   ]
  },
  {
   "cell_type": "markdown",
   "metadata": {},
   "source": [
    "## Body001Coupling"
   ]
  },
  {
   "cell_type": "code",
   "execution_count": 15,
   "metadata": {},
   "outputs": [],
   "source": [
    "# Body001Coupling\n",
    "\n",
    "if App.ActiveDocument.getObject('Body001Coupling'):\n",
    "    App.ActiveDocument.getObject('Body001Coupling').removeObjectsFromDocument()\n",
    "    App.ActiveDocument.removeObject('Body001Coupling')\n",
    "    App.ActiveDocument.recompute()\n",
    "\n",
    "App.ActiveDocument.addObject('PartDesign::Body', 'Body001Coupling')\n",
    "App.ActiveDocument.recompute()\n",
    "\n",
    "Gui.ActiveDocument.ActiveView.setActiveObject('pdbody', App.ActiveDocument.getObject('Body001Coupling'))\n"
   ]
  },
  {
   "cell_type": "code",
   "execution_count": 16,
   "metadata": {},
   "outputs": [],
   "source": [
    "# Sketch001Body001Coupling\n",
    "\n",
    "if App.ActiveDocument.getObject('Sketch001Body001Coupling'):\n",
    "    App.ActiveDocument.removeObject('Sketch001Body001Coupling')\n",
    "    App.ActiveDocument.recompute()\n",
    "\n",
    "App.ActiveDocument.getObject('Body001Coupling').newObject('Sketcher::SketchObject', 'Sketch001Body001Coupling')\n",
    "App.ActiveDocument.getObject('Sketch001Body001Coupling').Support = (App.ActiveDocument.getObject(\n",
    "    'XY_Plane' + App.ActiveDocument.getObject('Body001Coupling').Origin.Name.replace('Origin', '')), [''])\n",
    "App.ActiveDocument.getObject('Sketch001Body001Coupling').MapMode = 'FlatFace'\n",
    "App.ActiveDocument.recompute()\n",
    "\n",
    "geoList = []\n",
    "geoList.append(Part.Circle(App.Vector(0, 0, 0), App.Vector(0, 0, 1), 2))  # 0\n",
    "geoList.append(Part.Circle(App.Vector(0, 0, 0), App.Vector(0, 0, 1), 1))  # 1\n",
    "App.ActiveDocument.getObject('Sketch001Body001Coupling').addGeometry(geoList, False)\n",
    "\n",
    "conList = []\n",
    "conList.append(Sketcher.Constraint('Coincident', 0, 3, -1, 1))  # 0\n",
    "conList.append(Sketcher.Constraint('Coincident', 1, 3, -1, 1))  # 1\n",
    "conList.append(Sketcher.Constraint('Diameter', 0, 19))  # 3\n",
    "conList.append(Sketcher.Constraint('Diameter', 1, 5))  # 3\n",
    "App.ActiveDocument.getObject('Sketch001Body001Coupling').addConstraint(conList)\n",
    "\n",
    "App.ActiveDocument.recompute()\n"
   ]
  },
  {
   "cell_type": "code",
   "execution_count": 17,
   "metadata": {},
   "outputs": [],
   "source": [
    "# Pad001Body001Coupling\n",
    "\n",
    "if App.ActiveDocument.getObject('Pad001Body001Coupling'):\n",
    "    App.ActiveDocument.removeObject('Pad001Body001Coupling')\n",
    "    App.ActiveDocument.recompute()\n",
    "\n",
    "App.ActiveDocument.getObject('Body001Coupling').newObject('PartDesign::Pad', 'Pad001Body001Coupling')\n",
    "App.ActiveDocument.getObject('Pad001Body001Coupling').Profile = App.ActiveDocument.getObject('Sketch001Body001Coupling')\n",
    "App.ActiveDocument.getObject('Pad001Body001Coupling').Length = 24\n",
    "App.ActiveDocument.getObject('Pad001Body001Coupling').Midplane = True\n",
    "App.ActiveDocument.recompute()\n",
    "\n",
    "App.ActiveDocument.getObject('Sketch001Body001Coupling').Visibility = False\n"
   ]
  },
  {
   "cell_type": "code",
   "execution_count": 18,
   "metadata": {},
   "outputs": [],
   "source": [
    "# Hole001Body001Coupling\n",
    "\n",
    "if App.ActiveDocument.getObject('Hole001Body001Coupling'):\n",
    "    App.ActiveDocument.removeObject('Hole001Body001Coupling')\n",
    "    App.ActiveDocument.recompute()\n",
    "\n",
    "App.ActiveDocument.getObject('Body001Coupling').newObject('PartDesign::Hole', 'Hole001Body001Coupling')\n",
    "App.ActiveDocument.getObject('Hole001Body001Coupling').Profile = (\n",
    "    App.ActiveDocument.getObject('Pad001Body001Coupling'), ['Edge6', ])\n",
    "App.ActiveDocument.getObject('Hole001Body001Coupling').Diameter = 8\n",
    "App.ActiveDocument.getObject('Hole001Body001Coupling').Depth = 18\n",
    "App.ActiveDocument.getObject('Hole001Body001Coupling').Reversed = False\n",
    "App.ActiveDocument.getObject('Hole001Body001Coupling').DrillPoint = 'Flat'\n",
    "App.ActiveDocument.recompute()\n"
   ]
  },
  {
   "cell_type": "code",
   "execution_count": 40,
   "metadata": {},
   "outputs": [],
   "source": [
    "# Sketch002Body001Coupling\n",
    "\n",
    "if App.ActiveDocument.getObject('Sketch002Body001Coupling'):\n",
    "    App.ActiveDocument.removeObject('Sketch002Body001Coupling')\n",
    "    App.ActiveDocument.recompute()\n",
    "\n",
    "App.ActiveDocument.getObject('Body001Coupling').newObject('Sketcher::SketchObject', 'Sketch002Body001Coupling')\n",
    "App.ActiveDocument.getObject('Sketch002Body001Coupling').Support = (App.ActiveDocument.getObject(\n",
    "    'YZ_Plane' + App.ActiveDocument.getObject('Body001Coupling').Origin.Name.replace('Origin', '')), [''])\n",
    "App.ActiveDocument.getObject('Sketch002Body001Coupling').MapMode = 'FlatFace'\n",
    "App.ActiveDocument.recompute()\n",
    "\n",
    "geoList = []\n",
    "geoList.append(Part.Circle(App.Vector(0, 1, 0), App.Vector(0, 0, 1), 1))  # 0\n",
    "geoList.append(Part.Circle(App.Vector(0, -1, 0), App.Vector(0, 0, 1), 1))  # 1\n",
    "App.ActiveDocument.getObject('Sketch002Body001Coupling').addGeometry(geoList, False)\n",
    "\n",
    "conList = []\n",
    "conList.append(Sketcher.Constraint('PointOnObject', 1, 3, -2))  # 0\n",
    "conList.append(Sketcher.Constraint('Distance', 1, 3, 0, 3, 16))  # 3\n",
    "conList.append(Sketcher.Constraint('Symmetric', 0, 3, 1, 3, -1))  # 1\n",
    "conList.append(Sketcher.Constraint('Diameter', 0, 4))  # 4\n",
    "conList.append(Sketcher.Constraint('Diameter', 1, 4))  # 5\n",
    "App.ActiveDocument.getObject('Sketch002Body001Coupling').addConstraint(conList)\n",
    "\n",
    "App.ActiveDocument.recompute()\n"
   ]
  },
  {
   "cell_type": "code",
   "execution_count": 41,
   "metadata": {},
   "outputs": [],
   "source": [
    "# Pocket001Body001Coupling\n",
    "\n",
    "if App.ActiveDocument.getObject('Pocket001Body001Coupling'):\n",
    "    App.ActiveDocument.removeObject('Pocket001Body001Coupling')\n",
    "    App.ActiveDocument.recompute()\n",
    "\n",
    "App.ActiveDocument.getObject('Body001Coupling').newObject('PartDesign::Pocket', 'Pocket001Body001Coupling')\n",
    "App.ActiveDocument.getObject('Pocket001Body001Coupling').Profile = App.ActiveDocument.getObject('Sketch002Body001Coupling')\n",
    "App.ActiveDocument.getObject('Pocket001Body001Coupling').Reversed = True\n",
    "App.ActiveDocument.getObject('Pocket001Body001Coupling').Type = 'ThroughAll'\n",
    "App.ActiveDocument.recompute()\n",
    "\n",
    "App.ActiveDocument.getObject('Sketch002Body001Coupling').Visibility = False\n"
   ]
  },
  {
   "cell_type": "code",
   "execution_count": 51,
   "metadata": {},
   "outputs": [],
   "source": [
    "# Sketch003Body001Coupling\n",
    "\n",
    "if App.ActiveDocument.getObject('Sketch003Body001Coupling'):\n",
    "    App.ActiveDocument.removeObject('Sketch003Body001Coupling')\n",
    "    App.ActiveDocument.recompute()\n",
    "\n",
    "App.ActiveDocument.getObject('Body001Coupling').newObject('Sketcher::SketchObject', 'Sketch003Body001Coupling')\n",
    "App.ActiveDocument.getObject('Sketch003Body001Coupling').Support = (App.ActiveDocument.getObject(\n",
    "    'XZ_Plane' + App.ActiveDocument.getObject('Body001Coupling').Origin.Name.replace('Origin', '')), [''])\n",
    "App.ActiveDocument.getObject('Sketch003Body001Coupling').MapMode = 'FlatFace'\n",
    "App.ActiveDocument.recompute()\n",
    "\n",
    "geoList = []\n",
    "geoList.append(Part.Circle(App.Vector(0, 1, 0), App.Vector(0, 0, 1), 1))  # 0\n",
    "geoList.append(Part.Circle(App.Vector(0, -1, 0), App.Vector(0, 0, 1), 1))  # 1\n",
    "App.ActiveDocument.getObject('Sketch003Body001Coupling').addGeometry(geoList, False)\n",
    "\n",
    "conList = []\n",
    "conList.append(Sketcher.Constraint('PointOnObject', 1, 3, -2))  # 0\n",
    "conList.append(Sketcher.Constraint('Distance', 1, 3, 0, 3, 16))  # 3\n",
    "conList.append(Sketcher.Constraint('Symmetric', 0, 3, 1, 3, -1))  # 1\n",
    "conList.append(Sketcher.Constraint('Diameter', 0, 4))  # 4\n",
    "conList.append(Sketcher.Constraint('Diameter', 1, 4))  # 5\n",
    "App.ActiveDocument.getObject('Sketch003Body001Coupling').addConstraint(conList)\n",
    "\n",
    "App.ActiveDocument.recompute()\n"
   ]
  },
  {
   "cell_type": "code",
   "execution_count": 54,
   "metadata": {},
   "outputs": [],
   "source": [
    "# Pocket002Body001Coupling\n",
    "\n",
    "if App.ActiveDocument.getObject('Pocket002Body001Coupling'):\n",
    "    App.ActiveDocument.removeObject('Pocket002Body001Coupling')\n",
    "    App.ActiveDocument.recompute()\n",
    "\n",
    "App.ActiveDocument.getObject('Body001Coupling').newObject('PartDesign::Pocket', 'Pocket002Body001Coupling')\n",
    "App.ActiveDocument.getObject('Pocket002Body001Coupling').Profile = App.ActiveDocument.getObject('Sketch003Body001Coupling')\n",
    "App.ActiveDocument.getObject('Pocket002Body001Coupling').Type = 'ThroughAll'\n",
    "App.ActiveDocument.recompute()\n",
    "\n",
    "App.ActiveDocument.getObject('Sketch003Body001Coupling').Visibility = False\n"
   ]
  },
  {
   "cell_type": "code",
   "execution_count": 19,
   "metadata": {},
   "outputs": [],
   "source": [
    "# Placement\n",
    "\n",
    "App.ActiveDocument.getObject('Body001Coupling').Placement.Base.x = (\n",
    "    App.ActiveDocument.getObject('Part001Nema17').Shape.BoundBox.XLength +\n",
    "    App.ActiveDocument.getObject('Body001Coupling').Shape.BoundBox.XLength)*75/100\n",
    "App.ActiveDocument.recompute()\n"
   ]
  },
  {
   "cell_type": "markdown",
   "metadata": {},
   "source": [
    "# Group001Spacer"
   ]
  },
  {
   "cell_type": "markdown",
   "metadata": {},
   "source": [
    "## LinkSquareProfileSketch"
   ]
  },
  {
   "cell_type": "code",
   "execution_count": 58,
   "metadata": {},
   "outputs": [],
   "source": [
    "# LinkSquareProfileSketch\n",
    "\n",
    "if App.ActiveDocument.getObject('LinkSquareProfileSketch'):\n",
    "    App.ActiveDocument.removeObject('LinkSquareProfileSketch')\n",
    "    App.ActiveDocument.recompute()\n",
    "\n",
    "App.ActiveDocument.addObject('App::Link', 'LinkSquareProfileSketch')\n",
    "App.ActiveDocument.getObject('LinkSquareProfileSketch').LinkedObject = App.getDocument('Sketches').getObject('SquareProfileSketch')\n",
    "App.ActiveDocument.recompute()\n"
   ]
  },
  {
   "cell_type": "markdown",
   "metadata": {},
   "source": [
    "## Body001Spacer"
   ]
  },
  {
   "cell_type": "code",
   "execution_count": 59,
   "metadata": {},
   "outputs": [],
   "source": [
    "# Body001Spacer\n",
    "\n",
    "if App.ActiveDocument.getObject('Body001Spacer'):\n",
    "    App.ActiveDocument.getObject('Body001Spacer').removeObjectsFromDocument()\n",
    "    App.ActiveDocument.removeObject('Body001Spacer')\n",
    "    App.ActiveDocument.recompute()\n",
    "\n",
    "App.ActiveDocument.addObject('PartDesign::Body', 'Body001Spacer')\n",
    "App.ActiveDocument.recompute()\n",
    "\n",
    "Gui.ActiveDocument.ActiveView.setActiveObject('pdbody', App.ActiveDocument.getObject('Body001Spacer'))\n"
   ]
  },
  {
   "cell_type": "code",
   "execution_count": 60,
   "metadata": {},
   "outputs": [],
   "source": [
    "# Binder001Body001Spacer\n",
    "\n",
    "if App.ActiveDocument.getObject('Binder001Body001Spacer'):\n",
    "    App.ActiveDocument.removeObject('Binder001Body001Spacer')\n",
    "    App.ActiveDocument.recompute()\n",
    "\n",
    "App.ActiveDocument.getObject('Body001Spacer').newObject('PartDesign::SubShapeBinder', 'Binder001Body001Spacer')\n",
    "App.ActiveDocument.getObject('Binder001Body001Spacer').Support = App.ActiveDocument.getObject('LinkSquareProfileSketch')\n",
    "App.ActiveDocument.recompute()\n",
    "\n",
    "App.ActiveDocument.getObject('LinkSquareProfileSketch').Visibility = False\n"
   ]
  },
  {
   "cell_type": "code",
   "execution_count": 61,
   "metadata": {},
   "outputs": [],
   "source": [
    "# Pad001Body001Spacer\n",
    "\n",
    "if App.ActiveDocument.getObject('Pad001Body001Spacer'):\n",
    "    App.ActiveDocument.removeObject('Pad001Body001Spacer')\n",
    "    App.ActiveDocument.recompute()\n",
    "\n",
    "App.ActiveDocument.getObject('Body001Spacer').newObject('PartDesign::Pad', 'Pad001Body001Spacer')\n",
    "App.ActiveDocument.getObject('Pad001Body001Spacer').Profile = App.ActiveDocument.getObject('Binder001Body001Spacer')\n",
    "App.ActiveDocument.getObject('Pad001Body001Spacer').Length = 45\n",
    "App.ActiveDocument.getObject('Pad001Body001Spacer').Midplane = True\n",
    "App.ActiveDocument.recompute()\n",
    "\n",
    "App.ActiveDocument.getObject('Binder001Body001Spacer').Visibility = False\n",
    "\n",
    "Gui.ActiveDocument.ActiveView.setActiveObject('pdbody', None)\n"
   ]
  },
  {
   "cell_type": "markdown",
   "metadata": {},
   "source": [
    "## Body002Spacer"
   ]
  },
  {
   "cell_type": "code",
   "execution_count": 62,
   "metadata": {},
   "outputs": [],
   "source": [
    "# Body002Spacer\n",
    "\n",
    "if App.ActiveDocument.getObject('Body002Spacer'):\n",
    "    App.ActiveDocument.getObject('Body002Spacer').removeObjectsFromDocument()\n",
    "    App.ActiveDocument.removeObject('Body002Spacer')\n",
    "    App.ActiveDocument.recompute()\n",
    "\n",
    "App.ActiveDocument.addObject('PartDesign::Body', 'Body002Spacer')\n",
    "App.ActiveDocument.recompute()\n",
    "\n",
    "Gui.ActiveDocument.ActiveView.setActiveObject('pdbody', App.ActiveDocument.getObject('Body002Spacer'))\n"
   ]
  },
  {
   "cell_type": "code",
   "execution_count": 63,
   "metadata": {},
   "outputs": [],
   "source": [
    "# Binder001Body002Spacer\n",
    "\n",
    "if App.ActiveDocument.getObject('Binder001Body002Spacer'):\n",
    "    App.ActiveDocument.removeObject('Binder001Body002Spacer')\n",
    "    App.ActiveDocument.recompute()\n",
    "\n",
    "App.ActiveDocument.getObject('Body002Spacer').newObject('PartDesign::SubShapeBinder', 'Binder001Body002Spacer')\n",
    "App.ActiveDocument.getObject('Binder001Body002Spacer').Support = App.ActiveDocument.getObject('LinkSquareProfileSketch')\n",
    "App.ActiveDocument.recompute()\n",
    "\n",
    "App.ActiveDocument.getObject('LinkSquareProfileSketch').Visibility = False\n"
   ]
  },
  {
   "cell_type": "code",
   "execution_count": 64,
   "metadata": {},
   "outputs": [],
   "source": [
    "# Pad001Body002Spacer\n",
    "\n",
    "if App.ActiveDocument.getObject('Pad001Body002Spacer'):\n",
    "    App.ActiveDocument.removeObject('Pad001Body002Spacer')\n",
    "    App.ActiveDocument.recompute()\n",
    "\n",
    "App.ActiveDocument.getObject('Body002Spacer').newObject('PartDesign::Pad', 'Pad001Body002Spacer')\n",
    "App.ActiveDocument.getObject('Pad001Body002Spacer').Profile = App.ActiveDocument.getObject('Binder001Body002Spacer')\n",
    "App.ActiveDocument.getObject('Pad001Body002Spacer').Length = 35\n",
    "App.ActiveDocument.getObject('Pad001Body002Spacer').Midplane = True\n",
    "App.ActiveDocument.recompute()\n",
    "\n",
    "App.ActiveDocument.getObject('Binder001Body002Spacer').Visibility = False\n",
    "\n",
    "Gui.ActiveDocument.ActiveView.setActiveObject('pdbody', None)\n"
   ]
  },
  {
   "cell_type": "code",
   "execution_count": 100,
   "metadata": {},
   "outputs": [],
   "source": [
    "# Placement\n",
    "\n",
    "App.ActiveDocument.getObject('Body002Spacer').Placement.Base.x = (\n",
    "    App.ActiveDocument.getObject('Body001Spacer').Shape.BoundBox.XLength +\n",
    "    App.ActiveDocument.getObject('Body002Spacer').Shape.BoundBox.XLength)*75/100\n",
    "App.ActiveDocument.recompute()\n",
    "\n",
    "App.ActiveDocument.getObject('Binder001Body002Spacer').Placement.Base.x = App.ActiveDocument.getObject('Body002Spacer').Placement.Base.x\n"
   ]
  },
  {
   "cell_type": "markdown",
   "metadata": {},
   "source": [
    "## Group001Spacer"
   ]
  },
  {
   "cell_type": "code",
   "execution_count": 97,
   "metadata": {},
   "outputs": [],
   "source": [
    "# Group001Spacer\n",
    "\n",
    "if App.ActiveDocument.getObject('Group001Spacer'):\n",
    "    App.ActiveDocument.removeObject('Group001Spacer')\n",
    "    App.ActiveDocument.recompute()\n",
    "\n",
    "App.activeDocument().addObject('App::DocumentObjectGroup', 'Group001Spacer')\n",
    "App.ActiveDocument.getObject(\"Group001Spacer\").addObject(App.ActiveDocument.getObject(\"LinkSquareProfileSketch\"))\n",
    "App.ActiveDocument.getObject(\"Group001Spacer\").addObject(App.ActiveDocument.getObject(\"Body001Spacer\"))\n",
    "App.ActiveDocument.getObject(\"Group001Spacer\").addObject(App.ActiveDocument.getObject(\"Body002Spacer\"))\n",
    "App.ActiveDocument.recompute()\n"
   ]
  },
  {
   "cell_type": "code",
   "execution_count": 99,
   "metadata": {},
   "outputs": [],
   "source": [
    "# Placement\n",
    "\n",
    "for obj in App.ActiveDocument.getObject(\"Group001Spacer\").Group:\n",
    "    obj.Placement.Base.y = -(\n",
    "        App.ActiveDocument.getObject('Group001Nema17').Shape.BoundBox.YLength +\n",
    "        App.ActiveDocument.getObject('Group001Spacer').Shape.BoundBox.YLength)*75/100\n",
    "\n",
    "App.ActiveDocument.recompute()\n"
   ]
  },
  {
   "cell_type": "markdown",
   "metadata": {},
   "source": [
    "# Group001Support"
   ]
  },
  {
   "cell_type": "markdown",
   "metadata": {},
   "source": [
    "## Link001Sketch001Body001Nema17Body001Support"
   ]
  },
  {
   "cell_type": "code",
   "execution_count": 64,
   "metadata": {},
   "outputs": [],
   "source": [
    "# Link001Sketch001Body001Nema17Body001Support\n",
    "\n",
    "if App.ActiveDocument.getObject('Link001Sketch001Body001Nema17Body001Support'):\n",
    "    App.ActiveDocument.removeObject('Link001Sketch001Body001Nema17Body001Support')\n",
    "    App.ActiveDocument.recompute()\n",
    "\n",
    "App.ActiveDocument.addObject('App::Link', 'Link001Sketch001Body001Nema17Body001Support')\n",
    "App.ActiveDocument.getObject('Link001Sketch001Body001Nema17Body001Support').LinkedObject = App.ActiveDocument.getObject('Sketch001Body001Nema17')\n",
    "App.ActiveDocument.recompute()\n"
   ]
  },
  {
   "cell_type": "markdown",
   "metadata": {},
   "source": [
    "## Body001Support"
   ]
  },
  {
   "cell_type": "code",
   "execution_count": 65,
   "metadata": {},
   "outputs": [],
   "source": [
    "# Body001Support\n",
    "\n",
    "if App.ActiveDocument.getObject('Body001Support'):\n",
    "    App.ActiveDocument.getObject('Body001Support').removeObjectsFromDocument()\n",
    "    App.ActiveDocument.removeObject('Body001Support')\n",
    "    App.ActiveDocument.recompute()\n",
    "\n",
    "App.ActiveDocument.addObject('PartDesign::Body', 'Body001Support')\n",
    "App.ActiveDocument.recompute()\n",
    "\n",
    "Gui.ActiveDocument.ActiveView.setActiveObject('pdbody', App.ActiveDocument.getObject('Body001Support'))\n"
   ]
  },
  {
   "cell_type": "code",
   "execution_count": 68,
   "metadata": {},
   "outputs": [],
   "source": [
    "# Binder001Body001Support\n",
    "\n",
    "if App.ActiveDocument.getObject('Binder001Body001Support'):\n",
    "    App.ActiveDocument.removeObject('Binder001Body001Support')\n",
    "    App.ActiveDocument.recompute()\n",
    "\n",
    "App.ActiveDocument.getObject('Body001Support').newObject('PartDesign::SubShapeBinder', 'Binder001Body001Support')\n",
    "App.ActiveDocument.getObject('Binder001Body001Support').Support = App.ActiveDocument.getObject('Link001Sketch001Body001Nema17Body001Support')\n",
    "App.ActiveDocument.recompute()\n",
    "\n",
    "App.ActiveDocument.getObject('Link001Sketch001Body001Nema17Body001Support').Visibility = False\n"
   ]
  },
  {
   "cell_type": "code",
   "execution_count": 69,
   "metadata": {},
   "outputs": [],
   "source": [
    "# Pad001Body001Support\n",
    "\n",
    "if App.ActiveDocument.getObject('Pad001Body001Support'):\n",
    "    App.ActiveDocument.removeObject('Pad001Body001Support')\n",
    "    App.ActiveDocument.recompute()\n",
    "\n",
    "App.ActiveDocument.getObject('Body001Support').newObject('PartDesign::Pad', 'Pad001Body001Support')\n",
    "App.ActiveDocument.getObject('Pad001Body001Support').Profile = App.ActiveDocument.getObject('Binder001Body001Support')\n",
    "App.ActiveDocument.getObject('Pad001Body001Support').Midplane = True\n",
    "App.ActiveDocument.getObject('Pad001Body001Support').Length = 15\n",
    "App.ActiveDocument.recompute()\n",
    "\n",
    "App.ActiveDocument.getObject('Binder001Body001Support').Visibility = False\n"
   ]
  },
  {
   "cell_type": "code",
   "execution_count": 70,
   "metadata": {},
   "outputs": [],
   "source": [
    "# Sketch001Body001Support\n",
    "\n",
    "if App.ActiveDocument.getObject('Sketch001Body001Support'):\n",
    "    App.ActiveDocument.removeObject('Sketch001Body001Support')\n",
    "    App.ActiveDocument.recompute()\n",
    "\n",
    "App.ActiveDocument.getObject('Body001Support').newObject('Sketcher::SketchObject', 'Sketch001Body001Support')\n",
    "App.ActiveDocument.getObject('Sketch001Body001Support').Support = (App.ActiveDocument.getObject('Pad001Body001Support'), ['Face10'])\n",
    "App.ActiveDocument.getObject('Sketch001Body001Support').MapMode = 'FlatFace'\n",
    "App.ActiveDocument.recompute()\n",
    "\n",
    "App.ActiveDocument.getObject('Sketch001Body001Support').addGeometry(Part.Circle(App.Vector(0, 0, 0), App.Vector(0, 0, 1), 2), False)  # 0\n",
    "\n",
    "conList = []\n",
    "conList.append(Sketcher.Constraint('Coincident', 0, 3, -1, 1))  # 0\n",
    "conList.append(Sketcher.Constraint('Diameter', 0, 22))  # 1\n",
    "App.ActiveDocument.getObject('Sketch001Body001Support').addConstraint(conList)\n",
    "\n",
    "App.ActiveDocument.recompute()\n"
   ]
  },
  {
   "cell_type": "code",
   "execution_count": 71,
   "metadata": {},
   "outputs": [],
   "source": [
    "# Pocket001Body001Support\n",
    "\n",
    "if App.ActiveDocument.getObject('Pocket001Body001Support'):\n",
    "    App.ActiveDocument.removeObject('Pocket001Body001Support')\n",
    "    App.ActiveDocument.recompute()\n",
    "\n",
    "App.ActiveDocument.getObject('Body001Support').newObject('PartDesign::Pocket', 'Pocket001Body001Support')\n",
    "App.ActiveDocument.getObject('Pocket001Body001Support').Profile = App.ActiveDocument.getObject('Sketch001Body001Support')\n",
    "App.ActiveDocument.getObject('Pocket001Body001Support').Length = 7\n",
    "App.ActiveDocument.recompute()\n",
    "\n",
    "App.ActiveDocument.getObject('Sketch001Body001Support').Visibility = False\n"
   ]
  },
  {
   "cell_type": "code",
   "execution_count": 72,
   "metadata": {},
   "outputs": [],
   "source": [
    "# Hole001Body001Support\n",
    "\n",
    "if App.ActiveDocument.getObject('Hole001Body001Support'):\n",
    "    App.ActiveDocument.removeObject('Hole001Body001Support')\n",
    "    App.ActiveDocument.recompute()\n",
    "\n",
    "App.ActiveDocument.getObject('Body001Support').newObject('PartDesign::Hole', 'Hole001Body001Support')\n",
    "App.ActiveDocument.getObject('Hole001Body001Support').Profile = (App.ActiveDocument.getObject('Pocket001Body001Support'), ['Face12', ])\n",
    "App.ActiveDocument.getObject('Hole001Body001Support').DepthType = 'ThroughAll'\n",
    "App.ActiveDocument.getObject('Hole001Body001Support').Diameter = 10\n",
    "App.ActiveDocument.recompute()\n"
   ]
  },
  {
   "cell_type": "code",
   "execution_count": 73,
   "metadata": {},
   "outputs": [],
   "source": [
    "# Chamfer001Body001Support\n",
    "\n",
    "if App.ActiveDocument.getObject('Chamfer001Body001Support'):\n",
    "    App.ActiveDocument.removeObject('Chamfer001Body001Support')\n",
    "    App.ActiveDocument.recompute()\n",
    "\n",
    "App.ActiveDocument.getObject('Body001Support').newObject('PartDesign::Chamfer', 'Chamfer001Body001Support')\n",
    "App.ActiveDocument.getObject('Chamfer001Body001Support').Base = (\n",
    "    App.ActiveDocument.getObject('Hole001Body001Support'), [\"Edge1\", \"Edge2\", \"Edge5\", \"Edge8\", ])\n",
    "App.ActiveDocument.getObject('Chamfer001Body001Support').Size = 3\n",
    "App.ActiveDocument.recompute()\n",
    "\n",
    "Gui.ActiveDocument.ActiveView.setActiveObject('pdbody', None)\n"
   ]
  },
  {
   "cell_type": "code",
   "execution_count": 74,
   "metadata": {},
   "outputs": [],
   "source": [
    "# ShapeColor\n",
    "\n",
    "App.ActiveDocument.getObject('Body001Support').ViewObject.ShapeColor = (0.0, 0.6, 1.0, 0.0)\n"
   ]
  },
  {
   "cell_type": "markdown",
   "metadata": {},
   "source": [
    "## Body002Support"
   ]
  },
  {
   "cell_type": "code",
   "execution_count": 75,
   "metadata": {},
   "outputs": [],
   "source": [
    "# Body002Support\n",
    "\n",
    "if App.ActiveDocument.getObject('Body002Support'):\n",
    "    App.ActiveDocument.getObject('Body002Support').removeObjectsFromDocument()\n",
    "    App.ActiveDocument.removeObject('Body002Support')\n",
    "    App.ActiveDocument.recompute()\n",
    "\n",
    "App.ActiveDocument.addObject('PartDesign::Body', 'Body002Support')\n",
    "App.ActiveDocument.recompute()\n",
    "\n",
    "Gui.ActiveDocument.ActiveView.setActiveObject('pdbody', App.ActiveDocument.getObject('Body002Support'))\n"
   ]
  },
  {
   "cell_type": "code",
   "execution_count": 76,
   "metadata": {},
   "outputs": [],
   "source": [
    "# Binder001Body002Support\n",
    "\n",
    "if App.ActiveDocument.getObject('Binder001Body002Support'):\n",
    "    App.ActiveDocument.removeObject('Binder001Body002Support')\n",
    "    App.ActiveDocument.recompute()\n",
    "\n",
    "App.ActiveDocument.getObject('Body002Support').newObject('PartDesign::SubShapeBinder', 'Binder001Body002Support')\n",
    "App.ActiveDocument.getObject('Binder001Body002Support').Support = App.ActiveDocument.getObject('Link001Sketch001Body001Nema17Body001Support')\n",
    "App.ActiveDocument.recompute()\n",
    "\n",
    "App.ActiveDocument.getObject('Link001Sketch001Body001Nema17Body001Support').Visibility = False\n"
   ]
  },
  {
   "cell_type": "code",
   "execution_count": 77,
   "metadata": {},
   "outputs": [],
   "source": [
    "# Pad001Body002Support\n",
    "\n",
    "if App.ActiveDocument.getObject('Pad001Body002Support'):\n",
    "    App.ActiveDocument.removeObject('Pad001Body002Support')\n",
    "    App.ActiveDocument.recompute()\n",
    "\n",
    "App.ActiveDocument.getObject('Body002Support').newObject('PartDesign::Pad', 'Pad001Body002Support')\n",
    "App.ActiveDocument.getObject('Pad001Body002Support').Profile = App.ActiveDocument.getObject('Binder001Body002Support')\n",
    "App.ActiveDocument.getObject('Pad001Body002Support').Midplane = True\n",
    "App.ActiveDocument.getObject('Pad001Body002Support').Length = 10\n",
    "App.ActiveDocument.recompute()\n",
    "\n",
    "App.ActiveDocument.getObject('Binder001Body002Support').Visibility = False\n"
   ]
  },
  {
   "cell_type": "code",
   "execution_count": 78,
   "metadata": {},
   "outputs": [],
   "source": [
    "# Chamfer001Body002Support\n",
    "\n",
    "if App.ActiveDocument.getObject('Chamfer001Body002Support'):\n",
    "    App.ActiveDocument.removeObject('Chamfer001Body002Support')\n",
    "    App.ActiveDocument.recompute()\n",
    "\n",
    "App.ActiveDocument.getObject('Body002Support').newObject('PartDesign::Chamfer', 'Chamfer001Body002Support')\n",
    "App.ActiveDocument.getObject('Chamfer001Body002Support').Base = (\n",
    "    App.ActiveDocument.getObject('Pad001Body002Support'), [\"Edge1\", \"Edge2\", \"Edge5\", \"Edge8\", ])\n",
    "App.ActiveDocument.getObject('Chamfer001Body002Support').Size = 3\n",
    "App.ActiveDocument.recompute()\n",
    "\n",
    "Gui.ActiveDocument.ActiveView.setActiveObject('pdbody', None)\n"
   ]
  },
  {
   "cell_type": "code",
   "execution_count": 79,
   "metadata": {},
   "outputs": [],
   "source": [
    "# ShapeColor\n",
    "\n",
    "App.ActiveDocument.getObject('Body002Support').ViewObject.ShapeColor = App.ActiveDocument.getObject('Body001Support').ViewObject.ShapeColor\n"
   ]
  },
  {
   "cell_type": "markdown",
   "metadata": {},
   "source": [
    "## Placement"
   ]
  },
  {
   "cell_type": "code",
   "execution_count": 81,
   "metadata": {},
   "outputs": [],
   "source": [
    "# Placement\n",
    "\n",
    "App.ActiveDocument.getObject('Body002Support').Placement.Base.x = (\n",
    "    App.ActiveDocument.getObject('Body001Support').Shape.BoundBox.XLength +\n",
    "    App.ActiveDocument.getObject('Body002Support').Shape.BoundBox.XLength)*75/100\n",
    "App.ActiveDocument.recompute()\n",
    "\n",
    "App.ActiveDocument.getObject('Binder001Body002Support').Placement.Base.x = App.ActiveDocument.getObject('Body002Support').Placement.Base.x\n",
    "App.ActiveDocument.recompute()\n"
   ]
  },
  {
   "cell_type": "markdown",
   "metadata": {},
   "source": [
    "## Group001Support"
   ]
  },
  {
   "cell_type": "code",
   "execution_count": 87,
   "metadata": {},
   "outputs": [],
   "source": [
    "# Group001Support\n",
    "\n",
    "if App.ActiveDocument.getObject('Group001Support'):\n",
    "    App.ActiveDocument.removeObject('Group001Support')\n",
    "    App.ActiveDocument.recompute()\n",
    "\n",
    "App.activeDocument().addObject('App::DocumentObjectGroup', 'Group001Support')\n",
    "App.ActiveDocument.getObject(\"Group001Support\").addObject(App.ActiveDocument.getObject('Link001Sketch001Body001Nema17Body001Support'))\n",
    "App.ActiveDocument.getObject(\"Group001Support\").addObject(App.ActiveDocument.getObject(\"Body001Support\"))\n",
    "App.ActiveDocument.getObject(\"Group001Support\").addObject(App.ActiveDocument.getObject(\"Body002Support\"))\n",
    "App.ActiveDocument.recompute()\n"
   ]
  },
  {
   "cell_type": "code",
   "execution_count": 91,
   "metadata": {},
   "outputs": [],
   "source": [
    "# Placement\n",
    "\n",
    "for obj in App.ActiveDocument.getObject(\"Group001Support\").Group:\n",
    "    obj.Placement.Base.y = App.ActiveDocument.getObject('Group001Spacer').Shape.BoundBox.Center.y - (\n",
    "        App.ActiveDocument.getObject('Group001Spacer').Shape.BoundBox.YLength +\n",
    "        App.ActiveDocument.getObject('Group001Support').Shape.BoundBox.YLength)*75/100\n",
    "\n",
    "App.ActiveDocument.recompute()\n"
   ]
  },
  {
   "cell_type": "markdown",
   "metadata": {},
   "source": [
    "# Document"
   ]
  },
  {
   "cell_type": "code",
   "execution_count": 20,
   "metadata": {},
   "outputs": [],
   "source": [
    "# Save\n",
    "\n",
    "Gui.ActiveDocument.ActiveView.setActiveObject('pdbody', None)\n",
    "Gui.activeDocument().activeView().viewDefaultOrientation()\n",
    "Gui.SendMsgToActiveView(\"ViewFit\")\n",
    "\n",
    "App.ActiveDocument.save()\n"
   ]
  }
 ],
 "metadata": {
  "kernelspec": {
   "display_name": "FreeCAD",
   "language": "",
   "name": "freecad"
  },
  "language_info": {
   "file_extension": ".py",
   "mimetype": "text/x-python",
   "name": "python"
  },
  "orig_nbformat": 4,
  "vscode": {
   "interpreter": {
    "hash": "916dbcbb3f70747c44a77c7bcd40155683ae19c65e1c03b4aa3499c5328201f1"
   }
  }
 },
 "nbformat": 4,
 "nbformat_minor": 2
}
