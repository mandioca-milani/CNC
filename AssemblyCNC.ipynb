{
 "cells": [
  {
   "cell_type": "code",
   "execution_count": 18,
   "metadata": {},
   "outputs": [],
   "source": [
    "# AssemblyCNC Document\n",
    "\n",
    "if 'AssemblyCNC' in App.listDocuments():\n",
    "    App.closeDocument('AssemblyCNC')\n",
    "\n",
    "App.newDocument('AssemblyCNC')\n",
    "App.ActiveDocument.saveAs(\"./AssemblyCNC.FCStd\")\n",
    "\n",
    "\n",
    "docs = [\n",
    "    './Sketches/Sketches.FCStd',\n",
    "    './Framework/Framework.FCStd',\n",
    "]\n",
    "\n",
    "for doc in docs:\n",
    "    App.openDocument(doc)\n",
    "    App.setActiveDocument('AssemblyCNC')\n"
   ]
  },
  {
   "cell_type": "code",
   "execution_count": 19,
   "metadata": {},
   "outputs": [],
   "source": [
    "# PartDesign Workbench\n",
    "\n",
    "Gui.ActiveDocument.ActiveView.viewDefaultOrientation()\n",
    "Gui.ActiveDocument.ActiveView.setCameraType(\"Perspective\")\n",
    "Gui.activateWorkbench(\"PartDesignWorkbench\")\n"
   ]
  },
  {
   "cell_type": "code",
   "execution_count": 20,
   "metadata": {},
   "outputs": [],
   "source": [
    "# Assembly\n",
    "\n",
    "if App.ActiveDocument.getObject('AssemblyCNC'):\n",
    "    App.ActiveDocument.getObject('AssemblyCNC').removeObjectsFromDocument()\n",
    "    App.ActiveDocument.removeObject('AssemblyCNC')\n",
    "    App.ActiveDocument.recompute()\n",
    "\n",
    "App.ActiveDocument.addObject('App::Part', 'AssemblyCNC')\n",
    "Gui.ActiveDocument.ActiveView.setActiveObject('part', App.ActiveDocument.getObject('AssemblyCNC'))\n",
    "App.ActiveDocument.recompute()\n",
    "\n",
    "\n",
    "App.ActiveDocument.getObject('AssemblyCNC').newObject('App::Link', 'Framework')\n",
    "App.ActiveDocument.getObject('Framework').LinkedObject = App.getDocument('Framework').getObject('Framework')\n",
    "App.ActiveDocument.recompute()\n",
    "\n",
    "\n",
    "Gui.SendMsgToActiveView(\"ViewFit\")\n"
   ]
  },
  {
   "cell_type": "code",
   "execution_count": 21,
   "metadata": {},
   "outputs": [],
   "source": [
    "# Save\n",
    "\n",
    "Gui.ActiveDocument.ActiveView.setActiveObject('part', None)\n",
    "\n",
    "Gui.ActiveDocument.ActiveView.viewDefaultOrientation()\n",
    "Gui.ActiveDocument.ActiveView.setCameraType(\"Perspective\")\n",
    "Gui.SendMsgToActiveView(\"ViewFit\")\n",
    "\n",
    "App.ActiveDocument.recompute()\n",
    "\n",
    "App.ActiveDocument.saveAs(\"./AssemblyCNC.FCStd\")\n"
   ]
  }
 ],
 "metadata": {
  "kernelspec": {
   "display_name": "FreeCAD",
   "language": "",
   "name": "freecad"
  },
  "language_info": {
   "file_extension": ".py",
   "mimetype": "text/x-python",
   "name": "python"
  },
  "orig_nbformat": 4,
  "vscode": {
   "interpreter": {
    "hash": "916dbcbb3f70747c44a77c7bcd40155683ae19c65e1c03b4aa3499c5328201f1"
   }
  }
 },
 "nbformat": 4,
 "nbformat_minor": 2
}
