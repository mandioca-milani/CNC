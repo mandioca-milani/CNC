{
 "cells": [
  {
   "cell_type": "code",
   "execution_count": 109,
   "metadata": {},
   "outputs": [],
   "source": [
    "# Document\n",
    "\n",
    "if 'Sketches' in App.listDocuments():\n",
    "    App.closeDocument('Sketches')\n",
    "App.openDocument('./Sketches/Sketches.FCStd', hidden=True)\n",
    "\n",
    "if 'Spacer' in App.listDocuments():\n",
    "    App.closeDocument('Spacer')\n",
    "App.newDocument('Spacer')\n",
    "\n",
    "Gui.ActiveDocument.ActiveView.viewDefaultOrientation()\n",
    "\n",
    "App.ActiveDocument.saveAs('./Sketches/Spacer.FCStd')\n"
   ]
  },
  {
   "cell_type": "code",
   "execution_count": 110,
   "metadata": {},
   "outputs": [],
   "source": [
    "# SquareTubeSketch\n",
    "\n",
    "Gui.activateWorkbench(\"PartDesignWorkbench\")\n",
    "\n",
    "if App.ActiveDocument.getObject('SquareTubeSketch'):\n",
    "    App.ActiveDocument.removeObject('SquareTubeSketch')\n",
    "    App.ActiveDocument.recompute()\n",
    "\n",
    "App.ActiveDocument.addObject('App::Link', 'SquareTubeSketch')\n",
    "App.ActiveDocument.getObject('SquareTubeSketch').LinkedObject = App.getDocument('Sketches').getObject('SquareTubeProfileSketch')\n",
    "App.ActiveDocument.recompute()\n",
    "\n",
    "Gui.activeDocument().activeView().viewDefaultOrientation()\n",
    "Gui.SendMsgToActiveView(\"ViewFit\")\n"
   ]
  },
  {
   "cell_type": "code",
   "execution_count": 111,
   "metadata": {},
   "outputs": [],
   "source": [
    "# BodySpacer\n",
    "\n",
    "if App.ActiveDocument.getObject('BodySpacer'):\n",
    "    App.ActiveDocument.getObject('BodySpacer').removeObjectsFromDocument()\n",
    "    App.ActiveDocument.removeObject('BodySpacer')\n",
    "    App.ActiveDocument.recompute()\n",
    "\n",
    "App.ActiveDocument.addObject('PartDesign::Body', 'BodySpacer')\n",
    "App.ActiveDocument.recompute()\n",
    "\n",
    "Gui.ActiveDocument.ActiveView.setActiveObject('pdbody', App.ActiveDocument.getObject('BodySpacer'))\n"
   ]
  },
  {
   "cell_type": "code",
   "execution_count": 112,
   "metadata": {},
   "outputs": [],
   "source": [
    "# Binder001\n",
    "\n",
    "if App.ActiveDocument.getObject('Binder001'):\n",
    "    App.ActiveDocument.removeObject('Binder001')\n",
    "    App.ActiveDocument.recompute()\n",
    "\n",
    "App.ActiveDocument.getObject('BodySpacer').newObject('PartDesign::SubShapeBinder', 'Binder001')\n",
    "App.ActiveDocument.getObject('Binder001').Support = [(App.ActiveDocument.getObject('SquareTubeSketch'), ('',))]\n",
    "App.ActiveDocument.getObject('Binder001').Placement = App.Placement(App.Vector(0, 0, 0), App.Rotation(App.Vector(1, 0, 0), -90))\n",
    "App.ActiveDocument.recompute()\n",
    "\n",
    "App.ActiveDocument.getObject('SquareTubeSketch').Visibility = False\n"
   ]
  },
  {
   "cell_type": "code",
   "execution_count": 113,
   "metadata": {},
   "outputs": [],
   "source": [
    "# Pad001\n",
    "\n",
    "if App.ActiveDocument.getObject('Pad001'):\n",
    "    App.ActiveDocument.removeObject('Pad001')\n",
    "    App.ActiveDocument.recompute()\n",
    "\n",
    "App.ActiveDocument.getObject('BodySpacer').newObject('PartDesign::Pad', 'Pad001')\n",
    "App.ActiveDocument.getObject('Pad001').Profile = App.ActiveDocument.getObject('Binder001')\n",
    "App.ActiveDocument.getObject('Pad001').Length = 35\n",
    "App.ActiveDocument.getObject('Pad001').Midplane = True\n",
    "App.ActiveDocument.recompute()\n",
    "\n",
    "App.ActiveDocument.getObject('Binder001').Visibility = False\n"
   ]
  },
  {
   "cell_type": "code",
   "execution_count": 114,
   "metadata": {},
   "outputs": [],
   "source": [
    "# PointCenterOfMass\n",
    "\n",
    "if App.ActiveDocument.getObject('PointCenterOfMass'):\n",
    "    App.ActiveDocument.removeObject('PointCenterOfMass')\n",
    "    App.ActiveDocument.recompute()\n",
    "\n",
    "App.ActiveDocument.getObject('BodySpacer').newObject('PartDesign::Point', 'PointCenterOfMass')\n",
    "App.ActiveDocument.getObject('PointCenterOfMass').Support = [(App.ActiveDocument.getObject('Pad001'), '')]\n",
    "App.ActiveDocument.getObject('PointCenterOfMass').MapMode = 'CenterOfMass'\n",
    "App.ActiveDocument.recompute()\n"
   ]
  },
  {
   "cell_type": "code",
   "execution_count": 115,
   "metadata": {},
   "outputs": [],
   "source": [
    "# PlaneFlatFace001\n",
    "\n",
    "if App.ActiveDocument.getObject('PlaneFlatFace001'):\n",
    "    App.ActiveDocument.removeObject('PlaneFlatFace001')\n",
    "    App.ActiveDocument.recompute()\n",
    "\n",
    "App.ActiveDocument.getObject('BodySpacer').newObject('PartDesign::Plane', 'PlaneFlatFace001')\n",
    "App.ActiveDocument.getObject('PlaneFlatFace001').Support = [(App.ActiveDocument.getObject('Pad001'), 'Face5')]\n",
    "App.ActiveDocument.getObject('PlaneFlatFace001').MapMode = 'FlatFace'\n",
    "App.ActiveDocument.recompute()\n"
   ]
  },
  {
   "cell_type": "code",
   "execution_count": 116,
   "metadata": {},
   "outputs": [],
   "source": [
    "# PlaneFlatFace002\n",
    "\n",
    "if App.ActiveDocument.getObject('PlaneFlatFace002'):\n",
    "    App.ActiveDocument.removeObject('PlaneFlatFace002')\n",
    "    App.ActiveDocument.recompute()\n",
    "\n",
    "App.ActiveDocument.getObject('BodySpacer').newObject('PartDesign::Plane', 'PlaneFlatFace002')\n",
    "App.ActiveDocument.getObject('PlaneFlatFace002').Support = [(App.ActiveDocument.getObject('Pad001'), 'Face4')]\n",
    "App.ActiveDocument.getObject('PlaneFlatFace002').MapMode = 'FlatFace'\n",
    "App.ActiveDocument.recompute()\n"
   ]
  },
  {
   "cell_type": "code",
   "execution_count": 117,
   "metadata": {},
   "outputs": [],
   "source": [
    "# Save\n",
    "\n",
    "Gui.ActiveDocument.ActiveView.setActiveObject('pdbody', None)\n",
    "Gui.activeDocument().activeView().viewDefaultOrientation()\n",
    "Gui.SendMsgToActiveView(\"ViewFit\")\n",
    "\n",
    "App.ActiveDocument.saveAs('./Sketches/Spacer.FCStd')\n"
   ]
  }
 ],
 "metadata": {
  "kernelspec": {
   "display_name": "FreeCAD",
   "language": "",
   "name": "freecad"
  },
  "language_info": {
   "file_extension": ".py",
   "mimetype": "text/x-python",
   "name": "python"
  },
  "orig_nbformat": 4,
  "vscode": {
   "interpreter": {
    "hash": "916dbcbb3f70747c44a77c7bcd40155683ae19c65e1c03b4aa3499c5328201f1"
   }
  }
 },
 "nbformat": 4,
 "nbformat_minor": 2
}
