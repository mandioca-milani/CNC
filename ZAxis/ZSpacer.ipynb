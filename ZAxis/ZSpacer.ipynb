{
 "cells": [
  {
   "cell_type": "code",
   "execution_count": 93,
   "metadata": {},
   "outputs": [],
   "source": [
    "# Document\n",
    "\n",
    "if 'ZSpacer' in App.listDocuments():\n",
    "    App.closeDocument('ZSpacer')\n",
    "App.newDocument('ZSpacer')\n",
    "\n",
    "Gui.ActiveDocument.ActiveView.viewDefaultOrientation()\n",
    "\n",
    "App.ActiveDocument.saveAs('./ZAxis/ZSpacer.FCStd')\n"
   ]
  },
  {
   "cell_type": "code",
   "execution_count": 94,
   "metadata": {},
   "outputs": [],
   "source": [
    "# BodyZSpacer\n",
    "\n",
    "if App.ActiveDocument.getObject('BodyZSpacer'):\n",
    "    App.ActiveDocument.getObject('BodyZSpacer').removeObjectsFromDocument()\n",
    "    App.ActiveDocument.removeObject('BodyZSpacer')\n",
    "    App.ActiveDocument.recompute()\n",
    "\n",
    "App.ActiveDocument.addObject('PartDesign::Body', 'BodyZSpacer')\n",
    "App.ActiveDocument.recompute()\n",
    "\n",
    "Gui.ActiveDocument.ActiveView.setActiveObject('pdbody', App.ActiveDocument.getObject('BodyZSpacer'))\n"
   ]
  },
  {
   "cell_type": "code",
   "execution_count": 95,
   "metadata": {},
   "outputs": [],
   "source": [
    "# Sketch001\n",
    "\n",
    "if App.ActiveDocument.getObject('Sketch001'):\n",
    "    App.ActiveDocument.removeObject('Sketch001')\n",
    "    App.ActiveDocument.recompute()\n",
    "\n",
    "App.ActiveDocument.getObject('BodyZSpacer').newObject('Sketcher::SketchObject', 'Sketch001')\n",
    "App.ActiveDocument.getObject('Sketch001').Support = (App.ActiveDocument.getObject('XY_Plane'), [''])\n",
    "App.ActiveDocument.getObject('Sketch001').MapMode = 'FlatFace'\n",
    "App.ActiveDocument.recompute()\n",
    "\n",
    "geoList = []\n",
    "geoList.append(Part.LineSegment(App.Vector(-1, 1, 0), App.Vector(1, 1, 0)))  # 0\n",
    "geoList.append(Part.LineSegment(App.Vector(1, 1, 0), App.Vector(1, -1, 0)))  # 1\n",
    "geoList.append(Part.LineSegment(App.Vector(1, -1, 0), App.Vector(-1, -1, 0)))  # 2\n",
    "geoList.append(Part.LineSegment(App.Vector(-1, -1, 0), App.Vector(-1, 1, 0)))  # 3\n",
    "App.ActiveDocument.getObject('Sketch001').addGeometry(geoList, False)\n",
    "\n",
    "conList = []\n",
    "conList.append(Sketcher.Constraint('Coincident', 0, 2, 1, 1))  # 0\n",
    "conList.append(Sketcher.Constraint('Coincident', 1, 2, 2, 1))  # 1\n",
    "conList.append(Sketcher.Constraint('Coincident', 2, 2, 3, 1))  # 2\n",
    "conList.append(Sketcher.Constraint('Coincident', 3, 2, 0, 1))  # 3\n",
    "conList.append(Sketcher.Constraint('Horizontal', 0))  # 4\n",
    "conList.append(Sketcher.Constraint('Vertical', 3))  # 5\n",
    "conList.append(Sketcher.Constraint('Symmetric', 2, 2, 1, 2, -2))  # 6\n",
    "conList.append(Sketcher.Constraint('Symmetric', 0, 2, 1, 2, -1))  # 7\n",
    "conList.append(Sketcher.Constraint('Distance', 0, 40))  # 8\n",
    "conList.append(Sketcher.Constraint('Equal', 3, 0))  # 9\n",
    "App.ActiveDocument.getObject('Sketch001').addConstraint(conList)\n",
    "\n",
    "App.ActiveDocument.recompute()\n"
   ]
  },
  {
   "cell_type": "code",
   "execution_count": 96,
   "metadata": {},
   "outputs": [],
   "source": [
    "# Pad001\n",
    "\n",
    "if App.ActiveDocument.getObject('Pad001'):\n",
    "    App.ActiveDocument.removeObject('Pad001')\n",
    "    App.ActiveDocument.recompute()\n",
    "\n",
    "App.ActiveDocument.getObject('BodyZSpacer').newObject('PartDesign::Pad', 'Pad001')\n",
    "App.ActiveDocument.getObject('Pad001').Profile = App.ActiveDocument.getObject('Sketch001')\n",
    "App.ActiveDocument.getObject('Pad001').Length = 22/2 + 25.4/2\n",
    "App.ActiveDocument.recompute()\n",
    "\n",
    "App.ActiveDocument.getObject('Sketch001').Visibility = False\n",
    "Gui.SendMsgToActiveView(\"ViewFit\")\n"
   ]
  },
  {
   "cell_type": "code",
   "execution_count": 97,
   "metadata": {},
   "outputs": [],
   "source": [
    "# Plane001\n",
    "\n",
    "if App.ActiveDocument.getObject('Plane001'):\n",
    "    App.ActiveDocument.removeObject('Plane001')\n",
    "    App.ActiveDocument.recompute()\n",
    "\n",
    "App.ActiveDocument.getObject('BodyZSpacer').newObject('PartDesign::Plane', 'Plane001')\n",
    "App.ActiveDocument.getObject('Plane001').Support = [(App.ActiveDocument.getObject('Pad001'), 'Face5')]\n",
    "App.ActiveDocument.getObject('Plane001').MapMode = 'FlatFace'\n",
    "App.ActiveDocument.recompute()\n"
   ]
  },
  {
   "cell_type": "code",
   "execution_count": 98,
   "metadata": {},
   "outputs": [],
   "source": [
    "# Plane002\n",
    "\n",
    "if App.ActiveDocument.getObject('Plane002'):\n",
    "    App.ActiveDocument.removeObject('Plane002')\n",
    "    App.ActiveDocument.recompute()\n",
    "\n",
    "App.ActiveDocument.getObject('BodyZSpacer').newObject('PartDesign::Plane', 'Plane002')\n",
    "App.ActiveDocument.getObject('Plane002').Support = [(App.ActiveDocument.getObject('Pad001'), 'Face6')]\n",
    "App.ActiveDocument.getObject('Plane002').MapMode = 'FlatFace'\n",
    "App.ActiveDocument.recompute()\n"
   ]
  }
 ],
 "metadata": {
  "kernelspec": {
   "display_name": "FreeCAD",
   "language": "",
   "name": "freecad"
  },
  "language_info": {
   "file_extension": ".py",
   "mimetype": "text/x-python",
   "name": "python"
  },
  "orig_nbformat": 4,
  "vscode": {
   "interpreter": {
    "hash": "916dbcbb3f70747c44a77c7bcd40155683ae19c65e1c03b4aa3499c5328201f1"
   }
  }
 },
 "nbformat": 4,
 "nbformat_minor": 2
}
