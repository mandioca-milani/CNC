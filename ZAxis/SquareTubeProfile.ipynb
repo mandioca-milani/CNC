{
 "cells": [
  {
   "cell_type": "code",
   "execution_count": 69,
   "metadata": {},
   "outputs": [],
   "source": [
    "# Document\n",
    "\n",
    "if 'Sketches' in App.listDocuments():\n",
    "    App.closeDocument('Sketches')\n",
    "App.openDocument('./Sketches/Sketches.FCStd', hidden=True)\n",
    "\n",
    "if 'SquareTubeProfile' in App.listDocuments():\n",
    "    App.closeDocument('SquareTubeProfile')\n",
    "App.newDocument('SquareTubeProfile')\n",
    "\n",
    "Gui.ActiveDocument.ActiveView.viewDefaultOrientation()\n",
    "Gui.activateWorkbench(\"PartDesignWorkbench\")\n",
    "\n",
    "App.ActiveDocument.saveAs('./ZAxis/SquareTubeProfile.FCStd')\n"
   ]
  },
  {
   "cell_type": "code",
   "execution_count": 70,
   "metadata": {},
   "outputs": [],
   "source": [
    "# SquareTubeProfileSketch\n",
    "\n",
    "if App.ActiveDocument.getObject('SquareTubeProfileSketch'):\n",
    "    App.ActiveDocument.removeObject('SquareTubeProfileSketch')\n",
    "    App.ActiveDocument.recompute()\n",
    "\n",
    "App.ActiveDocument.addObject('App::Link', 'SquareTubeProfileSketch')\n",
    "App.ActiveDocument.getObject('SquareTubeProfileSketch').LinkedObject = App.getDocument('Sketches').getObject('SquareTubeProfileSketch')\n",
    "App.ActiveDocument.recompute()\n"
   ]
  },
  {
   "cell_type": "code",
   "execution_count": 71,
   "metadata": {},
   "outputs": [],
   "source": [
    "# SquareTubeProfile\n",
    "\n",
    "if App.ActiveDocument.getObject('SquareTubeProfile'):\n",
    "    App.ActiveDocument.getObject('SquareTubeProfile').removeObjectsFromDocument()\n",
    "    App.ActiveDocument.removeObject('SquareTubeProfile')\n",
    "    App.ActiveDocument.recompute()\n",
    "\n",
    "App.ActiveDocument.addObject('PartDesign::Body', 'SquareTubeProfile')\n",
    "App.ActiveDocument.recompute()\n",
    "\n",
    "Gui.ActiveDocument.ActiveView.setActiveObject('pdbody', App.ActiveDocument.getObject('SquareTubeProfile'))\n"
   ]
  },
  {
   "cell_type": "code",
   "execution_count": 72,
   "metadata": {},
   "outputs": [],
   "source": [
    "# Binder001\n",
    "\n",
    "if App.ActiveDocument.getObject('Binder001'):\n",
    "    App.ActiveDocument.removeObject('Binder001')\n",
    "    App.ActiveDocument.recompute()\n",
    "\n",
    "App.ActiveDocument.getObject('SquareTubeProfile').newObject('PartDesign::SubShapeBinder', 'Binder001')\n",
    "App.ActiveDocument.getObject('Binder001').Support = [(App.ActiveDocument.getObject('SquareTubeProfileSketch'), ('',))]\n",
    "App.ActiveDocument.recompute()\n",
    "\n",
    "App.ActiveDocument.getObject('SquareTubeProfileSketch').Visibility = False\n",
    "\n",
    "App.ActiveDocument.getObject('Binder001').Placement = App.Placement(App.Vector(0, 0, 0), App.Rotation(App.Vector(1, 0, 0), -90))\n",
    "App.ActiveDocument.recompute()\n"
   ]
  },
  {
   "cell_type": "code",
   "execution_count": 73,
   "metadata": {},
   "outputs": [],
   "source": [
    "# Pad001\n",
    "\n",
    "if App.ActiveDocument.getObject('Pad001'):\n",
    "    App.ActiveDocument.removeObject('Pad001')\n",
    "    App.ActiveDocument.recompute()\n",
    "\n",
    "App.ActiveDocument.getObject('SquareTubeProfile').newObject('PartDesign::Pad', 'Pad001')\n",
    "App.ActiveDocument.getObject('Pad001').Profile = App.ActiveDocument.getObject('Binder001')\n",
    "App.ActiveDocument.getObject('Pad001').Length = 1200\n",
    "App.ActiveDocument.getObject('Pad001').Midplane = True\n",
    "App.ActiveDocument.recompute()\n",
    "\n",
    "App.ActiveDocument.getObject('Binder001').Visibility = False\n"
   ]
  },
  {
   "cell_type": "code",
   "execution_count": 74,
   "metadata": {},
   "outputs": [],
   "source": [
    "# ActiveView\n",
    "\n",
    "Gui.ActiveDocument.ActiveView.setActiveObject('pdbody', None)\n",
    "Gui.activeDocument().activeView().viewTrimetric()\n",
    "Gui.SendMsgToActiveView(\"ViewFit\")\n"
   ]
  },
  {
   "cell_type": "code",
   "execution_count": 75,
   "metadata": {},
   "outputs": [],
   "source": [
    "# LocalZSpacer001\n",
    "\n",
    "if App.ActiveDocument.getObject('LocalZSpacer001'):\n",
    "    App.ActiveDocument.removeObject('LocalZSpacer001')\n",
    "    App.ActiveDocument.recompute()\n",
    "\n",
    "App.ActiveDocument.getObject('SquareTubeProfile').newObject('PartDesign::CoordinateSystem', 'LocalZSpacer001')\n",
    "App.ActiveDocument.getObject('LocalZSpacer001').Support = [(App.ActiveDocument.getObject('Pad001'), 'Face8')]\n",
    "App.ActiveDocument.getObject('LocalZSpacer001').setExpression('.AttachmentOffset.Base.y', '950/2 - 40/2 + 14')\n",
    "App.ActiveDocument.getObject('LocalZSpacer001').MapMode = 'FlatFace'\n",
    "App.ActiveDocument.recompute()\n"
   ]
  },
  {
   "cell_type": "code",
   "execution_count": 86,
   "metadata": {},
   "outputs": [],
   "source": [
    "# LocalZSpacer002\n",
    "\n",
    "if App.ActiveDocument.getObject('LocalZSpacer002'):\n",
    "    App.ActiveDocument.removeObject('LocalZSpacer002')\n",
    "    App.ActiveDocument.recompute()\n",
    "\n",
    "App.ActiveDocument.getObject('SquareTubeProfile').newObject('PartDesign::CoordinateSystem', 'LocalZSpacer002')\n",
    "App.ActiveDocument.getObject('LocalZSpacer002').Support = [(App.ActiveDocument.getObject('Pad001'), 'Face8')]\n",
    "App.ActiveDocument.getObject('LocalZSpacer002').AttachmentOffset = App.Placement(App.Vector(0, 0, 0),  App.Rotation(180, 0, 0))\n",
    "App.ActiveDocument.getObject('LocalZSpacer002').setExpression('.AttachmentOffset.Base.y', '-LocalZSpacer001.AttachmentOffset.Base.y')\n",
    "App.ActiveDocument.getObject('LocalZSpacer002').MapMode = 'FlatFace'\n",
    "App.ActiveDocument.recompute()\n"
   ]
  },
  {
   "cell_type": "code",
   "execution_count": 77,
   "metadata": {},
   "outputs": [],
   "source": [
    "# Save\n",
    "\n",
    "Gui.ActiveDocument.ActiveView.setActiveObject('pdbody', None)\n",
    "Gui.activeDocument().activeView().viewDefaultOrientation()\n",
    "Gui.SendMsgToActiveView(\"ViewFit\")\n",
    "\n",
    "App.ActiveDocument.save()\n"
   ]
  }
 ],
 "metadata": {
  "kernelspec": {
   "display_name": "FreeCAD",
   "language": "",
   "name": "freecad"
  },
  "language_info": {
   "file_extension": ".py",
   "mimetype": "text/x-python",
   "name": "python"
  },
  "orig_nbformat": 4,
  "vscode": {
   "interpreter": {
    "hash": "916dbcbb3f70747c44a77c7bcd40155683ae19c65e1c03b4aa3499c5328201f1"
   }
  }
 },
 "nbformat": 4,
 "nbformat_minor": 2
}
