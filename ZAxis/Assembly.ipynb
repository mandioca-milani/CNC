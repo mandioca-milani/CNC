{
 "cells": [
  {
   "cell_type": "code",
   "execution_count": 226,
   "metadata": {},
   "outputs": [],
   "source": [
    "# Document\n",
    "\n",
    "for doc in App.listDocuments():\n",
    "    App.closeDocument(doc)\n",
    "\n",
    "docs = [\n",
    "    '/ZAxis/SquareTubeProfile.FCStd',\n",
    "    '/ZAxis/ZSpacer.FCStd',\n",
    "    '/Sketches/Spacer.FCStd'\n",
    "]\n",
    "\n",
    "for doc in docs:\n",
    "    App.Console.PrintMessage(doc + '\\n')\n",
    "    App.openDocument(os.getcwd() + doc, hidden=True)\n",
    "\n",
    "\n",
    "App.newDocument('Assembly')\n",
    "\n",
    "Gui.ActiveDocument.ActiveView.viewDefaultOrientation()\n",
    "Gui.activateWorkbench(\"PartDesignWorkbench\")\n",
    "\n",
    "App.ActiveDocument.saveAs('./ZAxis/Assembly.FCStd')\n"
   ]
  },
  {
   "cell_type": "code",
   "execution_count": 227,
   "metadata": {},
   "outputs": [],
   "source": [
    "# Part\n",
    "\n",
    "import numpy\n",
    "if App.ActiveDocument.getObject('Part'):\n",
    "    App.ActiveDocument.getObject('Part').removeObjectsFromDocument()\n",
    "    App.ActiveDocument.removeObject('Part')\n",
    "    App.ActiveDocument.recompute()\n",
    "\n",
    "App.ActiveDocument.addObject('App::Part', 'Part')\n",
    "Gui.ActiveDocument.ActiveView.setActiveObject('part', App.ActiveDocument.getObject('Part'))\n",
    "App.ActiveDocument.recompute()\n",
    "\n",
    "\n",
    "# Links\n",
    "\n",
    "App.ActiveDocument.getObject('Part').newObject('App::Link', 'SquareTubeProfile')\n",
    "App.ActiveDocument.getObject('SquareTubeProfile').LinkedObject = App.getDocument('SquareTubeProfile').getObject('SquareTubeProfile')\n",
    "App.ActiveDocument.recompute()\n",
    "\n",
    "App.ActiveDocument.getObject('Part').newObject('App::Link', 'ZSpacer001')\n",
    "App.ActiveDocument.getObject('ZSpacer001').LinkedObject = App.getDocument('ZSpacer').getObject('BodyZSpacer')\n",
    "App.ActiveDocument.getObject('ZSpacer001').Placement *= App.getDocument('SquareTubeProfile').getObject('LocalZSpacer001').Placement\n",
    "App.ActiveDocument.recompute()\n",
    "\n",
    "App.ActiveDocument.getObject('Part').newObject('App::Link', 'ZSpacer002')\n",
    "App.ActiveDocument.getObject('ZSpacer002').LinkedObject = App.getDocument('ZSpacer').getObject('BodyZSpacer')\n",
    "App.ActiveDocument.getObject('ZSpacer002').Placement *= App.getDocument('SquareTubeProfile').getObject('LocalZSpacer002').Placement\n",
    "App.ActiveDocument.recompute()\n",
    "\n",
    "App.ActiveDocument.getObject('Part').newObject('App::Link', 'ZSpacer001Plane002')\n",
    "App.ActiveDocument.getObject('ZSpacer001Plane002').LinkedObject = App.getDocument('ZSpacer').getObject('Plane002')\n",
    "App.ActiveDocument.getObject('ZSpacer001Plane002').Placement *= App.getDocument('SquareTubeProfile').getObject('LocalZSpacer001').Placement\n",
    "App.ActiveDocument.getObject('ZSpacer001Plane002').Placement *= App.getDocument('ZSpacer').getObject('Plane002').Placement\n",
    "App.ActiveDocument.getObject('ZSpacer001Plane002').Placement *= App.Placement(App.Vector(0, 0, 0),  App.Rotation(0, 180, 0))\n",
    "App.ActiveDocument.recompute()\n",
    "\n",
    "App.ActiveDocument.getObject('Part').newObject('App::Link', 'ZSpacer002Plane002')\n",
    "App.ActiveDocument.getObject('ZSpacer002Plane002').LinkedObject = App.getDocument('ZSpacer').getObject('Plane002')\n",
    "App.ActiveDocument.getObject('ZSpacer002Plane002').Placement *= App.getDocument('SquareTubeProfile').getObject('LocalZSpacer002').Placement\n",
    "App.ActiveDocument.getObject('ZSpacer002Plane002').Placement *= App.getDocument('ZSpacer').getObject('Plane002').Placement\n",
    "App.ActiveDocument.getObject('ZSpacer002Plane002').Placement *= App.Placement(App.Vector(0, 0, 0),  App.Rotation(0, 180, 0))\n",
    "App.ActiveDocument.recompute()\n",
    "\n",
    "App.ActiveDocument.getObject('Part').newObject('App::Link', 'Spacer001')\n",
    "App.ActiveDocument.getObject('Spacer001').LinkedObject = App.getDocument('Spacer').getObject('BodySpacer')\n",
    "App.ActiveDocument.getObject('Spacer001').Placement *= App.ActiveDocument.getObject('ZSpacer001Plane002').Placement\n",
    "App.ActiveDocument.getObject('Spacer001').Placement *= App.getDocument('Spacer').getObject('PlaneFlatFace001').Placement.inverse()\n",
    "App.ActiveDocument.getObject('Spacer001').Placement *= App.Placement(App.Vector(0, 0, 0),  App.Rotation(0, 0, 90))\n",
    "App.ActiveDocument.recompute()\n",
    "\n",
    "App.ActiveDocument.getObject('Part').newObject('App::Link', 'Spacer002')\n",
    "App.ActiveDocument.getObject('Spacer002').LinkedObject = App.getDocument('Spacer').getObject('BodySpacer')\n",
    "App.ActiveDocument.getObject('Spacer002').Placement *= App.ActiveDocument.getObject('ZSpacer002Plane002').Placement\n",
    "App.ActiveDocument.getObject('Spacer002').Placement *= App.getDocument('Spacer').getObject('PlaneFlatFace001').Placement.inverse()\n",
    "App.ActiveDocument.getObject('Spacer002').Placement *= App.Placement(App.Vector(0, 0, 0),  App.Rotation(0, 0, 90))\n",
    "App.ActiveDocument.recompute()\n"
   ]
  },
  {
   "cell_type": "code",
   "execution_count": 228,
   "metadata": {},
   "outputs": [],
   "source": [
    "# Save\n",
    "\n",
    "Gui.ActiveDocument.ActiveView.setActiveObject('part', None)\n",
    "Gui.activeDocument().activeView().viewDefaultOrientation()\n",
    "Gui.SendMsgToActiveView(\"ViewFit\")\n",
    "\n",
    "App.ActiveDocument.save()\n"
   ]
  },
  {
   "cell_type": "code",
   "execution_count": null,
   "metadata": {},
   "outputs": [],
   "source": []
  }
 ],
 "metadata": {
  "kernelspec": {
   "display_name": "FreeCAD",
   "language": "",
   "name": "freecad"
  },
  "language_info": {
   "file_extension": ".py",
   "mimetype": "text/x-python",
   "name": "python"
  },
  "orig_nbformat": 4,
  "vscode": {
   "interpreter": {
    "hash": "916dbcbb3f70747c44a77c7bcd40155683ae19c65e1c03b4aa3499c5328201f1"
   }
  }
 },
 "nbformat": 4,
 "nbformat_minor": 2
}
