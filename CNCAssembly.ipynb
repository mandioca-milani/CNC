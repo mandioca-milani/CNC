{
 "cells": [
  {
   "cell_type": "code",
   "execution_count": 1,
   "metadata": {},
   "outputs": [],
   "source": [
    "# Document\n",
    "\n",
    "for doc in App.listDocuments():\n",
    "    App.closeDocument(doc)\n",
    "\n",
    "docs = [\n",
    "]\n",
    "\n",
    "for doc in docs:\n",
    "    App.openDocument(os.getcwd() + doc, hidden=True)\n",
    "\n",
    "\n",
    "App.newDocument('CNCAssembly')\n",
    "\n",
    "Gui.ActiveDocument.ActiveView.viewDefaultOrientation()\n",
    "Gui.activateWorkbench(\"PartDesignWorkbench\")\n",
    "\n",
    "# App.ActiveDocument.saveAs('./CNCAssembly.FCStd')\n"
   ]
  }
 ],
 "metadata": {
  "kernelspec": {
   "display_name": "FreeCAD",
   "language": "",
   "name": "freecad"
  },
  "language_info": {
   "file_extension": ".py",
   "mimetype": "text/x-python",
   "name": "python"
  },
  "orig_nbformat": 4,
  "vscode": {
   "interpreter": {
    "hash": "916dbcbb3f70747c44a77c7bcd40155683ae19c65e1c03b4aa3499c5328201f1"
   }
  }
 },
 "nbformat": 4,
 "nbformat_minor": 2
}
